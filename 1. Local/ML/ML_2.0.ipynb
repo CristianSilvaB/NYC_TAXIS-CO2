{
 "cells": [
  {
   "attachments": {},
   "cell_type": "markdown",
   "metadata": {},
   "source": [
    "Importamos las librerias a utilizar"
   ]
  },
  {
   "cell_type": "code",
   "execution_count": 1,
   "metadata": {},
   "outputs": [],
   "source": [
    "import pandas as pd\n",
    "import matplotlib.pyplot as plt\n",
    "import seaborn as sns"
   ]
  },
  {
   "cell_type": "code",
   "execution_count": 2,
   "metadata": {},
   "outputs": [
    {
     "data": {
      "text/html": [
       "<div>\n",
       "<style scoped>\n",
       "    .dataframe tbody tr th:only-of-type {\n",
       "        vertical-align: middle;\n",
       "    }\n",
       "\n",
       "    .dataframe tbody tr th {\n",
       "        vertical-align: top;\n",
       "    }\n",
       "\n",
       "    .dataframe thead th {\n",
       "        text-align: right;\n",
       "    }\n",
       "</style>\n",
       "<table border=\"1\" class=\"dataframe\">\n",
       "  <thead>\n",
       "    <tr style=\"text-align: right;\">\n",
       "      <th></th>\n",
       "      <th>tpep_pickup_datetime</th>\n",
       "      <th>tpep_dropoff_datetime</th>\n",
       "      <th>passenger_count</th>\n",
       "      <th>trip_distance</th>\n",
       "      <th>total_amount</th>\n",
       "      <th>Servicio</th>\n",
       "      <th>Pickup_borough</th>\n",
       "    </tr>\n",
       "  </thead>\n",
       "  <tbody>\n",
       "    <tr>\n",
       "      <th>0</th>\n",
       "      <td>2023-01-01 00:26:10</td>\n",
       "      <td>2023-01-01 00:37:11</td>\n",
       "      <td>1.0</td>\n",
       "      <td>2.58</td>\n",
       "      <td>24.18</td>\n",
       "      <td>Green</td>\n",
       "      <td>Manhattan</td>\n",
       "    </tr>\n",
       "    <tr>\n",
       "      <th>1</th>\n",
       "      <td>2023-01-01 00:51:03</td>\n",
       "      <td>2023-01-01 00:57:49</td>\n",
       "      <td>1.0</td>\n",
       "      <td>1.81</td>\n",
       "      <td>15.84</td>\n",
       "      <td>Green</td>\n",
       "      <td>Manhattan</td>\n",
       "    </tr>\n",
       "    <tr>\n",
       "      <th>2</th>\n",
       "      <td>2023-01-01 00:35:12</td>\n",
       "      <td>2023-01-01 00:41:32</td>\n",
       "      <td>1.0</td>\n",
       "      <td>0.00</td>\n",
       "      <td>11.64</td>\n",
       "      <td>Green</td>\n",
       "      <td>Queens</td>\n",
       "    </tr>\n",
       "    <tr>\n",
       "      <th>3</th>\n",
       "      <td>2023-01-01 00:13:14</td>\n",
       "      <td>2023-01-01 00:19:03</td>\n",
       "      <td>1.0</td>\n",
       "      <td>1.30</td>\n",
       "      <td>10.20</td>\n",
       "      <td>Green</td>\n",
       "      <td>Manhattan</td>\n",
       "    </tr>\n",
       "    <tr>\n",
       "      <th>4</th>\n",
       "      <td>2023-01-01 00:33:04</td>\n",
       "      <td>2023-01-01 00:39:02</td>\n",
       "      <td>1.0</td>\n",
       "      <td>1.10</td>\n",
       "      <td>8.00</td>\n",
       "      <td>Green</td>\n",
       "      <td>Manhattan</td>\n",
       "    </tr>\n",
       "  </tbody>\n",
       "</table>\n",
       "</div>"
      ],
      "text/plain": [
       "  tpep_pickup_datetime tpep_dropoff_datetime  passenger_count  trip_distance  \\\n",
       "0  2023-01-01 00:26:10   2023-01-01 00:37:11              1.0           2.58   \n",
       "1  2023-01-01 00:51:03   2023-01-01 00:57:49              1.0           1.81   \n",
       "2  2023-01-01 00:35:12   2023-01-01 00:41:32              1.0           0.00   \n",
       "3  2023-01-01 00:13:14   2023-01-01 00:19:03              1.0           1.30   \n",
       "4  2023-01-01 00:33:04   2023-01-01 00:39:02              1.0           1.10   \n",
       "\n",
       "   total_amount Servicio Pickup_borough  \n",
       "0         24.18    Green      Manhattan  \n",
       "1         15.84    Green      Manhattan  \n",
       "2         11.64    Green         Queens  \n",
       "3         10.20    Green      Manhattan  \n",
       "4          8.00    Green      Manhattan  "
      ]
     },
     "execution_count": 2,
     "metadata": {},
     "output_type": "execute_result"
    }
   ],
   "source": [
    "taxis = pd.read_parquet('../Data/Normalized/taxis_2023.parquet')\n",
    "taxis.head(5)"
   ]
  },
  {
   "attachments": {},
   "cell_type": "markdown",
   "metadata": {},
   "source": [
    "VAMOS A REALIZAR ALGUNAS TRANSFORMACIONES "
   ]
  },
  {
   "attachments": {},
   "cell_type": "markdown",
   "metadata": {},
   "source": [
    "Voy a separar lo que es las fechas de los horario, lo cual asi luego podamos tener presicion en los resultados"
   ]
  },
  {
   "cell_type": "code",
   "execution_count": 3,
   "metadata": {},
   "outputs": [
    {
     "name": "stdout",
     "output_type": "stream",
     "text": [
      "  tpep_pickup_datetime fecha_inicio horario_inicio tpep_dropoff_datetime  \\\n",
      "0  2023-01-01 00:26:10   2023-01-01       00:26:10   2023-01-01 00:37:11   \n",
      "1  2023-01-01 00:51:03   2023-01-01       00:51:03   2023-01-01 00:57:49   \n",
      "2  2023-01-01 00:35:12   2023-01-01       00:35:12   2023-01-01 00:41:32   \n",
      "3  2023-01-01 00:13:14   2023-01-01       00:13:14   2023-01-01 00:19:03   \n",
      "4  2023-01-01 00:33:04   2023-01-01       00:33:04   2023-01-01 00:39:02   \n",
      "\n",
      "  fecha_final horario_final  \n",
      "0  2023-01-01      00:37:11  \n",
      "1  2023-01-01      00:57:49  \n",
      "2  2023-01-01      00:41:32  \n",
      "3  2023-01-01      00:19:03  \n",
      "4  2023-01-01      00:39:02  \n"
     ]
    }
   ],
   "source": [
    "taxis['fecha_inicio'] = taxis['tpep_pickup_datetime'].dt.date\n",
    "taxis['horario_inicio'] = taxis['tpep_pickup_datetime'].dt.time\n",
    "taxis['fecha_final'] = taxis['tpep_dropoff_datetime'].dt.date\n",
    "taxis['horario_final'] = taxis['tpep_dropoff_datetime'].dt.time\n",
    "\n",
    "print(taxis[['tpep_pickup_datetime', 'fecha_inicio', 'horario_inicio', 'tpep_dropoff_datetime', 'fecha_final', 'horario_final']].head())"
   ]
  },
  {
   "attachments": {},
   "cell_type": "markdown",
   "metadata": {},
   "source": [
    "Procedemos a eliminar las columnas de fechas anteriores"
   ]
  },
  {
   "cell_type": "code",
   "execution_count": 4,
   "metadata": {},
   "outputs": [],
   "source": [
    "taxis = taxis.drop(columns=['tpep_pickup_datetime', 'tpep_dropoff_datetime'])"
   ]
  },
  {
   "cell_type": "code",
   "execution_count": 5,
   "metadata": {},
   "outputs": [
    {
     "data": {
      "text/html": [
       "<div>\n",
       "<style scoped>\n",
       "    .dataframe tbody tr th:only-of-type {\n",
       "        vertical-align: middle;\n",
       "    }\n",
       "\n",
       "    .dataframe tbody tr th {\n",
       "        vertical-align: top;\n",
       "    }\n",
       "\n",
       "    .dataframe thead th {\n",
       "        text-align: right;\n",
       "    }\n",
       "</style>\n",
       "<table border=\"1\" class=\"dataframe\">\n",
       "  <thead>\n",
       "    <tr style=\"text-align: right;\">\n",
       "      <th></th>\n",
       "      <th>passenger_count</th>\n",
       "      <th>trip_distance</th>\n",
       "      <th>total_amount</th>\n",
       "      <th>Servicio</th>\n",
       "      <th>Pickup_borough</th>\n",
       "      <th>fecha_inicio</th>\n",
       "      <th>horario_inicio</th>\n",
       "      <th>fecha_final</th>\n",
       "      <th>horario_final</th>\n",
       "    </tr>\n",
       "  </thead>\n",
       "  <tbody>\n",
       "    <tr>\n",
       "      <th>0</th>\n",
       "      <td>1.0</td>\n",
       "      <td>2.58</td>\n",
       "      <td>24.18</td>\n",
       "      <td>Green</td>\n",
       "      <td>Manhattan</td>\n",
       "      <td>2023-01-01</td>\n",
       "      <td>00:26:10</td>\n",
       "      <td>2023-01-01</td>\n",
       "      <td>00:37:11</td>\n",
       "    </tr>\n",
       "    <tr>\n",
       "      <th>1</th>\n",
       "      <td>1.0</td>\n",
       "      <td>1.81</td>\n",
       "      <td>15.84</td>\n",
       "      <td>Green</td>\n",
       "      <td>Manhattan</td>\n",
       "      <td>2023-01-01</td>\n",
       "      <td>00:51:03</td>\n",
       "      <td>2023-01-01</td>\n",
       "      <td>00:57:49</td>\n",
       "    </tr>\n",
       "    <tr>\n",
       "      <th>2</th>\n",
       "      <td>1.0</td>\n",
       "      <td>0.00</td>\n",
       "      <td>11.64</td>\n",
       "      <td>Green</td>\n",
       "      <td>Queens</td>\n",
       "      <td>2023-01-01</td>\n",
       "      <td>00:35:12</td>\n",
       "      <td>2023-01-01</td>\n",
       "      <td>00:41:32</td>\n",
       "    </tr>\n",
       "    <tr>\n",
       "      <th>3</th>\n",
       "      <td>1.0</td>\n",
       "      <td>1.30</td>\n",
       "      <td>10.20</td>\n",
       "      <td>Green</td>\n",
       "      <td>Manhattan</td>\n",
       "      <td>2023-01-01</td>\n",
       "      <td>00:13:14</td>\n",
       "      <td>2023-01-01</td>\n",
       "      <td>00:19:03</td>\n",
       "    </tr>\n",
       "    <tr>\n",
       "      <th>4</th>\n",
       "      <td>1.0</td>\n",
       "      <td>1.10</td>\n",
       "      <td>8.00</td>\n",
       "      <td>Green</td>\n",
       "      <td>Manhattan</td>\n",
       "      <td>2023-01-01</td>\n",
       "      <td>00:33:04</td>\n",
       "      <td>2023-01-01</td>\n",
       "      <td>00:39:02</td>\n",
       "    </tr>\n",
       "    <tr>\n",
       "      <th>...</th>\n",
       "      <td>...</td>\n",
       "      <td>...</td>\n",
       "      <td>...</td>\n",
       "      <td>...</td>\n",
       "      <td>...</td>\n",
       "      <td>...</td>\n",
       "      <td>...</td>\n",
       "      <td>...</td>\n",
       "      <td>...</td>\n",
       "    </tr>\n",
       "    <tr>\n",
       "      <th>1846358</th>\n",
       "      <td>3.0</td>\n",
       "      <td>2.36</td>\n",
       "      <td>24.72</td>\n",
       "      <td>Yellow</td>\n",
       "      <td>Manhattan</td>\n",
       "      <td>2023-12-21</td>\n",
       "      <td>21:44:02</td>\n",
       "      <td>2023-12-21</td>\n",
       "      <td>21:57:59</td>\n",
       "    </tr>\n",
       "    <tr>\n",
       "      <th>1846359</th>\n",
       "      <td>1.0</td>\n",
       "      <td>0.60</td>\n",
       "      <td>10.90</td>\n",
       "      <td>Yellow</td>\n",
       "      <td>Manhattan</td>\n",
       "      <td>2023-12-13</td>\n",
       "      <td>21:40:15</td>\n",
       "      <td>2023-12-13</td>\n",
       "      <td>21:42:47</td>\n",
       "    </tr>\n",
       "    <tr>\n",
       "      <th>1846360</th>\n",
       "      <td>1.0</td>\n",
       "      <td>3.50</td>\n",
       "      <td>36.60</td>\n",
       "      <td>Yellow</td>\n",
       "      <td>Manhattan</td>\n",
       "      <td>2023-12-12</td>\n",
       "      <td>18:09:08</td>\n",
       "      <td>2023-12-12</td>\n",
       "      <td>18:33:53</td>\n",
       "    </tr>\n",
       "    <tr>\n",
       "      <th>1846361</th>\n",
       "      <td>2.0</td>\n",
       "      <td>1.12</td>\n",
       "      <td>20.00</td>\n",
       "      <td>Yellow</td>\n",
       "      <td>Manhattan</td>\n",
       "      <td>2023-12-14</td>\n",
       "      <td>17:33:01</td>\n",
       "      <td>2023-12-14</td>\n",
       "      <td>17:48:33</td>\n",
       "    </tr>\n",
       "    <tr>\n",
       "      <th>1846362</th>\n",
       "      <td>2.0</td>\n",
       "      <td>0.88</td>\n",
       "      <td>12.90</td>\n",
       "      <td>Yellow</td>\n",
       "      <td>Manhattan</td>\n",
       "      <td>2023-12-20</td>\n",
       "      <td>20:10:27</td>\n",
       "      <td>2023-12-20</td>\n",
       "      <td>20:16:18</td>\n",
       "    </tr>\n",
       "  </tbody>\n",
       "</table>\n",
       "<p>1846363 rows × 9 columns</p>\n",
       "</div>"
      ],
      "text/plain": [
       "         passenger_count  trip_distance  total_amount Servicio Pickup_borough  \\\n",
       "0                    1.0           2.58         24.18    Green      Manhattan   \n",
       "1                    1.0           1.81         15.84    Green      Manhattan   \n",
       "2                    1.0           0.00         11.64    Green         Queens   \n",
       "3                    1.0           1.30         10.20    Green      Manhattan   \n",
       "4                    1.0           1.10          8.00    Green      Manhattan   \n",
       "...                  ...            ...           ...      ...            ...   \n",
       "1846358              3.0           2.36         24.72   Yellow      Manhattan   \n",
       "1846359              1.0           0.60         10.90   Yellow      Manhattan   \n",
       "1846360              1.0           3.50         36.60   Yellow      Manhattan   \n",
       "1846361              2.0           1.12         20.00   Yellow      Manhattan   \n",
       "1846362              2.0           0.88         12.90   Yellow      Manhattan   \n",
       "\n",
       "        fecha_inicio horario_inicio fecha_final horario_final  \n",
       "0         2023-01-01       00:26:10  2023-01-01      00:37:11  \n",
       "1         2023-01-01       00:51:03  2023-01-01      00:57:49  \n",
       "2         2023-01-01       00:35:12  2023-01-01      00:41:32  \n",
       "3         2023-01-01       00:13:14  2023-01-01      00:19:03  \n",
       "4         2023-01-01       00:33:04  2023-01-01      00:39:02  \n",
       "...              ...            ...         ...           ...  \n",
       "1846358   2023-12-21       21:44:02  2023-12-21      21:57:59  \n",
       "1846359   2023-12-13       21:40:15  2023-12-13      21:42:47  \n",
       "1846360   2023-12-12       18:09:08  2023-12-12      18:33:53  \n",
       "1846361   2023-12-14       17:33:01  2023-12-14      17:48:33  \n",
       "1846362   2023-12-20       20:10:27  2023-12-20      20:16:18  \n",
       "\n",
       "[1846363 rows x 9 columns]"
      ]
     },
     "execution_count": 5,
     "metadata": {},
     "output_type": "execute_result"
    }
   ],
   "source": [
    "taxis"
   ]
  },
  {
   "attachments": {},
   "cell_type": "markdown",
   "metadata": {},
   "source": [
    "Vamos a proceder a visualizar columnas por columnas y vamos a eliminar valores que no sean relevantes para el modelo"
   ]
  },
  {
   "cell_type": "code",
   "execution_count": 6,
   "metadata": {},
   "outputs": [
    {
     "data": {
      "text/plain": [
       "array([ 1.,  2.,  4.,  3.,  6.,  5.,  7.,  8.,  9., nan,  0.])"
      ]
     },
     "execution_count": 6,
     "metadata": {},
     "output_type": "execute_result"
    }
   ],
   "source": [
    "taxis['passenger_count'].unique()"
   ]
  },
  {
   "cell_type": "code",
   "execution_count": 7,
   "metadata": {},
   "outputs": [
    {
     "name": "stdout",
     "output_type": "stream",
     "text": [
      "Valores únicos después de la limpieza: [1 2 4 3 6 5 7 8 9]\n"
     ]
    }
   ],
   "source": [
    "taxis = taxis.dropna(subset=['passenger_count'])\n",
    "\n",
    "taxis = taxis.loc[taxis['passenger_count'] != 0]\n",
    "\n",
    "taxis['passenger_count'] = taxis['passenger_count'].astype(int)\n",
    "\n",
    "print(\"Valores únicos después de la limpieza:\", taxis['passenger_count'].unique())"
   ]
  },
  {
   "cell_type": "code",
   "execution_count": 8,
   "metadata": {},
   "outputs": [
    {
     "data": {
      "text/html": [
       "<div>\n",
       "<style scoped>\n",
       "    .dataframe tbody tr th:only-of-type {\n",
       "        vertical-align: middle;\n",
       "    }\n",
       "\n",
       "    .dataframe tbody tr th {\n",
       "        vertical-align: top;\n",
       "    }\n",
       "\n",
       "    .dataframe thead th {\n",
       "        text-align: right;\n",
       "    }\n",
       "</style>\n",
       "<table border=\"1\" class=\"dataframe\">\n",
       "  <thead>\n",
       "    <tr style=\"text-align: right;\">\n",
       "      <th></th>\n",
       "      <th>passenger_count</th>\n",
       "      <th>trip_distance</th>\n",
       "      <th>total_amount</th>\n",
       "      <th>Servicio</th>\n",
       "      <th>Pickup_borough</th>\n",
       "      <th>fecha_inicio</th>\n",
       "      <th>horario_inicio</th>\n",
       "      <th>fecha_final</th>\n",
       "      <th>horario_final</th>\n",
       "    </tr>\n",
       "  </thead>\n",
       "  <tbody>\n",
       "    <tr>\n",
       "      <th>0</th>\n",
       "      <td>1</td>\n",
       "      <td>2.58</td>\n",
       "      <td>24.18</td>\n",
       "      <td>Green</td>\n",
       "      <td>Manhattan</td>\n",
       "      <td>2023-01-01</td>\n",
       "      <td>00:26:10</td>\n",
       "      <td>2023-01-01</td>\n",
       "      <td>00:37:11</td>\n",
       "    </tr>\n",
       "    <tr>\n",
       "      <th>1</th>\n",
       "      <td>1</td>\n",
       "      <td>1.81</td>\n",
       "      <td>15.84</td>\n",
       "      <td>Green</td>\n",
       "      <td>Manhattan</td>\n",
       "      <td>2023-01-01</td>\n",
       "      <td>00:51:03</td>\n",
       "      <td>2023-01-01</td>\n",
       "      <td>00:57:49</td>\n",
       "    </tr>\n",
       "  </tbody>\n",
       "</table>\n",
       "</div>"
      ],
      "text/plain": [
       "   passenger_count  trip_distance  total_amount Servicio Pickup_borough  \\\n",
       "0                1           2.58         24.18    Green      Manhattan   \n",
       "1                1           1.81         15.84    Green      Manhattan   \n",
       "\n",
       "  fecha_inicio horario_inicio fecha_final horario_final  \n",
       "0   2023-01-01       00:26:10  2023-01-01      00:37:11  \n",
       "1   2023-01-01       00:51:03  2023-01-01      00:57:49  "
      ]
     },
     "execution_count": 8,
     "metadata": {},
     "output_type": "execute_result"
    }
   ],
   "source": [
    "taxis.head(2)"
   ]
  },
  {
   "cell_type": "code",
   "execution_count": 9,
   "metadata": {},
   "outputs": [
    {
     "data": {
      "text/plain": [
       "array([2.580000e+00, 1.810000e+00, 0.000000e+00, ..., 4.927000e+01,\n",
       "       1.075447e+04, 3.090000e+01])"
      ]
     },
     "execution_count": 9,
     "metadata": {},
     "output_type": "execute_result"
    }
   ],
   "source": [
    "taxis['trip_distance'].unique()"
   ]
  },
  {
   "cell_type": "code",
   "execution_count": 10,
   "metadata": {},
   "outputs": [
    {
     "name": "stdout",
     "output_type": "stream",
     "text": [
      "count    1.790351e+06\n",
      "mean     3.282464e+00\n",
      "std      3.860948e+01\n",
      "min      0.000000e+00\n",
      "25%      1.090000e+00\n",
      "50%      1.800000e+00\n",
      "75%      3.310000e+00\n",
      "max      2.915188e+04\n",
      "Name: trip_distance, dtype: float64\n"
     ]
    }
   ],
   "source": [
    "print(taxis['trip_distance'].describe())"
   ]
  },
  {
   "cell_type": "code",
   "execution_count": 11,
   "metadata": {},
   "outputs": [],
   "source": [
    "taxis.drop(taxis[taxis['trip_distance'] > 60].index, inplace=True)"
   ]
  },
  {
   "cell_type": "code",
   "execution_count": 12,
   "metadata": {},
   "outputs": [
    {
     "data": {
      "text/plain": [
       "array([ 2.58,  1.81,  0.  , ..., 36.88, 49.27, 30.9 ])"
      ]
     },
     "execution_count": 12,
     "metadata": {},
     "output_type": "execute_result"
    }
   ],
   "source": [
    "taxis['trip_distance'].unique()"
   ]
  },
  {
   "cell_type": "code",
   "execution_count": 13,
   "metadata": {},
   "outputs": [
    {
     "data": {
      "text/plain": [
       "array(['Green', 'Yellow'], dtype=object)"
      ]
     },
     "execution_count": 13,
     "metadata": {},
     "output_type": "execute_result"
    }
   ],
   "source": [
    "taxis['Servicio'].unique()"
   ]
  },
  {
   "cell_type": "code",
   "execution_count": 14,
   "metadata": {},
   "outputs": [
    {
     "data": {
      "text/plain": [
       "array(['Manhattan', 'Queens', 'Brooklyn', 'Staten Island', 'EWR'],\n",
       "      dtype=object)"
      ]
     },
     "execution_count": 14,
     "metadata": {},
     "output_type": "execute_result"
    }
   ],
   "source": [
    "taxis['Pickup_borough'].unique()"
   ]
  },
  {
   "cell_type": "code",
   "execution_count": 15,
   "metadata": {},
   "outputs": [
    {
     "data": {
      "text/plain": [
       "array([datetime.date(2023, 1, 1), datetime.date(2022, 12, 9),\n",
       "       datetime.date(2023, 1, 2), datetime.date(2023, 1, 3),\n",
       "       datetime.date(2023, 1, 4), datetime.date(2023, 1, 5),\n",
       "       datetime.date(2023, 1, 6), datetime.date(2023, 1, 7),\n",
       "       datetime.date(2023, 1, 8), datetime.date(2023, 1, 9),\n",
       "       datetime.date(2023, 1, 10), datetime.date(2009, 1, 1),\n",
       "       datetime.date(2023, 1, 11), datetime.date(2023, 1, 12),\n",
       "       datetime.date(2023, 1, 13), datetime.date(2023, 2, 1),\n",
       "       datetime.date(2023, 1, 14), datetime.date(2023, 1, 15),\n",
       "       datetime.date(2023, 1, 16), datetime.date(2023, 1, 17),\n",
       "       datetime.date(2023, 1, 18), datetime.date(2023, 1, 19),\n",
       "       datetime.date(2023, 1, 20), datetime.date(2023, 1, 21),\n",
       "       datetime.date(2023, 1, 22), datetime.date(2023, 1, 23),\n",
       "       datetime.date(2023, 1, 24), datetime.date(2023, 1, 25),\n",
       "       datetime.date(2023, 1, 26), datetime.date(2023, 1, 27),\n",
       "       datetime.date(2023, 1, 28), datetime.date(2023, 1, 29),\n",
       "       datetime.date(2023, 1, 30), datetime.date(2023, 1, 31),\n",
       "       datetime.date(2023, 2, 2), datetime.date(2023, 2, 3),\n",
       "       datetime.date(2023, 2, 4), datetime.date(2023, 2, 5),\n",
       "       datetime.date(2023, 2, 6), datetime.date(2008, 12, 31),\n",
       "       datetime.date(2023, 2, 7), datetime.date(2023, 2, 8),\n",
       "       datetime.date(2023, 2, 9), datetime.date(2023, 2, 10),\n",
       "       datetime.date(2023, 2, 11), datetime.date(2023, 2, 12),\n",
       "       datetime.date(2023, 2, 13), datetime.date(2023, 2, 14),\n",
       "       datetime.date(2023, 2, 15), datetime.date(2023, 2, 16),\n",
       "       datetime.date(2023, 2, 17), datetime.date(2023, 2, 18),\n",
       "       datetime.date(2023, 2, 19), datetime.date(2023, 2, 20),\n",
       "       datetime.date(2023, 2, 21), datetime.date(2023, 2, 22),\n",
       "       datetime.date(2023, 2, 23), datetime.date(2023, 2, 24),\n",
       "       datetime.date(2023, 2, 25), datetime.date(2023, 2, 26),\n",
       "       datetime.date(2023, 2, 27), datetime.date(2023, 2, 28),\n",
       "       datetime.date(2023, 3, 1), datetime.date(2023, 3, 2),\n",
       "       datetime.date(2023, 3, 3), datetime.date(2023, 3, 4),\n",
       "       datetime.date(2023, 3, 5), datetime.date(2023, 3, 6),\n",
       "       datetime.date(2023, 3, 7), datetime.date(2023, 3, 8),\n",
       "       datetime.date(2023, 3, 9), datetime.date(2023, 3, 10),\n",
       "       datetime.date(2023, 3, 11), datetime.date(2023, 3, 12),\n",
       "       datetime.date(2023, 3, 13), datetime.date(2023, 3, 14),\n",
       "       datetime.date(2023, 3, 15), datetime.date(2023, 3, 16),\n",
       "       datetime.date(2023, 3, 17), datetime.date(2023, 3, 18),\n",
       "       datetime.date(2023, 3, 19), datetime.date(2023, 3, 20),\n",
       "       datetime.date(2023, 3, 21), datetime.date(2023, 3, 22),\n",
       "       datetime.date(2023, 3, 23), datetime.date(2023, 3, 24),\n",
       "       datetime.date(2023, 3, 25), datetime.date(2023, 3, 26),\n",
       "       datetime.date(2023, 3, 27), datetime.date(2023, 3, 28),\n",
       "       datetime.date(2023, 3, 29), datetime.date(2023, 3, 30),\n",
       "       datetime.date(2023, 3, 31), datetime.date(2023, 4, 1),\n",
       "       datetime.date(2023, 4, 2), datetime.date(2023, 4, 3),\n",
       "       datetime.date(2023, 4, 4), datetime.date(2023, 4, 5),\n",
       "       datetime.date(2023, 4, 6), datetime.date(2023, 4, 7),\n",
       "       datetime.date(2023, 4, 8), datetime.date(2023, 4, 9),\n",
       "       datetime.date(2023, 4, 10), datetime.date(2023, 4, 11),\n",
       "       datetime.date(2023, 4, 12), datetime.date(2023, 4, 13),\n",
       "       datetime.date(2023, 4, 14), datetime.date(2023, 4, 15),\n",
       "       datetime.date(2023, 4, 16), datetime.date(2023, 4, 17),\n",
       "       datetime.date(2023, 4, 18), datetime.date(2023, 4, 19),\n",
       "       datetime.date(2023, 4, 20), datetime.date(2023, 4, 21),\n",
       "       datetime.date(2023, 4, 22), datetime.date(2023, 4, 23),\n",
       "       datetime.date(2023, 4, 24), datetime.date(2023, 4, 25),\n",
       "       datetime.date(2023, 4, 26), datetime.date(2023, 4, 27),\n",
       "       datetime.date(2023, 4, 28), datetime.date(2023, 4, 29),\n",
       "       datetime.date(2023, 4, 30), datetime.date(2023, 5, 1),\n",
       "       datetime.date(2023, 5, 2), datetime.date(2023, 5, 3),\n",
       "       datetime.date(2023, 5, 4), datetime.date(2023, 5, 5),\n",
       "       datetime.date(2023, 5, 6), datetime.date(2023, 5, 7),\n",
       "       datetime.date(2023, 5, 8), datetime.date(2023, 5, 9),\n",
       "       datetime.date(2023, 5, 10), datetime.date(2023, 5, 11),\n",
       "       datetime.date(2023, 5, 12), datetime.date(2023, 5, 13),\n",
       "       datetime.date(2023, 5, 14), datetime.date(2023, 5, 15),\n",
       "       datetime.date(2023, 5, 16), datetime.date(2023, 5, 17),\n",
       "       datetime.date(2023, 5, 18), datetime.date(2023, 5, 19),\n",
       "       datetime.date(2023, 5, 24), datetime.date(2023, 5, 20),\n",
       "       datetime.date(2023, 5, 21), datetime.date(2023, 5, 22),\n",
       "       datetime.date(2023, 5, 23), datetime.date(2023, 5, 25),\n",
       "       datetime.date(2023, 5, 26), datetime.date(2023, 5, 27),\n",
       "       datetime.date(2023, 5, 28), datetime.date(2023, 5, 29),\n",
       "       datetime.date(2023, 5, 30), datetime.date(2023, 6, 5),\n",
       "       datetime.date(2023, 6, 6), datetime.date(2023, 5, 31),\n",
       "       datetime.date(2023, 6, 1), datetime.date(2023, 6, 2),\n",
       "       datetime.date(2023, 6, 3), datetime.date(2023, 6, 4),\n",
       "       datetime.date(2023, 6, 7), datetime.date(2023, 6, 8),\n",
       "       datetime.date(2023, 6, 9), datetime.date(2023, 6, 10),\n",
       "       datetime.date(2023, 6, 11), datetime.date(2023, 6, 12),\n",
       "       datetime.date(2023, 6, 15), datetime.date(2023, 6, 13),\n",
       "       datetime.date(2023, 6, 16), datetime.date(2023, 6, 14),\n",
       "       datetime.date(2023, 6, 17), datetime.date(2023, 6, 18),\n",
       "       datetime.date(2023, 6, 19), datetime.date(2023, 6, 20),\n",
       "       datetime.date(2023, 6, 21), datetime.date(2023, 6, 22),\n",
       "       datetime.date(2023, 6, 23), datetime.date(2023, 6, 24),\n",
       "       datetime.date(2023, 6, 25), datetime.date(2023, 6, 26),\n",
       "       datetime.date(2023, 6, 27), datetime.date(2023, 6, 28),\n",
       "       datetime.date(2023, 6, 29), datetime.date(2023, 6, 30),\n",
       "       datetime.date(2023, 7, 1), datetime.date(2023, 7, 2),\n",
       "       datetime.date(2023, 7, 3), datetime.date(2023, 7, 4),\n",
       "       datetime.date(2023, 7, 5), datetime.date(2023, 7, 6),\n",
       "       datetime.date(2023, 7, 7), datetime.date(2023, 7, 8),\n",
       "       datetime.date(2023, 7, 9), datetime.date(2023, 7, 10),\n",
       "       datetime.date(2023, 7, 11), datetime.date(2023, 7, 12),\n",
       "       datetime.date(2023, 7, 13), datetime.date(2023, 7, 14),\n",
       "       datetime.date(2023, 7, 15), datetime.date(2023, 7, 16),\n",
       "       datetime.date(2023, 7, 17), datetime.date(2023, 7, 18),\n",
       "       datetime.date(2023, 7, 19), datetime.date(2023, 7, 20),\n",
       "       datetime.date(2023, 7, 21), datetime.date(2023, 7, 22),\n",
       "       datetime.date(2023, 7, 23), datetime.date(2023, 7, 24),\n",
       "       datetime.date(2023, 7, 25), datetime.date(2023, 7, 26),\n",
       "       datetime.date(2023, 7, 27), datetime.date(2023, 7, 28),\n",
       "       datetime.date(2023, 7, 29), datetime.date(2023, 7, 30),\n",
       "       datetime.date(2023, 7, 31), datetime.date(2023, 8, 1),\n",
       "       datetime.date(2023, 8, 2), datetime.date(2023, 8, 3),\n",
       "       datetime.date(2023, 8, 4), datetime.date(2023, 8, 5),\n",
       "       datetime.date(2023, 8, 6), datetime.date(2023, 8, 7),\n",
       "       datetime.date(2023, 8, 8), datetime.date(2023, 8, 9),\n",
       "       datetime.date(2023, 8, 10), datetime.date(2023, 8, 11),\n",
       "       datetime.date(2023, 8, 12), datetime.date(2023, 8, 13),\n",
       "       datetime.date(2023, 8, 14), datetime.date(2023, 8, 15),\n",
       "       datetime.date(2023, 8, 16), datetime.date(2023, 8, 17),\n",
       "       datetime.date(2023, 8, 18), datetime.date(2023, 8, 19),\n",
       "       datetime.date(2023, 8, 20), datetime.date(2023, 8, 21),\n",
       "       datetime.date(2023, 8, 22), datetime.date(2023, 8, 23),\n",
       "       datetime.date(2023, 8, 24), datetime.date(2023, 8, 25),\n",
       "       datetime.date(2023, 8, 26), datetime.date(2023, 8, 27),\n",
       "       datetime.date(2023, 8, 28), datetime.date(2023, 8, 29),\n",
       "       datetime.date(2023, 8, 30), datetime.date(2023, 8, 31),\n",
       "       datetime.date(2023, 9, 1), datetime.date(2023, 9, 2),\n",
       "       datetime.date(2023, 9, 3), datetime.date(2023, 9, 4),\n",
       "       datetime.date(2023, 9, 5), datetime.date(2023, 9, 6),\n",
       "       datetime.date(2023, 9, 7), datetime.date(2023, 9, 8),\n",
       "       datetime.date(2023, 9, 9), datetime.date(2023, 9, 10),\n",
       "       datetime.date(2023, 9, 11), datetime.date(2023, 9, 12),\n",
       "       datetime.date(2023, 9, 13), datetime.date(2023, 9, 14),\n",
       "       datetime.date(2023, 9, 15), datetime.date(2023, 9, 16),\n",
       "       datetime.date(2023, 9, 17), datetime.date(2023, 9, 18),\n",
       "       datetime.date(2023, 9, 19), datetime.date(2023, 9, 20),\n",
       "       datetime.date(2023, 9, 21), datetime.date(2023, 9, 22),\n",
       "       datetime.date(2023, 9, 23), datetime.date(2023, 9, 24),\n",
       "       datetime.date(2023, 9, 25), datetime.date(2023, 9, 26),\n",
       "       datetime.date(2023, 9, 27), datetime.date(2023, 9, 28),\n",
       "       datetime.date(2023, 9, 29), datetime.date(2023, 9, 30),\n",
       "       datetime.date(2023, 10, 1), datetime.date(2023, 10, 2),\n",
       "       datetime.date(2023, 10, 3), datetime.date(2023, 10, 4),\n",
       "       datetime.date(2023, 10, 5), datetime.date(2023, 10, 6),\n",
       "       datetime.date(2023, 10, 7), datetime.date(2023, 10, 8),\n",
       "       datetime.date(2023, 10, 9), datetime.date(2023, 10, 10),\n",
       "       datetime.date(2023, 10, 11), datetime.date(2023, 10, 12),\n",
       "       datetime.date(2023, 10, 13), datetime.date(2023, 10, 14),\n",
       "       datetime.date(2023, 10, 15), datetime.date(2023, 10, 16),\n",
       "       datetime.date(2023, 10, 17), datetime.date(2023, 10, 22),\n",
       "       datetime.date(2023, 10, 18), datetime.date(2023, 10, 19),\n",
       "       datetime.date(2023, 10, 20), datetime.date(2023, 10, 21),\n",
       "       datetime.date(2023, 10, 23), datetime.date(2023, 10, 24),\n",
       "       datetime.date(2023, 10, 25), datetime.date(2023, 10, 26),\n",
       "       datetime.date(2023, 10, 27), datetime.date(2023, 10, 28),\n",
       "       datetime.date(2023, 10, 29), datetime.date(2023, 10, 30),\n",
       "       datetime.date(2023, 10, 31), datetime.date(2023, 11, 1),\n",
       "       datetime.date(2023, 11, 2), datetime.date(2023, 11, 3),\n",
       "       datetime.date(2023, 11, 4), datetime.date(2023, 11, 5),\n",
       "       datetime.date(2023, 11, 6), datetime.date(2023, 11, 7),\n",
       "       datetime.date(2023, 11, 8), datetime.date(2023, 11, 9),\n",
       "       datetime.date(2023, 11, 10), datetime.date(2023, 11, 11),\n",
       "       datetime.date(2023, 11, 12), datetime.date(2023, 11, 13),\n",
       "       datetime.date(2023, 11, 14), datetime.date(2023, 11, 15),\n",
       "       datetime.date(2023, 11, 16), datetime.date(2023, 11, 17),\n",
       "       datetime.date(2023, 11, 18), datetime.date(2023, 11, 19),\n",
       "       datetime.date(2023, 11, 20), datetime.date(2023, 11, 21),\n",
       "       datetime.date(2023, 11, 22), datetime.date(2023, 11, 23),\n",
       "       datetime.date(2023, 11, 24), datetime.date(2023, 11, 25),\n",
       "       datetime.date(2023, 11, 26), datetime.date(2023, 11, 27),\n",
       "       datetime.date(2023, 11, 28), datetime.date(2023, 11, 29),\n",
       "       datetime.date(2023, 11, 30), datetime.date(2023, 12, 1),\n",
       "       datetime.date(2023, 12, 2), datetime.date(2023, 12, 3),\n",
       "       datetime.date(2023, 12, 4), datetime.date(2023, 12, 5),\n",
       "       datetime.date(2023, 12, 6), datetime.date(2023, 12, 7),\n",
       "       datetime.date(2023, 12, 8), datetime.date(2023, 12, 9),\n",
       "       datetime.date(2023, 12, 10), datetime.date(2023, 12, 11),\n",
       "       datetime.date(2023, 12, 12), datetime.date(2023, 12, 13),\n",
       "       datetime.date(2023, 12, 14), datetime.date(2023, 12, 15),\n",
       "       datetime.date(2023, 12, 16), datetime.date(2023, 12, 17),\n",
       "       datetime.date(2023, 12, 18), datetime.date(2023, 12, 19),\n",
       "       datetime.date(2023, 12, 20), datetime.date(2023, 12, 21),\n",
       "       datetime.date(2023, 12, 22), datetime.date(2023, 12, 23),\n",
       "       datetime.date(2023, 12, 24), datetime.date(2023, 12, 25),\n",
       "       datetime.date(2023, 12, 26), datetime.date(2023, 12, 27),\n",
       "       datetime.date(2023, 12, 28), datetime.date(2023, 12, 29),\n",
       "       datetime.date(2023, 12, 30), datetime.date(2023, 12, 31),\n",
       "       datetime.date(2022, 12, 31)], dtype=object)"
      ]
     },
     "execution_count": 15,
     "metadata": {},
     "output_type": "execute_result"
    }
   ],
   "source": [
    "taxis['fecha_inicio'].unique()"
   ]
  },
  {
   "attachments": {},
   "cell_type": "markdown",
   "metadata": {},
   "source": [
    "Vamos a buscar quedarnos con la hora en formato entero"
   ]
  },
  {
   "cell_type": "code",
   "execution_count": 16,
   "metadata": {},
   "outputs": [
    {
     "data": {
      "text/plain": [
       "array([datetime.time(0, 26, 10), datetime.time(0, 51, 3),\n",
       "       datetime.time(0, 35, 12), ..., datetime.time(5, 14, 58),\n",
       "       datetime.time(2, 52, 53), datetime.time(4, 56, 34)], dtype=object)"
      ]
     },
     "execution_count": 16,
     "metadata": {},
     "output_type": "execute_result"
    }
   ],
   "source": [
    "taxis['horario_inicio'].unique()"
   ]
  },
  {
   "cell_type": "code",
   "execution_count": 17,
   "metadata": {},
   "outputs": [
    {
     "name": "stdout",
     "output_type": "stream",
     "text": [
      "  horario_inicio  hora_inicio\n",
      "0       00:26:10            0\n",
      "1       00:51:03            0\n",
      "2       00:35:12            0\n",
      "3       00:13:14            0\n",
      "4       00:33:04            0\n"
     ]
    }
   ],
   "source": [
    "taxis['horario_inicio'] = taxis['horario_inicio'].astype(str)\n",
    "\n",
    "taxis['hora_inicio'] = taxis['horario_inicio'].str.split(':').str[0]\n",
    "\n",
    "taxis['hora_inicio'] = taxis['hora_inicio'].astype(int)\n",
    "\n",
    "print(taxis[['horario_inicio', 'hora_inicio']].head())\n"
   ]
  },
  {
   "cell_type": "code",
   "execution_count": 18,
   "metadata": {},
   "outputs": [
    {
     "data": {
      "text/plain": [
       "array([ 0,  1,  2,  3,  4,  5,  6,  7, 14,  8,  9, 10, 11, 12, 13, 15, 16,\n",
       "       17, 18, 19, 20, 21, 22, 23])"
      ]
     },
     "execution_count": 18,
     "metadata": {},
     "output_type": "execute_result"
    }
   ],
   "source": [
    "taxis['hora_inicio'].unique()"
   ]
  },
  {
   "cell_type": "code",
   "execution_count": 19,
   "metadata": {},
   "outputs": [
    {
     "data": {
      "text/plain": [
       "array([datetime.date(2023, 1, 1), datetime.date(2023, 1, 2),\n",
       "       datetime.date(2022, 12, 9), datetime.date(2023, 1, 3),\n",
       "       datetime.date(2023, 1, 4), datetime.date(2023, 1, 5),\n",
       "       datetime.date(2023, 1, 6), datetime.date(2023, 1, 7),\n",
       "       datetime.date(2023, 1, 8), datetime.date(2023, 1, 9),\n",
       "       datetime.date(2023, 1, 10), datetime.date(2023, 1, 11),\n",
       "       datetime.date(2009, 1, 2), datetime.date(2023, 1, 12),\n",
       "       datetime.date(2023, 1, 13), datetime.date(2023, 1, 14),\n",
       "       datetime.date(2023, 2, 1), datetime.date(2023, 1, 15),\n",
       "       datetime.date(2023, 1, 16), datetime.date(2023, 1, 17),\n",
       "       datetime.date(2023, 1, 18), datetime.date(2023, 1, 19),\n",
       "       datetime.date(2023, 1, 20), datetime.date(2023, 1, 21),\n",
       "       datetime.date(2023, 1, 22), datetime.date(2023, 1, 23),\n",
       "       datetime.date(2023, 1, 24), datetime.date(2023, 1, 25),\n",
       "       datetime.date(2023, 1, 26), datetime.date(2023, 1, 27),\n",
       "       datetime.date(2023, 1, 28), datetime.date(2023, 1, 29),\n",
       "       datetime.date(2023, 1, 30), datetime.date(2023, 1, 31),\n",
       "       datetime.date(2023, 2, 2), datetime.date(2023, 2, 3),\n",
       "       datetime.date(2023, 2, 4), datetime.date(2023, 2, 5),\n",
       "       datetime.date(2023, 2, 6), datetime.date(2023, 2, 7),\n",
       "       datetime.date(2009, 1, 1), datetime.date(2023, 2, 8),\n",
       "       datetime.date(2023, 2, 9), datetime.date(2023, 2, 10),\n",
       "       datetime.date(2023, 2, 11), datetime.date(2023, 2, 12),\n",
       "       datetime.date(2023, 2, 13), datetime.date(2023, 2, 14),\n",
       "       datetime.date(2023, 2, 15), datetime.date(2023, 2, 16),\n",
       "       datetime.date(2023, 2, 17), datetime.date(2023, 2, 18),\n",
       "       datetime.date(2023, 2, 19), datetime.date(2023, 2, 20),\n",
       "       datetime.date(2023, 2, 21), datetime.date(2023, 2, 22),\n",
       "       datetime.date(2023, 2, 23), datetime.date(2023, 2, 24),\n",
       "       datetime.date(2023, 2, 25), datetime.date(2023, 2, 26),\n",
       "       datetime.date(2023, 2, 27), datetime.date(2023, 2, 28),\n",
       "       datetime.date(2023, 3, 1), datetime.date(2023, 3, 2),\n",
       "       datetime.date(2023, 3, 3), datetime.date(2023, 3, 4),\n",
       "       datetime.date(2023, 3, 5), datetime.date(2023, 3, 6),\n",
       "       datetime.date(2023, 3, 7), datetime.date(2023, 3, 8),\n",
       "       datetime.date(2023, 3, 9), datetime.date(2023, 3, 10),\n",
       "       datetime.date(2023, 3, 11), datetime.date(2023, 3, 12),\n",
       "       datetime.date(2023, 3, 13), datetime.date(2023, 3, 14),\n",
       "       datetime.date(2023, 3, 15), datetime.date(2023, 3, 16),\n",
       "       datetime.date(2023, 3, 17), datetime.date(2023, 3, 18),\n",
       "       datetime.date(2023, 3, 19), datetime.date(2023, 3, 20),\n",
       "       datetime.date(2023, 3, 21), datetime.date(2023, 3, 22),\n",
       "       datetime.date(2023, 3, 23), datetime.date(2023, 3, 24),\n",
       "       datetime.date(2023, 3, 25), datetime.date(2023, 3, 26),\n",
       "       datetime.date(2023, 3, 27), datetime.date(2023, 3, 28),\n",
       "       datetime.date(2023, 3, 29), datetime.date(2023, 3, 30),\n",
       "       datetime.date(2023, 3, 31), datetime.date(2023, 4, 1),\n",
       "       datetime.date(2023, 4, 2), datetime.date(2023, 4, 3),\n",
       "       datetime.date(2023, 4, 4), datetime.date(2023, 4, 5),\n",
       "       datetime.date(2023, 4, 6), datetime.date(2023, 4, 7),\n",
       "       datetime.date(2023, 4, 8), datetime.date(2023, 4, 9),\n",
       "       datetime.date(2023, 4, 10), datetime.date(2023, 4, 11),\n",
       "       datetime.date(2023, 4, 12), datetime.date(2023, 4, 13),\n",
       "       datetime.date(2023, 4, 14), datetime.date(2023, 4, 15),\n",
       "       datetime.date(2023, 4, 16), datetime.date(2023, 4, 17),\n",
       "       datetime.date(2023, 4, 18), datetime.date(2023, 4, 19),\n",
       "       datetime.date(2023, 4, 20), datetime.date(2023, 4, 21),\n",
       "       datetime.date(2023, 4, 22), datetime.date(2023, 4, 23),\n",
       "       datetime.date(2023, 4, 24), datetime.date(2023, 4, 25),\n",
       "       datetime.date(2023, 4, 26), datetime.date(2023, 4, 27),\n",
       "       datetime.date(2023, 4, 28), datetime.date(2023, 4, 29),\n",
       "       datetime.date(2023, 4, 30), datetime.date(2023, 5, 1),\n",
       "       datetime.date(2023, 5, 2), datetime.date(2023, 5, 3),\n",
       "       datetime.date(2023, 5, 4), datetime.date(2008, 12, 31),\n",
       "       datetime.date(2023, 5, 5), datetime.date(2023, 5, 6),\n",
       "       datetime.date(2023, 5, 7), datetime.date(2023, 5, 8),\n",
       "       datetime.date(2023, 5, 9), datetime.date(2023, 5, 10),\n",
       "       datetime.date(2023, 5, 11), datetime.date(2023, 5, 12),\n",
       "       datetime.date(2023, 5, 13), datetime.date(2023, 5, 14),\n",
       "       datetime.date(2023, 5, 15), datetime.date(2023, 5, 16),\n",
       "       datetime.date(2023, 5, 17), datetime.date(2023, 5, 18),\n",
       "       datetime.date(2023, 5, 19), datetime.date(2023, 5, 20),\n",
       "       datetime.date(2023, 5, 24), datetime.date(2023, 5, 21),\n",
       "       datetime.date(2023, 5, 22), datetime.date(2023, 5, 23),\n",
       "       datetime.date(2023, 5, 25), datetime.date(2023, 5, 26),\n",
       "       datetime.date(2023, 5, 27), datetime.date(2023, 5, 28),\n",
       "       datetime.date(2023, 5, 29), datetime.date(2023, 5, 30),\n",
       "       datetime.date(2023, 5, 31), datetime.date(2023, 6, 5),\n",
       "       datetime.date(2023, 6, 6), datetime.date(2023, 6, 1),\n",
       "       datetime.date(2023, 6, 2), datetime.date(2023, 6, 3),\n",
       "       datetime.date(2023, 6, 4), datetime.date(2023, 6, 7),\n",
       "       datetime.date(2023, 6, 8), datetime.date(2023, 6, 9),\n",
       "       datetime.date(2023, 6, 10), datetime.date(2023, 6, 11),\n",
       "       datetime.date(2023, 6, 12), datetime.date(2023, 6, 13),\n",
       "       datetime.date(2023, 6, 15), datetime.date(2023, 6, 14),\n",
       "       datetime.date(2023, 6, 16), datetime.date(2023, 6, 17),\n",
       "       datetime.date(2023, 6, 18), datetime.date(2023, 6, 19),\n",
       "       datetime.date(2023, 6, 20), datetime.date(2023, 6, 21),\n",
       "       datetime.date(2023, 6, 22), datetime.date(2023, 6, 23),\n",
       "       datetime.date(2023, 6, 24), datetime.date(2023, 6, 25),\n",
       "       datetime.date(2023, 6, 26), datetime.date(2023, 6, 27),\n",
       "       datetime.date(2023, 6, 28), datetime.date(2023, 6, 29),\n",
       "       datetime.date(2023, 6, 30), datetime.date(2023, 7, 1),\n",
       "       datetime.date(2023, 7, 2), datetime.date(2023, 7, 3),\n",
       "       datetime.date(2023, 7, 4), datetime.date(2023, 7, 5),\n",
       "       datetime.date(2023, 7, 6), datetime.date(2023, 7, 7),\n",
       "       datetime.date(2023, 7, 8), datetime.date(2023, 7, 9),\n",
       "       datetime.date(2023, 7, 10), datetime.date(2023, 7, 11),\n",
       "       datetime.date(2023, 7, 12), datetime.date(2023, 7, 13),\n",
       "       datetime.date(2023, 7, 14), datetime.date(2023, 7, 15),\n",
       "       datetime.date(2023, 7, 16), datetime.date(2023, 7, 17),\n",
       "       datetime.date(2023, 7, 18), datetime.date(2023, 7, 19),\n",
       "       datetime.date(2023, 7, 20), datetime.date(2023, 7, 21),\n",
       "       datetime.date(2023, 7, 22), datetime.date(2023, 7, 23),\n",
       "       datetime.date(2023, 7, 24), datetime.date(2023, 7, 25),\n",
       "       datetime.date(2023, 7, 26), datetime.date(2023, 7, 27),\n",
       "       datetime.date(2023, 7, 28), datetime.date(2023, 7, 29),\n",
       "       datetime.date(2023, 7, 30), datetime.date(2023, 7, 31),\n",
       "       datetime.date(2023, 8, 1), datetime.date(2023, 8, 2),\n",
       "       datetime.date(2023, 8, 3), datetime.date(2023, 8, 4),\n",
       "       datetime.date(2023, 8, 5), datetime.date(2023, 8, 6),\n",
       "       datetime.date(2023, 8, 7), datetime.date(2023, 8, 8),\n",
       "       datetime.date(2023, 8, 9), datetime.date(2023, 8, 10),\n",
       "       datetime.date(2023, 8, 11), datetime.date(2023, 8, 12),\n",
       "       datetime.date(2023, 8, 13), datetime.date(2023, 8, 14),\n",
       "       datetime.date(2023, 8, 15), datetime.date(2023, 8, 16),\n",
       "       datetime.date(2023, 8, 17), datetime.date(2023, 8, 18),\n",
       "       datetime.date(2023, 8, 19), datetime.date(2023, 8, 20),\n",
       "       datetime.date(2023, 8, 21), datetime.date(2023, 8, 22),\n",
       "       datetime.date(2023, 8, 23), datetime.date(2023, 8, 24),\n",
       "       datetime.date(2023, 8, 25), datetime.date(2023, 8, 26),\n",
       "       datetime.date(2023, 8, 27), datetime.date(2023, 8, 28),\n",
       "       datetime.date(2023, 8, 29), datetime.date(2023, 8, 30),\n",
       "       datetime.date(2023, 8, 31), datetime.date(2023, 9, 1),\n",
       "       datetime.date(2023, 9, 2), datetime.date(2023, 9, 3),\n",
       "       datetime.date(2023, 9, 4), datetime.date(2023, 9, 5),\n",
       "       datetime.date(2023, 9, 6), datetime.date(2023, 9, 7),\n",
       "       datetime.date(2023, 9, 8), datetime.date(2023, 9, 9),\n",
       "       datetime.date(2023, 9, 10), datetime.date(2023, 9, 11),\n",
       "       datetime.date(2023, 9, 12), datetime.date(2023, 9, 13),\n",
       "       datetime.date(2023, 9, 14), datetime.date(2023, 9, 15),\n",
       "       datetime.date(2023, 9, 16), datetime.date(2023, 9, 17),\n",
       "       datetime.date(2023, 9, 18), datetime.date(2023, 9, 19),\n",
       "       datetime.date(2023, 9, 20), datetime.date(2023, 9, 21),\n",
       "       datetime.date(2023, 9, 22), datetime.date(2023, 9, 23),\n",
       "       datetime.date(2023, 9, 24), datetime.date(2023, 9, 25),\n",
       "       datetime.date(2023, 9, 26), datetime.date(2023, 9, 27),\n",
       "       datetime.date(2023, 9, 28), datetime.date(2023, 9, 29),\n",
       "       datetime.date(2023, 9, 30), datetime.date(2023, 10, 1),\n",
       "       datetime.date(2023, 10, 2), datetime.date(2023, 10, 3),\n",
       "       datetime.date(2023, 10, 4), datetime.date(2023, 10, 5),\n",
       "       datetime.date(2023, 10, 6), datetime.date(2023, 10, 7),\n",
       "       datetime.date(2023, 10, 8), datetime.date(2023, 10, 9),\n",
       "       datetime.date(2023, 10, 10), datetime.date(2023, 10, 11),\n",
       "       datetime.date(2023, 10, 12), datetime.date(2023, 10, 13),\n",
       "       datetime.date(2023, 10, 14), datetime.date(2023, 10, 15),\n",
       "       datetime.date(2023, 10, 16), datetime.date(2023, 10, 17),\n",
       "       datetime.date(2023, 10, 18), datetime.date(2023, 10, 22),\n",
       "       datetime.date(2023, 10, 19), datetime.date(2023, 10, 20),\n",
       "       datetime.date(2023, 10, 21), datetime.date(2023, 10, 23),\n",
       "       datetime.date(2023, 10, 24), datetime.date(2023, 10, 25),\n",
       "       datetime.date(2023, 10, 26), datetime.date(2023, 10, 27),\n",
       "       datetime.date(2023, 10, 28), datetime.date(2023, 10, 29),\n",
       "       datetime.date(2023, 10, 30), datetime.date(2023, 10, 31),\n",
       "       datetime.date(2023, 11, 1), datetime.date(2023, 11, 2),\n",
       "       datetime.date(2023, 11, 3), datetime.date(2023, 11, 4),\n",
       "       datetime.date(2023, 11, 5), datetime.date(2023, 11, 6),\n",
       "       datetime.date(2023, 11, 7), datetime.date(2023, 11, 8),\n",
       "       datetime.date(2023, 11, 9), datetime.date(2023, 11, 10),\n",
       "       datetime.date(2023, 11, 11), datetime.date(2023, 11, 12),\n",
       "       datetime.date(2023, 11, 13), datetime.date(2023, 11, 14),\n",
       "       datetime.date(2023, 11, 15), datetime.date(2023, 11, 16),\n",
       "       datetime.date(2023, 11, 17), datetime.date(2023, 11, 18),\n",
       "       datetime.date(2023, 11, 19), datetime.date(2023, 11, 20),\n",
       "       datetime.date(2023, 11, 21), datetime.date(2023, 11, 22),\n",
       "       datetime.date(2023, 11, 23), datetime.date(2023, 11, 24),\n",
       "       datetime.date(2023, 11, 25), datetime.date(2023, 11, 26),\n",
       "       datetime.date(2023, 11, 27), datetime.date(2023, 11, 28),\n",
       "       datetime.date(2023, 11, 29), datetime.date(2023, 11, 30),\n",
       "       datetime.date(2023, 12, 1), datetime.date(2023, 12, 2),\n",
       "       datetime.date(2023, 12, 3), datetime.date(2023, 12, 4),\n",
       "       datetime.date(2023, 12, 5), datetime.date(2023, 12, 6),\n",
       "       datetime.date(2023, 12, 7), datetime.date(2023, 12, 8),\n",
       "       datetime.date(2023, 12, 9), datetime.date(2023, 12, 10),\n",
       "       datetime.date(2023, 12, 11), datetime.date(2023, 12, 12),\n",
       "       datetime.date(2023, 12, 13), datetime.date(2023, 12, 14),\n",
       "       datetime.date(2023, 12, 15), datetime.date(2023, 12, 16),\n",
       "       datetime.date(2023, 12, 17), datetime.date(2023, 12, 18),\n",
       "       datetime.date(2023, 12, 19), datetime.date(2023, 12, 20),\n",
       "       datetime.date(2023, 12, 21), datetime.date(2023, 12, 22),\n",
       "       datetime.date(2023, 12, 23), datetime.date(2023, 12, 24),\n",
       "       datetime.date(2023, 12, 25), datetime.date(2023, 12, 26),\n",
       "       datetime.date(2023, 12, 27), datetime.date(2023, 12, 28),\n",
       "       datetime.date(2023, 12, 29), datetime.date(2023, 12, 30),\n",
       "       datetime.date(2023, 12, 31), datetime.date(2024, 1, 1),\n",
       "       datetime.date(2022, 12, 31)], dtype=object)"
      ]
     },
     "execution_count": 19,
     "metadata": {},
     "output_type": "execute_result"
    }
   ],
   "source": [
    "taxis['fecha_final'].unique()"
   ]
  },
  {
   "attachments": {},
   "cell_type": "markdown",
   "metadata": {},
   "source": [
    "Tambien vamos a realizar lo mismo que hora_inico con horario final"
   ]
  },
  {
   "cell_type": "code",
   "execution_count": 20,
   "metadata": {},
   "outputs": [
    {
     "name": "stdout",
     "output_type": "stream",
     "text": [
      "  horario_final  hora_final\n",
      "0      00:37:11           0\n",
      "1      00:57:49           0\n",
      "2      00:41:32           0\n",
      "3      00:19:03           0\n",
      "4      00:39:02           0\n"
     ]
    }
   ],
   "source": [
    "taxis['horario_final'] = taxis['horario_final'].astype(str)\n",
    "\n",
    "taxis['hora_final'] = taxis['horario_final'].str.split(':').str[0]\n",
    "\n",
    "taxis['hora_final'] = taxis['hora_final'].astype(int)\n",
    "print(taxis[['horario_final', 'hora_final']].head())\n"
   ]
  },
  {
   "attachments": {},
   "cell_type": "markdown",
   "metadata": {},
   "source": [
    "Procedemos a eliminar las columas que no vamos a utilizar"
   ]
  },
  {
   "cell_type": "code",
   "execution_count": 21,
   "metadata": {},
   "outputs": [
    {
     "data": {
      "text/html": [
       "<div>\n",
       "<style scoped>\n",
       "    .dataframe tbody tr th:only-of-type {\n",
       "        vertical-align: middle;\n",
       "    }\n",
       "\n",
       "    .dataframe tbody tr th {\n",
       "        vertical-align: top;\n",
       "    }\n",
       "\n",
       "    .dataframe thead th {\n",
       "        text-align: right;\n",
       "    }\n",
       "</style>\n",
       "<table border=\"1\" class=\"dataframe\">\n",
       "  <thead>\n",
       "    <tr style=\"text-align: right;\">\n",
       "      <th></th>\n",
       "      <th>passenger_count</th>\n",
       "      <th>trip_distance</th>\n",
       "      <th>total_amount</th>\n",
       "      <th>Servicio</th>\n",
       "      <th>Pickup_borough</th>\n",
       "      <th>fecha_inicio</th>\n",
       "      <th>horario_inicio</th>\n",
       "      <th>fecha_final</th>\n",
       "      <th>horario_final</th>\n",
       "      <th>hora_inicio</th>\n",
       "      <th>hora_final</th>\n",
       "    </tr>\n",
       "  </thead>\n",
       "  <tbody>\n",
       "    <tr>\n",
       "      <th>0</th>\n",
       "      <td>1</td>\n",
       "      <td>2.58</td>\n",
       "      <td>24.18</td>\n",
       "      <td>Green</td>\n",
       "      <td>Manhattan</td>\n",
       "      <td>2023-01-01</td>\n",
       "      <td>00:26:10</td>\n",
       "      <td>2023-01-01</td>\n",
       "      <td>00:37:11</td>\n",
       "      <td>0</td>\n",
       "      <td>0</td>\n",
       "    </tr>\n",
       "  </tbody>\n",
       "</table>\n",
       "</div>"
      ],
      "text/plain": [
       "   passenger_count  trip_distance  total_amount Servicio Pickup_borough  \\\n",
       "0                1           2.58         24.18    Green      Manhattan   \n",
       "\n",
       "  fecha_inicio horario_inicio fecha_final horario_final  hora_inicio  \\\n",
       "0   2023-01-01       00:26:10  2023-01-01      00:37:11            0   \n",
       "\n",
       "   hora_final  \n",
       "0           0  "
      ]
     },
     "execution_count": 21,
     "metadata": {},
     "output_type": "execute_result"
    }
   ],
   "source": [
    "taxis.head(1)"
   ]
  },
  {
   "cell_type": "code",
   "execution_count": 22,
   "metadata": {},
   "outputs": [],
   "source": [
    "taxis = taxis.drop(columns=['horario_inicio', 'horario_final'])"
   ]
  },
  {
   "cell_type": "code",
   "execution_count": 23,
   "metadata": {},
   "outputs": [
    {
     "data": {
      "text/html": [
       "<div>\n",
       "<style scoped>\n",
       "    .dataframe tbody tr th:only-of-type {\n",
       "        vertical-align: middle;\n",
       "    }\n",
       "\n",
       "    .dataframe tbody tr th {\n",
       "        vertical-align: top;\n",
       "    }\n",
       "\n",
       "    .dataframe thead th {\n",
       "        text-align: right;\n",
       "    }\n",
       "</style>\n",
       "<table border=\"1\" class=\"dataframe\">\n",
       "  <thead>\n",
       "    <tr style=\"text-align: right;\">\n",
       "      <th></th>\n",
       "      <th>passenger_count</th>\n",
       "      <th>trip_distance</th>\n",
       "      <th>total_amount</th>\n",
       "      <th>Servicio</th>\n",
       "      <th>Pickup_borough</th>\n",
       "      <th>fecha_inicio</th>\n",
       "      <th>fecha_final</th>\n",
       "      <th>hora_inicio</th>\n",
       "      <th>hora_final</th>\n",
       "    </tr>\n",
       "  </thead>\n",
       "  <tbody>\n",
       "    <tr>\n",
       "      <th>0</th>\n",
       "      <td>1</td>\n",
       "      <td>2.58</td>\n",
       "      <td>24.18</td>\n",
       "      <td>Green</td>\n",
       "      <td>Manhattan</td>\n",
       "      <td>2023-01-01</td>\n",
       "      <td>2023-01-01</td>\n",
       "      <td>0</td>\n",
       "      <td>0</td>\n",
       "    </tr>\n",
       "  </tbody>\n",
       "</table>\n",
       "</div>"
      ],
      "text/plain": [
       "   passenger_count  trip_distance  total_amount Servicio Pickup_borough  \\\n",
       "0                1           2.58         24.18    Green      Manhattan   \n",
       "\n",
       "  fecha_inicio fecha_final  hora_inicio  hora_final  \n",
       "0   2023-01-01  2023-01-01            0           0  "
      ]
     },
     "execution_count": 23,
     "metadata": {},
     "output_type": "execute_result"
    }
   ],
   "source": [
    "taxis.head(1)"
   ]
  },
  {
   "attachments": {},
   "cell_type": "markdown",
   "metadata": {},
   "source": [
    "Vamos a extraer el los dias de la fecha. Arrancando con 0 el valor del dia lunes y 6 para domingo"
   ]
  },
  {
   "cell_type": "code",
   "execution_count": 24,
   "metadata": {},
   "outputs": [
    {
     "name": "stdout",
     "output_type": "stream",
     "text": [
      "        fecha_inicio  dia_semana\n",
      "0         2023-01-01           6\n",
      "1         2023-01-01           6\n",
      "2         2023-01-01           6\n",
      "3         2023-01-01           6\n",
      "4         2023-01-01           6\n",
      "...              ...         ...\n",
      "1846358   2023-12-21           3\n",
      "1846359   2023-12-13           2\n",
      "1846360   2023-12-12           1\n",
      "1846361   2023-12-14           3\n",
      "1846362   2023-12-20           2\n",
      "\n",
      "[1790230 rows x 2 columns]\n"
     ]
    }
   ],
   "source": [
    "def obtener_dia_semana(fecha):\n",
    "    dia_semana = fecha.weekday()\n",
    "    return dia_semana\n",
    "\n",
    "taxis['dia_semana'] = taxis['fecha_inicio'].apply(obtener_dia_semana)\n",
    "\n",
    "print(taxis[['fecha_inicio', 'dia_semana']])"
   ]
  },
  {
   "cell_type": "code",
   "execution_count": 25,
   "metadata": {},
   "outputs": [
    {
     "data": {
      "text/plain": [
       "array([6, 4, 0, 1, 2, 3, 5])"
      ]
     },
     "execution_count": 25,
     "metadata": {},
     "output_type": "execute_result"
    }
   ],
   "source": [
    "taxis['dia_semana'].unique()"
   ]
  },
  {
   "cell_type": "code",
   "execution_count": 26,
   "metadata": {},
   "outputs": [
    {
     "name": "stdout",
     "output_type": "stream",
     "text": [
      "        fecha_final  dia_semana_viaje_final\n",
      "0        2023-01-01                       6\n",
      "1        2023-01-01                       6\n",
      "2        2023-01-01                       6\n",
      "3        2023-01-01                       6\n",
      "4        2023-01-01                       6\n",
      "...             ...                     ...\n",
      "1846358  2023-12-21                       3\n",
      "1846359  2023-12-13                       2\n",
      "1846360  2023-12-12                       1\n",
      "1846361  2023-12-14                       3\n",
      "1846362  2023-12-20                       2\n",
      "\n",
      "[1790230 rows x 2 columns]\n"
     ]
    }
   ],
   "source": [
    "taxis['dia_semana_viaje_final'] = taxis['fecha_final'].apply(obtener_dia_semana)\n",
    "\n",
    "print(taxis[['fecha_final', 'dia_semana_viaje_final']])"
   ]
  },
  {
   "cell_type": "code",
   "execution_count": 27,
   "metadata": {},
   "outputs": [
    {
     "data": {
      "text/plain": [
       "array([6, 0, 4, 1, 2, 3, 5])"
      ]
     },
     "execution_count": 27,
     "metadata": {},
     "output_type": "execute_result"
    }
   ],
   "source": [
    "taxis['dia_semana_viaje_final'].unique()"
   ]
  },
  {
   "cell_type": "code",
   "execution_count": 28,
   "metadata": {},
   "outputs": [
    {
     "data": {
      "text/html": [
       "<div>\n",
       "<style scoped>\n",
       "    .dataframe tbody tr th:only-of-type {\n",
       "        vertical-align: middle;\n",
       "    }\n",
       "\n",
       "    .dataframe tbody tr th {\n",
       "        vertical-align: top;\n",
       "    }\n",
       "\n",
       "    .dataframe thead th {\n",
       "        text-align: right;\n",
       "    }\n",
       "</style>\n",
       "<table border=\"1\" class=\"dataframe\">\n",
       "  <thead>\n",
       "    <tr style=\"text-align: right;\">\n",
       "      <th></th>\n",
       "      <th>passenger_count</th>\n",
       "      <th>trip_distance</th>\n",
       "      <th>total_amount</th>\n",
       "      <th>Servicio</th>\n",
       "      <th>Pickup_borough</th>\n",
       "      <th>hora_inicio</th>\n",
       "      <th>hora_final</th>\n",
       "      <th>dia_semana</th>\n",
       "      <th>dia_semana_viaje_final</th>\n",
       "    </tr>\n",
       "  </thead>\n",
       "  <tbody>\n",
       "    <tr>\n",
       "      <th>0</th>\n",
       "      <td>1</td>\n",
       "      <td>2.58</td>\n",
       "      <td>24.18</td>\n",
       "      <td>Green</td>\n",
       "      <td>Manhattan</td>\n",
       "      <td>0</td>\n",
       "      <td>0</td>\n",
       "      <td>6</td>\n",
       "      <td>6</td>\n",
       "    </tr>\n",
       "  </tbody>\n",
       "</table>\n",
       "</div>"
      ],
      "text/plain": [
       "   passenger_count  trip_distance  total_amount Servicio Pickup_borough  \\\n",
       "0                1           2.58         24.18    Green      Manhattan   \n",
       "\n",
       "   hora_inicio  hora_final  dia_semana  dia_semana_viaje_final  \n",
       "0            0           0           6                       6  "
      ]
     },
     "execution_count": 28,
     "metadata": {},
     "output_type": "execute_result"
    }
   ],
   "source": [
    "taxis = taxis.drop(columns=['fecha_inicio', 'fecha_final'])\n",
    "taxis.head(1)"
   ]
  },
  {
   "cell_type": "code",
   "execution_count": 29,
   "metadata": {},
   "outputs": [
    {
     "data": {
      "text/html": [
       "<div>\n",
       "<style scoped>\n",
       "    .dataframe tbody tr th:only-of-type {\n",
       "        vertical-align: middle;\n",
       "    }\n",
       "\n",
       "    .dataframe tbody tr th {\n",
       "        vertical-align: top;\n",
       "    }\n",
       "\n",
       "    .dataframe thead th {\n",
       "        text-align: right;\n",
       "    }\n",
       "</style>\n",
       "<table border=\"1\" class=\"dataframe\">\n",
       "  <thead>\n",
       "    <tr style=\"text-align: right;\">\n",
       "      <th></th>\n",
       "      <th>passenger_count</th>\n",
       "      <th>trip_distance</th>\n",
       "      <th>total_amount</th>\n",
       "      <th>Servicio</th>\n",
       "      <th>Pickup_borough</th>\n",
       "      <th>hora_inicio</th>\n",
       "      <th>hora_final</th>\n",
       "      <th>dia_semana</th>\n",
       "      <th>dia_semana_viaje_final</th>\n",
       "    </tr>\n",
       "  </thead>\n",
       "  <tbody>\n",
       "    <tr>\n",
       "      <th>0</th>\n",
       "      <td>1</td>\n",
       "      <td>2.58</td>\n",
       "      <td>24.18</td>\n",
       "      <td>Green</td>\n",
       "      <td>Manhattan</td>\n",
       "      <td>0</td>\n",
       "      <td>0</td>\n",
       "      <td>6</td>\n",
       "      <td>6</td>\n",
       "    </tr>\n",
       "    <tr>\n",
       "      <th>1</th>\n",
       "      <td>1</td>\n",
       "      <td>1.81</td>\n",
       "      <td>15.84</td>\n",
       "      <td>Green</td>\n",
       "      <td>Manhattan</td>\n",
       "      <td>0</td>\n",
       "      <td>0</td>\n",
       "      <td>6</td>\n",
       "      <td>6</td>\n",
       "    </tr>\n",
       "    <tr>\n",
       "      <th>2</th>\n",
       "      <td>1</td>\n",
       "      <td>0.00</td>\n",
       "      <td>11.64</td>\n",
       "      <td>Green</td>\n",
       "      <td>Queens</td>\n",
       "      <td>0</td>\n",
       "      <td>0</td>\n",
       "      <td>6</td>\n",
       "      <td>6</td>\n",
       "    </tr>\n",
       "    <tr>\n",
       "      <th>3</th>\n",
       "      <td>1</td>\n",
       "      <td>1.30</td>\n",
       "      <td>10.20</td>\n",
       "      <td>Green</td>\n",
       "      <td>Manhattan</td>\n",
       "      <td>0</td>\n",
       "      <td>0</td>\n",
       "      <td>6</td>\n",
       "      <td>6</td>\n",
       "    </tr>\n",
       "    <tr>\n",
       "      <th>4</th>\n",
       "      <td>1</td>\n",
       "      <td>1.10</td>\n",
       "      <td>8.00</td>\n",
       "      <td>Green</td>\n",
       "      <td>Manhattan</td>\n",
       "      <td>0</td>\n",
       "      <td>0</td>\n",
       "      <td>6</td>\n",
       "      <td>6</td>\n",
       "    </tr>\n",
       "  </tbody>\n",
       "</table>\n",
       "</div>"
      ],
      "text/plain": [
       "   passenger_count  trip_distance  total_amount Servicio Pickup_borough  \\\n",
       "0                1           2.58         24.18    Green      Manhattan   \n",
       "1                1           1.81         15.84    Green      Manhattan   \n",
       "2                1           0.00         11.64    Green         Queens   \n",
       "3                1           1.30         10.20    Green      Manhattan   \n",
       "4                1           1.10          8.00    Green      Manhattan   \n",
       "\n",
       "   hora_inicio  hora_final  dia_semana  dia_semana_viaje_final  \n",
       "0            0           0           6                       6  \n",
       "1            0           0           6                       6  \n",
       "2            0           0           6                       6  \n",
       "3            0           0           6                       6  \n",
       "4            0           0           6                       6  "
      ]
     },
     "execution_count": 29,
     "metadata": {},
     "output_type": "execute_result"
    }
   ],
   "source": [
    "taxis.head(5)"
   ]
  },
  {
   "cell_type": "code",
   "execution_count": 30,
   "metadata": {},
   "outputs": [
    {
     "name": "stdout",
     "output_type": "stream",
     "text": [
      "Valores nulos por columna:\n",
      "passenger_count           0\n",
      "trip_distance             0\n",
      "total_amount              0\n",
      "Servicio                  0\n",
      "Pickup_borough            0\n",
      "hora_inicio               0\n",
      "hora_final                0\n",
      "dia_semana                0\n",
      "dia_semana_viaje_final    0\n",
      "dtype: int64\n"
     ]
    }
   ],
   "source": [
    "missing_values = taxis.isnull().sum()\n",
    "\n",
    "print(\"Valores nulos por columna:\")\n",
    "print(missing_values)"
   ]
  },
  {
   "attachments": {},
   "cell_type": "markdown",
   "metadata": {},
   "source": [
    "Ahora vamos a cambiar los districtos y los servicios"
   ]
  },
  {
   "cell_type": "code",
   "execution_count": 31,
   "metadata": {},
   "outputs": [
    {
     "name": "stdout",
     "output_type": "stream",
     "text": [
      "<class 'pandas.core.frame.DataFrame'>\n",
      "Index: 1790230 entries, 0 to 1846362\n",
      "Data columns (total 9 columns):\n",
      " #   Column                  Dtype  \n",
      "---  ------                  -----  \n",
      " 0   passenger_count         int64  \n",
      " 1   trip_distance           float64\n",
      " 2   total_amount            float64\n",
      " 3   Servicio                object \n",
      " 4   Pickup_borough          object \n",
      " 5   hora_inicio             int64  \n",
      " 6   hora_final              int64  \n",
      " 7   dia_semana              int64  \n",
      " 8   dia_semana_viaje_final  int64  \n",
      "dtypes: float64(2), int64(5), object(2)\n",
      "memory usage: 136.6+ MB\n"
     ]
    }
   ],
   "source": [
    "taxis.info()"
   ]
  },
  {
   "cell_type": "code",
   "execution_count": 32,
   "metadata": {},
   "outputs": [
    {
     "data": {
      "text/html": [
       "<div>\n",
       "<style scoped>\n",
       "    .dataframe tbody tr th:only-of-type {\n",
       "        vertical-align: middle;\n",
       "    }\n",
       "\n",
       "    .dataframe tbody tr th {\n",
       "        vertical-align: top;\n",
       "    }\n",
       "\n",
       "    .dataframe thead th {\n",
       "        text-align: right;\n",
       "    }\n",
       "</style>\n",
       "<table border=\"1\" class=\"dataframe\">\n",
       "  <thead>\n",
       "    <tr style=\"text-align: right;\">\n",
       "      <th></th>\n",
       "      <th>passenger_count</th>\n",
       "      <th>trip_distance</th>\n",
       "      <th>total_amount</th>\n",
       "      <th>Servicio</th>\n",
       "      <th>Pickup_borough</th>\n",
       "      <th>hora_inicio</th>\n",
       "      <th>hora_final</th>\n",
       "      <th>dia_semana</th>\n",
       "      <th>dia_semana_viaje_final</th>\n",
       "    </tr>\n",
       "  </thead>\n",
       "  <tbody>\n",
       "    <tr>\n",
       "      <th>0</th>\n",
       "      <td>1</td>\n",
       "      <td>2.58</td>\n",
       "      <td>24.18</td>\n",
       "      <td>0</td>\n",
       "      <td>0</td>\n",
       "      <td>0</td>\n",
       "      <td>0</td>\n",
       "      <td>6</td>\n",
       "      <td>6</td>\n",
       "    </tr>\n",
       "    <tr>\n",
       "      <th>1</th>\n",
       "      <td>1</td>\n",
       "      <td>1.81</td>\n",
       "      <td>15.84</td>\n",
       "      <td>0</td>\n",
       "      <td>0</td>\n",
       "      <td>0</td>\n",
       "      <td>0</td>\n",
       "      <td>6</td>\n",
       "      <td>6</td>\n",
       "    </tr>\n",
       "  </tbody>\n",
       "</table>\n",
       "</div>"
      ],
      "text/plain": [
       "   passenger_count  trip_distance  total_amount Servicio Pickup_borough  \\\n",
       "0                1           2.58         24.18        0              0   \n",
       "1                1           1.81         15.84        0              0   \n",
       "\n",
       "   hora_inicio  hora_final  dia_semana  dia_semana_viaje_final  \n",
       "0            0           0           6                       6  \n",
       "1            0           0           6                       6  "
      ]
     },
     "execution_count": 32,
     "metadata": {},
     "output_type": "execute_result"
    }
   ],
   "source": [
    "# Codificar las variables categóricas utilizando codificación ordinal\n",
    "district_mapping = {'Manhattan': 0, 'Queens': 1, 'Brooklyn': 2, 'Staten Island': 3, 'EWR': 4}\n",
    "service_mapping = {'Green': 0, 'Yellow': 1}\n",
    "\n",
    "taxis['Pickup_borough'] = taxis['Pickup_borough'].map(district_mapping)\n",
    "taxis['Servicio'] = taxis['Servicio'].map(service_mapping)\n",
    "\n",
    "# Limitar los distritos a solo 5 y los tipos de taxi a 2\n",
    "taxis['Pickup_borough'] = taxis['Pickup_borough'].astype('category')\n",
    "taxis['Servicio'] = taxis['Servicio'].astype('category')\n",
    "taxis.head(2)"
   ]
  },
  {
   "cell_type": "code",
   "execution_count": 33,
   "metadata": {},
   "outputs": [
    {
     "name": "stdout",
     "output_type": "stream",
     "text": [
      "<class 'pandas.core.frame.DataFrame'>\n",
      "Index: 1790230 entries, 0 to 1846362\n",
      "Data columns (total 9 columns):\n",
      " #   Column                  Dtype   \n",
      "---  ------                  -----   \n",
      " 0   passenger_count         int64   \n",
      " 1   trip_distance           float64 \n",
      " 2   total_amount            float64 \n",
      " 3   Servicio                category\n",
      " 4   Pickup_borough          category\n",
      " 5   hora_inicio             int64   \n",
      " 6   hora_final              int64   \n",
      " 7   dia_semana              int64   \n",
      " 8   dia_semana_viaje_final  int64   \n",
      "dtypes: category(2), float64(2), int64(5)\n",
      "memory usage: 112.7 MB\n"
     ]
    }
   ],
   "source": [
    "taxis.info()"
   ]
  },
  {
   "cell_type": "code",
   "execution_count": 34,
   "metadata": {},
   "outputs": [
    {
     "data": {
      "text/plain": [
       "[0, 1]\n",
       "Categories (2, int64): [0, 1]"
      ]
     },
     "execution_count": 34,
     "metadata": {},
     "output_type": "execute_result"
    }
   ],
   "source": [
    "taxis['Servicio'].unique()"
   ]
  },
  {
   "cell_type": "code",
   "execution_count": 35,
   "metadata": {},
   "outputs": [
    {
     "data": {
      "text/plain": [
       "[0, 1, 2, 3, 4]\n",
       "Categories (5, int64): [0, 1, 2, 3, 4]"
      ]
     },
     "execution_count": 35,
     "metadata": {},
     "output_type": "execute_result"
    }
   ],
   "source": [
    "taxis['Pickup_borough'].unique()"
   ]
  },
  {
   "attachments": {},
   "cell_type": "markdown",
   "metadata": {},
   "source": [
    "VAMOS A DEFINIR LOS DATOS A UTILIZAR PARA IMPLEMENTAR EL MODELO\n",
    "\n",
    "**Características:**\n",
    "\n",
    "- Horario del día (hora_inicio)\n",
    "- Día de la semana (dia_semana)\n",
    "- Distrito de recogida (Pickup_borough)\n",
    "- Tipo de servicio (Servicio)\n",
    "\n",
    "**Variable objetivo:**\n",
    "\n",
    "- Cantidad de pasajeros (passenger_count)"
   ]
  },
  {
   "attachments": {},
   "cell_type": "markdown",
   "metadata": {},
   "source": [
    "UNA VEZ QUE FINALIZAMOS CON LO QUE SERIAN TODAS LAS TRANSFORMACIONES PROCEDEMOS A REALIZAR EL MODELO DE MACHINE LEARNING"
   ]
  },
  {
   "attachments": {},
   "cell_type": "markdown",
   "metadata": {},
   "source": [
    "VAMOS A PROCEDER A SEPARAR LOS DATOS PARA ENTRENARLOS Y OTROS PARA PRUEBAS "
   ]
  },
  {
   "attachments": {},
   "cell_type": "markdown",
   "metadata": {},
   "source": [
    "*DIVIDIMOS EL ARCHIVO*"
   ]
  },
  {
   "attachments": {},
   "cell_type": "markdown",
   "metadata": {},
   "source": [
    "Vamos a entrenar el 80% de los datos y el 20% vamos a dejar para prueba"
   ]
  },
  {
   "cell_type": "code",
   "execution_count": 36,
   "metadata": {},
   "outputs": [
    {
     "data": {
      "text/html": [
       "<div>\n",
       "<style scoped>\n",
       "    .dataframe tbody tr th:only-of-type {\n",
       "        vertical-align: middle;\n",
       "    }\n",
       "\n",
       "    .dataframe tbody tr th {\n",
       "        vertical-align: top;\n",
       "    }\n",
       "\n",
       "    .dataframe thead th {\n",
       "        text-align: right;\n",
       "    }\n",
       "</style>\n",
       "<table border=\"1\" class=\"dataframe\">\n",
       "  <thead>\n",
       "    <tr style=\"text-align: right;\">\n",
       "      <th></th>\n",
       "      <th>passenger_count</th>\n",
       "      <th>trip_distance</th>\n",
       "      <th>total_amount</th>\n",
       "      <th>Servicio</th>\n",
       "      <th>Pickup_borough</th>\n",
       "      <th>hora_inicio</th>\n",
       "      <th>hora_final</th>\n",
       "      <th>dia_semana</th>\n",
       "      <th>dia_semana_viaje_final</th>\n",
       "      <th>demand</th>\n",
       "    </tr>\n",
       "  </thead>\n",
       "  <tbody>\n",
       "    <tr>\n",
       "      <th>0</th>\n",
       "      <td>1</td>\n",
       "      <td>2.58</td>\n",
       "      <td>24.18</td>\n",
       "      <td>0</td>\n",
       "      <td>0</td>\n",
       "      <td>0</td>\n",
       "      <td>0</td>\n",
       "      <td>6</td>\n",
       "      <td>6</td>\n",
       "      <td>1</td>\n",
       "    </tr>\n",
       "    <tr>\n",
       "      <th>1</th>\n",
       "      <td>1</td>\n",
       "      <td>1.81</td>\n",
       "      <td>15.84</td>\n",
       "      <td>0</td>\n",
       "      <td>0</td>\n",
       "      <td>0</td>\n",
       "      <td>0</td>\n",
       "      <td>6</td>\n",
       "      <td>6</td>\n",
       "      <td>1</td>\n",
       "    </tr>\n",
       "    <tr>\n",
       "      <th>2</th>\n",
       "      <td>1</td>\n",
       "      <td>0.00</td>\n",
       "      <td>11.64</td>\n",
       "      <td>0</td>\n",
       "      <td>1</td>\n",
       "      <td>0</td>\n",
       "      <td>0</td>\n",
       "      <td>6</td>\n",
       "      <td>6</td>\n",
       "      <td>1</td>\n",
       "    </tr>\n",
       "    <tr>\n",
       "      <th>3</th>\n",
       "      <td>1</td>\n",
       "      <td>1.30</td>\n",
       "      <td>10.20</td>\n",
       "      <td>0</td>\n",
       "      <td>0</td>\n",
       "      <td>0</td>\n",
       "      <td>0</td>\n",
       "      <td>6</td>\n",
       "      <td>6</td>\n",
       "      <td>1</td>\n",
       "    </tr>\n",
       "  </tbody>\n",
       "</table>\n",
       "</div>"
      ],
      "text/plain": [
       "   passenger_count  trip_distance  total_amount Servicio Pickup_borough  \\\n",
       "0                1           2.58         24.18        0              0   \n",
       "1                1           1.81         15.84        0              0   \n",
       "2                1           0.00         11.64        0              1   \n",
       "3                1           1.30         10.20        0              0   \n",
       "\n",
       "   hora_inicio  hora_final  dia_semana  dia_semana_viaje_final  demand  \n",
       "0            0           0           6                       6       1  \n",
       "1            0           0           6                       6       1  \n",
       "2            0           0           6                       6       1  \n",
       "3            0           0           6                       6       1  "
      ]
     },
     "execution_count": 36,
     "metadata": {},
     "output_type": "execute_result"
    }
   ],
   "source": [
    "taxis['demand'] = 1\n",
    "demand_data = taxis.groupby(['hora_inicio', 'dia_semana', 'Pickup_borough', 'Servicio']).size().reset_index(name='demand')\n",
    "taxis.head(4)"
   ]
  },
  {
   "attachments": {},
   "cell_type": "markdown",
   "metadata": {},
   "source": [
    "ENTRENAMIENTO DEL MODELO"
   ]
  },
  {
   "cell_type": "code",
   "execution_count": 37,
   "metadata": {},
   "outputs": [
    {
     "name": "stdout",
     "output_type": "stream",
     "text": [
      "RMSE: 246.92756905040565\n"
     ]
    }
   ],
   "source": [
    "from sklearn.model_selection import train_test_split\n",
    "from sklearn.ensemble import RandomForestRegressor\n",
    "from sklearn.metrics import mean_squared_error\n",
    "\n",
    "# Codificar variables categóricas\n",
    "demand_data['Servicio'] = demand_data['Servicio'].astype('category').cat.codes\n",
    "demand_data['Pickup_borough'] = demand_data['Pickup_borough'].astype('category').cat.codes\n",
    "\n",
    "# Selección de características y variable objetivo\n",
    "features = demand_data[['hora_inicio', 'dia_semana', 'Pickup_borough', 'Servicio']]\n",
    "target = demand_data['demand']\n",
    "\n",
    "# División de los datos\n",
    "X_train, X_test, y_train, y_test = train_test_split(features, target, test_size=0.2, random_state=42)\n",
    "\n",
    "# Entrenamiento del modelo\n",
    "model = RandomForestRegressor(n_estimators=100, random_state=42)\n",
    "model.fit(X_train, y_train)\n",
    "\n",
    "# Predicciones\n",
    "y_pred = model.predict(X_test)\n",
    "\n",
    "# Evaluación del modelo\n",
    "mse = mean_squared_error(y_test, y_pred)\n",
    "rmse = mse ** 0.5\n",
    "print(f'RMSE: {rmse}')\n"
   ]
  },
  {
   "cell_type": "code",
   "execution_count": 38,
   "metadata": {},
   "outputs": [
    {
     "name": "stdout",
     "output_type": "stream",
     "text": [
      "Predicted demand: 2085\n"
     ]
    }
   ],
   "source": [
    "def predict_demand(hora_inicio, dia_semana, pickup_borough, servicio):\n",
    "    input_data = pd.DataFrame({\n",
    "        'hora_inicio': [hora_inicio],\n",
    "        'dia_semana': [dia_semana],\n",
    "        'Pickup_borough': [pickup_borough],\n",
    "        'Servicio': [servicio]\n",
    "    })\n",
    "    \n",
    "   \n",
    "    prediction = model.predict(input_data)\n",
    "    return int(round(prediction[0]))\n",
    "\n",
    "# Ejemplo de uso\n",
    "hora_inicio = 6 ## van desde las 0hs a 23hs\n",
    "dia_semana = 1  ## 'Lunes': 0, 'Martes': 1, 'Miercoles': 2, 'Jueves': 3, 'Viernes': 4, 'Sabado': 5, 'Domingo': 6\n",
    "pickup_borough = 0  ##'Manhattan': 0, 'Queens': 1, 'Brooklyn': 2, 'Staten Island': 3, 'EWR': 4\n",
    "servicio = 1  ## 'Green': 0, 'Yellow': 1\n",
    "\n",
    "predicted_demand = predict_demand(hora_inicio, dia_semana, pickup_borough, servicio)\n",
    "print(f\"Predicted demand: {predicted_demand}\")\n"
   ]
  },
  {
   "cell_type": "code",
   "execution_count": 39,
   "metadata": {},
   "outputs": [
    {
     "name": "stdout",
     "output_type": "stream",
     "text": [
      "Predicted demand: 783\n"
     ]
    }
   ],
   "source": [
    "# Ejemplo de uso\n",
    "hora_inicio = 20 ## van desde las 0hs a 23hs\n",
    "dia_semana = 6  ## 'Lunes': 0, 'Martes': 1, 'Miercoles': 2, 'Jueves': 3, 'Viernes': 4, 'Sabado': 5, 'Domingo': 6\n",
    "pickup_borough = 2  ##'Manhattan': 0, 'Queens': 1, 'Brooklyn': 2, 'Staten Island': 3, 'EWR': 4\n",
    "servicio = 0  ## 'Green': 0, 'Yellow': 1\n",
    "\n",
    "predicted_demand = predict_demand(hora_inicio, dia_semana, pickup_borough, servicio)\n",
    "print(f\"Predicted demand: {predicted_demand}\")"
   ]
  },
  {
   "cell_type": "code",
   "execution_count": 40,
   "metadata": {},
   "outputs": [
    {
     "name": "stdout",
     "output_type": "stream",
     "text": [
      "4066\n",
      "973\n",
      "46\n",
      "0\n",
      "1\n"
     ]
    }
   ],
   "source": [
    "print(predict_demand(10, 0, 0, 0))  # Horario, Dia de la semana, Manhattan, Yellow\n",
    "print(predict_demand(23, 1, 1, 0))  # Horario, Dia de la semana, Queens, Yellow\n",
    "print(predict_demand(6, 2, 2, 1))  # Horario, Dia de la semana, Brooklyn, Green\n",
    "print(predict_demand(8, 3, 3, 1))  # Horario, Dia de la semana, Staten Island, Green\n",
    "print(predict_demand(1, 1, 4, 0))  # Horario, Dia de la semana, EWR, Yellow"
   ]
  },
  {
   "cell_type": "markdown",
   "metadata": {},
   "source": [
    "Importar con jobLib"
   ]
  },
  {
   "cell_type": "code",
   "execution_count": 41,
   "metadata": {},
   "outputs": [
    {
     "data": {
      "text/plain": [
       "['taxi_demand_model.joblib']"
      ]
     },
     "execution_count": 41,
     "metadata": {},
     "output_type": "execute_result"
    }
   ],
   "source": [
    "import joblib\n",
    "joblib.dump(model, 'taxi_demand_model.joblib')"
   ]
  },
  {
   "cell_type": "markdown",
   "metadata": {},
   "source": [
    "Importar Con Pickle"
   ]
  },
  {
   "cell_type": "code",
   "execution_count": 42,
   "metadata": {},
   "outputs": [
    {
     "name": "stdout",
     "output_type": "stream",
     "text": [
      "Modelo guardado en taxi_demand_model.pkl\n"
     ]
    }
   ],
   "source": [
    "import pickle\n",
    "\n",
    "# Guardar el modelo entrenado en un archivo pickle\n",
    "with open('taxi_demand_model.pkl', 'wb') as archivo:\n",
    "    pickle.dump(model, archivo)\n",
    "\n",
    "print(\"Modelo guardado en taxi_demand_model.pkl\")\n"
   ]
  }
 ],
 "metadata": {
  "kernelspec": {
   "display_name": "Python 3",
   "language": "python",
   "name": "python3"
  },
  "language_info": {
   "codemirror_mode": {
    "name": "ipython",
    "version": 3
   },
   "file_extension": ".py",
   "mimetype": "text/x-python",
   "name": "python",
   "nbconvert_exporter": "python",
   "pygments_lexer": "ipython3",
   "version": "3.8.19"
  },
  "orig_nbformat": 4
 },
 "nbformat": 4,
 "nbformat_minor": 2
}
