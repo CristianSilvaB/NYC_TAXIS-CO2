{
 "cells": [
  {
   "cell_type": "code",
   "execution_count": 1,
   "metadata": {},
   "outputs": [],
   "source": [
    "import pandas as pd"
   ]
  },
  {
   "cell_type": "markdown",
   "metadata": {},
   "source": [
    "En este archivo lo que hacemos es cargar los archivos de taxi_yellow 2023 y concatenarlos. Antes de realizar la concatenacion, se toma una muestra de cada dataset y se realiza la concatenacion apartir de las muestras. Esto debido a que cada dataset tiene muchisimas filas (+3 millones)."
   ]
  },
  {
   "cell_type": "code",
   "execution_count": 7,
   "metadata": {},
   "outputs": [],
   "source": [
    "yellow_1 = pd.read_parquet('../Data/TLC_scraping/yellow_tripdata_2023-01.parquet')\n",
    "yellow_2 = pd.read_parquet('../Data/TLC_scraping/yellow_tripdata_2023-02.parquet')\n",
    "yellow_3 = pd.read_parquet('../Data/TLC_scraping/yellow_tripdata_2023-03.parquet')\n",
    "yellow_4 = pd.read_parquet('../Data/TLC_scraping/yellow_tripdata_2023-04.parquet')\n",
    "yellow_5 = pd.read_parquet('../Data/TLC_scraping/yellow_tripdata_2023-05.parquet')\n",
    "yellow_6 = pd.read_parquet('../Data/TLC_scraping/yellow_tripdata_2023-06.parquet')\n",
    "yellow_7 = pd.read_parquet('../Data/TLC_scraping/yellow_tripdata_2023-07.parquet')\n",
    "yellow_8 = pd.read_parquet('../Data/TLC_scraping/yellow_tripdata_2023-08.parquet')\n",
    "yellow_9 = pd.read_parquet('../Data/TLC_scraping/yellow_tripdata_2023-09.parquet')\n",
    "yellow_10 = pd.read_parquet('../Data/TLC_scraping/yellow_tripdata_2023-10.parquet')\n",
    "yellow_11 = pd.read_parquet('../Data/TLC_scraping/yellow_tripdata_2023-11.parquet')\n",
    "yellow_12 = pd.read_parquet('../Data/TLC_scraping/yellow_tripdata_2023-12.parquet')"
   ]
  },
  {
   "cell_type": "code",
   "execution_count": 8,
   "metadata": {},
   "outputs": [
    {
     "data": {
      "text/plain": [
       "(3066766, 19)"
      ]
     },
     "execution_count": 8,
     "metadata": {},
     "output_type": "execute_result"
    }
   ],
   "source": [
    "yellow_1.shape"
   ]
  },
  {
   "cell_type": "code",
   "execution_count": 9,
   "metadata": {},
   "outputs": [],
   "source": [
    "# Lista de nombres de los DataFrames\n",
    "nombres_dataframes = ['yellow_1', 'yellow_2', 'yellow_3', 'yellow_4', 'yellow_5', \n",
    "                      'yellow_6', 'yellow_7', 'yellow_8', 'yellow_9', 'yellow_10', \n",
    "                      'yellow_11', 'yellow_12']\n",
    "\n",
    "# Definir las columnas importantes\n",
    "columnas_importantes = ['PULocationID', 'tpep_pickup_datetime', 'tpep_dropoff_datetime', 'passenger_count', 'trip_distance', 'total_amount']\n",
    "\n",
    "# Itera sobre los nombres de los DataFrames y seleccionar las columnas importantes\n",
    "for nombre_df in nombres_dataframes:\n",
    "    df = globals()[nombre_df]  # Obtiene el DataFrame por su nombre\n",
    "    globals()[nombre_df] = df.loc[:, columnas_importantes]  # Selecciona las columnas importantes y reasigna al DataFrame original\n"
   ]
  },
  {
   "cell_type": "code",
   "execution_count": 10,
   "metadata": {},
   "outputs": [],
   "source": [
    "# Toma una muestra aleatoria del dataframe pasado por parametro\n",
    "def tomar_muestra(df_nombre):\n",
    "   \n",
    "    # Carga el DataFrame especificado\n",
    "    df = globals()[df_nombre]\n",
    "    \n",
    "    num_filas_muestra = int(len(df) * 3 / 100)  # Calcula el número de filas de la muestra\n",
    "    muestra = df.sample(n=num_filas_muestra, random_state=42)  # Toma una muestra aleatoria del DataFrame\n",
    "    return muestra"
   ]
  },
  {
   "cell_type": "code",
   "execution_count": 11,
   "metadata": {},
   "outputs": [],
   "source": [
    "#Invoco la funcion en cada Dataframe\n",
    "taxisyellow1 = tomar_muestra('yellow_1')\n",
    "taxisyellow2 = tomar_muestra('yellow_2')\n",
    "taxisyellow3 = tomar_muestra('yellow_3')\n",
    "taxisyellow4 = tomar_muestra('yellow_4')\n",
    "taxisyellow5 = tomar_muestra('yellow_5')\n",
    "taxisyellow6 = tomar_muestra('yellow_6')\n",
    "taxisyellow7 = tomar_muestra('yellow_7')\n",
    "taxisyellow8 = tomar_muestra('yellow_8')\n",
    "taxisyellow9 = tomar_muestra('yellow_9')\n",
    "taxisyellow10 = tomar_muestra('yellow_10')\n",
    "taxisyellow11 = tomar_muestra('yellow_11')\n",
    "taxisyellow12 = tomar_muestra('yellow_12')"
   ]
  },
  {
   "cell_type": "code",
   "execution_count": 12,
   "metadata": {},
   "outputs": [],
   "source": [
    "#Concateno las 12 muestras.\n",
    "dataframes = [taxisyellow1, taxisyellow2, taxisyellow3, taxisyellow4, taxisyellow5, taxisyellow6,\n",
    "              taxisyellow7, taxisyellow8, taxisyellow9, taxisyellow10, taxisyellow11, taxisyellow12]\n",
    "df_concatenado = pd.concat(dataframes, ignore_index=True)"
   ]
  },
  {
   "cell_type": "code",
   "execution_count": 13,
   "metadata": {},
   "outputs": [
    {
     "data": {
      "text/plain": [
       "(1149301, 6)"
      ]
     },
     "execution_count": 13,
     "metadata": {},
     "output_type": "execute_result"
    }
   ],
   "source": [
    "df_concatenado.shape"
   ]
  },
  {
   "cell_type": "code",
   "execution_count": 14,
   "metadata": {},
   "outputs": [
    {
     "data": {
      "text/html": [
       "<div>\n",
       "<style scoped>\n",
       "    .dataframe tbody tr th:only-of-type {\n",
       "        vertical-align: middle;\n",
       "    }\n",
       "\n",
       "    .dataframe tbody tr th {\n",
       "        vertical-align: top;\n",
       "    }\n",
       "\n",
       "    .dataframe thead th {\n",
       "        text-align: right;\n",
       "    }\n",
       "</style>\n",
       "<table border=\"1\" class=\"dataframe\">\n",
       "  <thead>\n",
       "    <tr style=\"text-align: right;\">\n",
       "      <th></th>\n",
       "      <th>PULocationID</th>\n",
       "      <th>tpep_pickup_datetime</th>\n",
       "      <th>tpep_dropoff_datetime</th>\n",
       "      <th>passenger_count</th>\n",
       "      <th>trip_distance</th>\n",
       "      <th>total_amount</th>\n",
       "    </tr>\n",
       "  </thead>\n",
       "  <tbody>\n",
       "    <tr>\n",
       "      <th>0</th>\n",
       "      <td>262</td>\n",
       "      <td>2023-01-29 17:52:02</td>\n",
       "      <td>2023-01-29 17:56:43</td>\n",
       "      <td>1.0</td>\n",
       "      <td>1.17</td>\n",
       "      <td>11.20</td>\n",
       "    </tr>\n",
       "    <tr>\n",
       "      <th>1</th>\n",
       "      <td>229</td>\n",
       "      <td>2023-01-08 15:57:24</td>\n",
       "      <td>2023-01-08 16:02:47</td>\n",
       "      <td>1.0</td>\n",
       "      <td>0.90</td>\n",
       "      <td>10.50</td>\n",
       "    </tr>\n",
       "    <tr>\n",
       "      <th>2</th>\n",
       "      <td>45</td>\n",
       "      <td>2023-01-21 19:38:01</td>\n",
       "      <td>2023-01-21 19:45:02</td>\n",
       "      <td>1.0</td>\n",
       "      <td>0.95</td>\n",
       "      <td>14.28</td>\n",
       "    </tr>\n",
       "    <tr>\n",
       "      <th>3</th>\n",
       "      <td>237</td>\n",
       "      <td>2023-01-23 16:07:31</td>\n",
       "      <td>2023-01-23 16:26:46</td>\n",
       "      <td>5.0</td>\n",
       "      <td>0.88</td>\n",
       "      <td>24.30</td>\n",
       "    </tr>\n",
       "    <tr>\n",
       "      <th>4</th>\n",
       "      <td>229</td>\n",
       "      <td>2023-01-26 21:21:08</td>\n",
       "      <td>2023-01-26 21:24:48</td>\n",
       "      <td>2.0</td>\n",
       "      <td>1.03</td>\n",
       "      <td>13.80</td>\n",
       "    </tr>\n",
       "  </tbody>\n",
       "</table>\n",
       "</div>"
      ],
      "text/plain": [
       "   PULocationID tpep_pickup_datetime tpep_dropoff_datetime  passenger_count  \\\n",
       "0           262  2023-01-29 17:52:02   2023-01-29 17:56:43              1.0   \n",
       "1           229  2023-01-08 15:57:24   2023-01-08 16:02:47              1.0   \n",
       "2            45  2023-01-21 19:38:01   2023-01-21 19:45:02              1.0   \n",
       "3           237  2023-01-23 16:07:31   2023-01-23 16:26:46              5.0   \n",
       "4           229  2023-01-26 21:21:08   2023-01-26 21:24:48              2.0   \n",
       "\n",
       "   trip_distance  total_amount  \n",
       "0           1.17         11.20  \n",
       "1           0.90         10.50  \n",
       "2           0.95         14.28  \n",
       "3           0.88         24.30  \n",
       "4           1.03         13.80  "
      ]
     },
     "execution_count": 14,
     "metadata": {},
     "output_type": "execute_result"
    }
   ],
   "source": [
    "df_concatenado.head()"
   ]
  },
  {
   "cell_type": "markdown",
   "metadata": {},
   "source": [
    "--------------------"
   ]
  },
  {
   "cell_type": "code",
   "execution_count": 16,
   "metadata": {},
   "outputs": [
    {
     "data": {
      "text/html": [
       "<div>\n",
       "<style scoped>\n",
       "    .dataframe tbody tr th:only-of-type {\n",
       "        vertical-align: middle;\n",
       "    }\n",
       "\n",
       "    .dataframe tbody tr th {\n",
       "        vertical-align: top;\n",
       "    }\n",
       "\n",
       "    .dataframe thead th {\n",
       "        text-align: right;\n",
       "    }\n",
       "</style>\n",
       "<table border=\"1\" class=\"dataframe\">\n",
       "  <thead>\n",
       "    <tr style=\"text-align: right;\">\n",
       "      <th></th>\n",
       "      <th>Zone</th>\n",
       "      <th>LocationID</th>\n",
       "      <th>Borough</th>\n",
       "    </tr>\n",
       "  </thead>\n",
       "  <tbody>\n",
       "    <tr>\n",
       "      <th>0</th>\n",
       "      <td>Newark Airport</td>\n",
       "      <td>1</td>\n",
       "      <td>EWR</td>\n",
       "    </tr>\n",
       "    <tr>\n",
       "      <th>1</th>\n",
       "      <td>Jamaica Bay</td>\n",
       "      <td>2</td>\n",
       "      <td>Queens</td>\n",
       "    </tr>\n",
       "    <tr>\n",
       "      <th>2</th>\n",
       "      <td>Allerton/Pelham Gardens</td>\n",
       "      <td>3</td>\n",
       "      <td>Bronx</td>\n",
       "    </tr>\n",
       "    <tr>\n",
       "      <th>3</th>\n",
       "      <td>Alphabet City</td>\n",
       "      <td>4</td>\n",
       "      <td>Manhattan</td>\n",
       "    </tr>\n",
       "    <tr>\n",
       "      <th>4</th>\n",
       "      <td>Arden Heights</td>\n",
       "      <td>5</td>\n",
       "      <td>Staten Island</td>\n",
       "    </tr>\n",
       "    <tr>\n",
       "      <th>...</th>\n",
       "      <td>...</td>\n",
       "      <td>...</td>\n",
       "      <td>...</td>\n",
       "    </tr>\n",
       "    <tr>\n",
       "      <th>255</th>\n",
       "      <td>Woodlawn/Wakefield</td>\n",
       "      <td>259</td>\n",
       "      <td>Bronx</td>\n",
       "    </tr>\n",
       "    <tr>\n",
       "      <th>256</th>\n",
       "      <td>Woodside</td>\n",
       "      <td>260</td>\n",
       "      <td>Queens</td>\n",
       "    </tr>\n",
       "    <tr>\n",
       "      <th>257</th>\n",
       "      <td>World Trade Center</td>\n",
       "      <td>261</td>\n",
       "      <td>Manhattan</td>\n",
       "    </tr>\n",
       "    <tr>\n",
       "      <th>258</th>\n",
       "      <td>Yorkville East</td>\n",
       "      <td>262</td>\n",
       "      <td>Manhattan</td>\n",
       "    </tr>\n",
       "    <tr>\n",
       "      <th>259</th>\n",
       "      <td>Yorkville West</td>\n",
       "      <td>263</td>\n",
       "      <td>Manhattan</td>\n",
       "    </tr>\n",
       "  </tbody>\n",
       "</table>\n",
       "<p>260 rows × 3 columns</p>\n",
       "</div>"
      ],
      "text/plain": [
       "                        Zone  LocationID        Borough\n",
       "0             Newark Airport           1            EWR\n",
       "1                Jamaica Bay           2         Queens\n",
       "2    Allerton/Pelham Gardens           3          Bronx\n",
       "3              Alphabet City           4      Manhattan\n",
       "4              Arden Heights           5  Staten Island\n",
       "..                       ...         ...            ...\n",
       "255       Woodlawn/Wakefield         259          Bronx\n",
       "256                 Woodside         260         Queens\n",
       "257       World Trade Center         261      Manhattan\n",
       "258           Yorkville East         262      Manhattan\n",
       "259           Yorkville West         263      Manhattan\n",
       "\n",
       "[260 rows x 3 columns]"
      ]
     },
     "execution_count": 16,
     "metadata": {},
     "output_type": "execute_result"
    }
   ],
   "source": [
    "zonas_taxi = pd.read_parquet('../Data/Normalized/taxi_zones.parquet')\n",
    "zonas_taxi"
   ]
  },
  {
   "cell_type": "code",
   "execution_count": 17,
   "metadata": {},
   "outputs": [
    {
     "data": {
      "text/plain": [
       "array(['EWR', 'Queens', 'Bronx', 'Manhattan', 'Staten Island', 'Brooklyn'],\n",
       "      dtype=object)"
      ]
     },
     "execution_count": 17,
     "metadata": {},
     "output_type": "execute_result"
    }
   ],
   "source": [
    "zonas_taxi['Borough'].unique()"
   ]
  },
  {
   "cell_type": "code",
   "execution_count": 18,
   "metadata": {},
   "outputs": [
    {
     "data": {
      "text/plain": [
       "array([  4,  12,  13,  24,  41,  42,  43,  45,  48,  50,  68,  74,  75,\n",
       "        79,  87,  88,  90, 100, 103, 107, 113, 114, 116, 120, 125, 127,\n",
       "       128, 137, 140, 141, 142, 143, 144, 148, 151, 152, 153, 158, 161,\n",
       "       162, 163, 164, 166, 170, 186, 194, 202, 209, 211, 224, 229, 230,\n",
       "       231, 232, 233, 234, 236, 237, 238, 239, 243, 244, 246, 249, 261,\n",
       "       262, 263], dtype=int64)"
      ]
     },
     "execution_count": 18,
     "metadata": {},
     "output_type": "execute_result"
    }
   ],
   "source": [
    "# Filtra los datos para el barrio de Manhattan y obtener las ubicaciones únicas de taxi\n",
    "manhattan = zonas_taxi.loc[zonas_taxi['Borough'] == 'Manhattan', 'LocationID'].unique()\n",
    "manhattan"
   ]
  },
  {
   "cell_type": "code",
   "execution_count": 19,
   "metadata": {},
   "outputs": [
    {
     "data": {
      "text/plain": [
       "array([  2,   7,   8,   9,  10,  15,  16,  19,  27,  28,  30,  38,  53,\n",
       "        56,  64,  70,  73,  82,  83,  86,  92,  93,  95,  96,  98, 101,\n",
       "       102, 117, 121, 122, 124, 129, 130, 131, 132, 134, 135, 138, 139,\n",
       "       145, 146, 157, 160, 171, 173, 175, 179, 180, 191, 192, 193, 196,\n",
       "       197, 198, 201, 203, 205, 207, 215, 216, 218, 219, 223, 226, 252,\n",
       "       253, 258, 260], dtype=int64)"
      ]
     },
     "execution_count": 19,
     "metadata": {},
     "output_type": "execute_result"
    }
   ],
   "source": [
    "queens = zonas_taxi.loc[zonas_taxi['Borough'] == 'Queens', 'LocationID'].unique()\n",
    "queens"
   ]
  },
  {
   "cell_type": "code",
   "execution_count": 20,
   "metadata": {},
   "outputs": [
    {
     "data": {
      "text/plain": [
       "array([  5,   6,  23,  44,  84,  99, 109, 110, 115, 118, 156, 172, 176,\n",
       "       187, 204, 206, 214, 221, 245, 251], dtype=int64)"
      ]
     },
     "execution_count": 20,
     "metadata": {},
     "output_type": "execute_result"
    }
   ],
   "source": [
    "staten_isl = zonas_taxi.loc[zonas_taxi['Borough'] == 'Staten Island', 'LocationID'].unique()\n",
    "staten_isl"
   ]
  },
  {
   "cell_type": "code",
   "execution_count": 21,
   "metadata": {},
   "outputs": [
    {
     "data": {
      "text/plain": [
       "array([ 11,  14,  17,  21,  22,  25,  26,  29,  33,  34,  35,  36,  37,\n",
       "        39,  40,  49,  52,  54,  55,  61,  62,  63,  65,  66,  67,  71,\n",
       "        72,  76,  77,  80,  85,  89,  91,  97, 106, 108, 111, 112, 123,\n",
       "       133, 149, 150, 154, 155, 165, 177, 178, 181, 188, 189, 190, 195,\n",
       "       210, 217, 222, 225, 227, 228, 255, 256, 257], dtype=int64)"
      ]
     },
     "execution_count": 21,
     "metadata": {},
     "output_type": "execute_result"
    }
   ],
   "source": [
    "brooklyn = zonas_taxi.loc[zonas_taxi['Borough'] == 'Brooklyn', 'LocationID'].unique()\n",
    "brooklyn"
   ]
  },
  {
   "cell_type": "code",
   "execution_count": 22,
   "metadata": {},
   "outputs": [
    {
     "data": {
      "text/plain": [
       "array([1], dtype=int64)"
      ]
     },
     "execution_count": 22,
     "metadata": {},
     "output_type": "execute_result"
    }
   ],
   "source": [
    "ewr = zonas_taxi.loc[zonas_taxi['Borough'] == 'EWR', 'LocationID'].unique()\n",
    "ewr"
   ]
  },
  {
   "cell_type": "code",
   "execution_count": 23,
   "metadata": {},
   "outputs": [],
   "source": [
    "def obtener_distrito(locationId):\n",
    "    # Diccionario con ID de distritos\n",
    "    zonas = {\n",
    "        'Manhattan': [4,  12,  13,  24,  41,  42,  43,  45,  48,  50,  68,  74,  75,\n",
    "                      79,  87,  88,  90, 100, 103, 107, 113, 114, 116, 120, 125, 127,\n",
    "                      128, 137, 140, 141, 142, 143, 144, 148, 151, 152, 153, 158, 161,\n",
    "                      162, 163, 164, 166, 170, 186, 194, 202, 209, 211, 224, 229, 230,\n",
    "                      231, 232, 233, 234, 236, 237, 238, 239, 243, 244, 246, 249, 261,\n",
    "                      262, 263],\n",
    "        \n",
    "        'Brooklyn': [11,  14,  17,  21,  22,  25,  26,  29,  33,  34,  35,  36,  37,\n",
    "                     39,  40,  49,  52,  54,  55,  61,  62,  63,  65,  66,  67,  71,\n",
    "                     72,  76,  77,  80,  85,  89,  91,  97, 106, 108, 111, 112, 123,\n",
    "                     133, 149, 150, 154, 155, 165, 177, 178, 181, 188, 189, 190, 195,\n",
    "                     210, 217, 222, 225, 227, 228, 255, 256, 257],\n",
    "        \n",
    "        'Queens': [2,   7,   8,   9,  10,  15,  16,  19,  27,  28,  30,  38,  53,\n",
    "                   56,  64,  70,  73,  82,  83,  86,  92,  93,  95,  96,  98, 101,\n",
    "                   102, 117, 121, 122, 124, 129, 130, 131, 132, 134, 135, 138, 139,\n",
    "                   145, 146, 157, 160, 171, 173, 175, 179, 180, 191, 192, 193, 196,\n",
    "                   197, 198, 201, 203, 205, 207, 215, 216, 218, 219, 223, 226, 252,\n",
    "                   253, 258, 260],\n",
    "        \n",
    "        'Staten Island': [5,   6,  23,  44,  84,  99, 109, 110, 115, 118, 156, 172, 176,\n",
    "                          187, 204, 206, 214, 221, 245, 251],\n",
    "        \n",
    "        'EWR':[1]\n",
    "    }\n",
    "    #    Clave  valor\n",
    "    for distrito, ids in zonas.items():\n",
    "        if locationId in ids: #Si el ID pasado como argumento esta en la lista\n",
    "            return distrito   # retorna la clave del diccionario (distrito)\n",
    "        \n",
    "    return 'SD'\n",
    "            "
   ]
  },
  {
   "cell_type": "code",
   "execution_count": 24,
   "metadata": {},
   "outputs": [],
   "source": [
    "df_concatenado['Pickup_borough'] = df_concatenado['PULocationID'].apply(obtener_distrito)\n",
    "df_concatenado['Servicio'] = 'Yellow'\n"
   ]
  },
  {
   "cell_type": "code",
   "execution_count": 26,
   "metadata": {},
   "outputs": [],
   "source": [
    "df_concatenado.drop(['PULocationID'],axis=1,inplace=True)"
   ]
  },
  {
   "cell_type": "code",
   "execution_count": 27,
   "metadata": {},
   "outputs": [
    {
     "data": {
      "text/html": [
       "<div>\n",
       "<style scoped>\n",
       "    .dataframe tbody tr th:only-of-type {\n",
       "        vertical-align: middle;\n",
       "    }\n",
       "\n",
       "    .dataframe tbody tr th {\n",
       "        vertical-align: top;\n",
       "    }\n",
       "\n",
       "    .dataframe thead th {\n",
       "        text-align: right;\n",
       "    }\n",
       "</style>\n",
       "<table border=\"1\" class=\"dataframe\">\n",
       "  <thead>\n",
       "    <tr style=\"text-align: right;\">\n",
       "      <th></th>\n",
       "      <th>tpep_pickup_datetime</th>\n",
       "      <th>tpep_dropoff_datetime</th>\n",
       "      <th>passenger_count</th>\n",
       "      <th>trip_distance</th>\n",
       "      <th>total_amount</th>\n",
       "      <th>Pickup_borough</th>\n",
       "      <th>Servicio</th>\n",
       "    </tr>\n",
       "  </thead>\n",
       "  <tbody>\n",
       "    <tr>\n",
       "      <th>0</th>\n",
       "      <td>2023-01-29 17:52:02</td>\n",
       "      <td>2023-01-29 17:56:43</td>\n",
       "      <td>1.0</td>\n",
       "      <td>1.17</td>\n",
       "      <td>11.20</td>\n",
       "      <td>Manhattan</td>\n",
       "      <td>Yellow</td>\n",
       "    </tr>\n",
       "    <tr>\n",
       "      <th>1</th>\n",
       "      <td>2023-01-08 15:57:24</td>\n",
       "      <td>2023-01-08 16:02:47</td>\n",
       "      <td>1.0</td>\n",
       "      <td>0.90</td>\n",
       "      <td>10.50</td>\n",
       "      <td>Manhattan</td>\n",
       "      <td>Yellow</td>\n",
       "    </tr>\n",
       "    <tr>\n",
       "      <th>2</th>\n",
       "      <td>2023-01-21 19:38:01</td>\n",
       "      <td>2023-01-21 19:45:02</td>\n",
       "      <td>1.0</td>\n",
       "      <td>0.95</td>\n",
       "      <td>14.28</td>\n",
       "      <td>Manhattan</td>\n",
       "      <td>Yellow</td>\n",
       "    </tr>\n",
       "    <tr>\n",
       "      <th>3</th>\n",
       "      <td>2023-01-23 16:07:31</td>\n",
       "      <td>2023-01-23 16:26:46</td>\n",
       "      <td>5.0</td>\n",
       "      <td>0.88</td>\n",
       "      <td>24.30</td>\n",
       "      <td>Manhattan</td>\n",
       "      <td>Yellow</td>\n",
       "    </tr>\n",
       "    <tr>\n",
       "      <th>4</th>\n",
       "      <td>2023-01-26 21:21:08</td>\n",
       "      <td>2023-01-26 21:24:48</td>\n",
       "      <td>2.0</td>\n",
       "      <td>1.03</td>\n",
       "      <td>13.80</td>\n",
       "      <td>Manhattan</td>\n",
       "      <td>Yellow</td>\n",
       "    </tr>\n",
       "  </tbody>\n",
       "</table>\n",
       "</div>"
      ],
      "text/plain": [
       "  tpep_pickup_datetime tpep_dropoff_datetime  passenger_count  trip_distance  \\\n",
       "0  2023-01-29 17:52:02   2023-01-29 17:56:43              1.0           1.17   \n",
       "1  2023-01-08 15:57:24   2023-01-08 16:02:47              1.0           0.90   \n",
       "2  2023-01-21 19:38:01   2023-01-21 19:45:02              1.0           0.95   \n",
       "3  2023-01-23 16:07:31   2023-01-23 16:26:46              5.0           0.88   \n",
       "4  2023-01-26 21:21:08   2023-01-26 21:24:48              2.0           1.03   \n",
       "\n",
       "   total_amount Pickup_borough Servicio  \n",
       "0         11.20      Manhattan   Yellow  \n",
       "1         10.50      Manhattan   Yellow  \n",
       "2         14.28      Manhattan   Yellow  \n",
       "3         24.30      Manhattan   Yellow  \n",
       "4         13.80      Manhattan   Yellow  "
      ]
     },
     "execution_count": 27,
     "metadata": {},
     "output_type": "execute_result"
    }
   ],
   "source": [
    "df_concatenado.head()"
   ]
  },
  {
   "cell_type": "code",
   "execution_count": 30,
   "metadata": {},
   "outputs": [],
   "source": [
    "df_concatenado = df_concatenado[df_concatenado['Pickup_borough'] != 'SD']"
   ]
  },
  {
   "cell_type": "code",
   "execution_count": 32,
   "metadata": {},
   "outputs": [],
   "source": [
    "df_concatenado.to_parquet('../Data/Normalized/taxis_yellow.parquet',index=False)"
   ]
  }
 ],
 "metadata": {
  "kernelspec": {
   "display_name": "Python 3",
   "language": "python",
   "name": "python3"
  },
  "language_info": {
   "codemirror_mode": {
    "name": "ipython",
    "version": 3
   },
   "file_extension": ".py",
   "mimetype": "text/x-python",
   "name": "python",
   "nbconvert_exporter": "python",
   "pygments_lexer": "ipython3",
   "version": "3.10.11"
  }
 },
 "nbformat": 4,
 "nbformat_minor": 2
}
