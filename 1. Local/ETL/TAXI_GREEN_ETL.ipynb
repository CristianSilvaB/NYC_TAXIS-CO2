{
 "cells": [
  {
   "attachments": {},
   "cell_type": "markdown",
   "metadata": {},
   "source": [
    "Importamos las librerias a utilizar"
   ]
  },
  {
   "cell_type": "code",
   "execution_count": 37,
   "metadata": {},
   "outputs": [],
   "source": [
    "import pandas as pd\n",
    "import matplotlib.pyplot as plt\n",
    "import seaborn as sns"
   ]
  },
  {
   "attachments": {},
   "cell_type": "markdown",
   "metadata": {},
   "source": [
    "Abrimos los 12 meses de los taxis green"
   ]
  },
  {
   "cell_type": "code",
   "execution_count": 38,
   "metadata": {},
   "outputs": [],
   "source": [
    "green01 = pd.read_parquet('D:/escritorio/NYC-TAXIS/NYC_TAXIS-CO2/Data/TLC_scraping/green_tripdata_2023-01.parquet')\n",
    "green02 = pd.read_parquet('D:/escritorio/NYC-TAXIS/NYC_TAXIS-CO2/Data/TLC_scraping/green_tripdata_2023-02.parquet')\n",
    "green03 = pd.read_parquet('D:/escritorio/NYC-TAXIS/NYC_TAXIS-CO2/Data/TLC_scraping/green_tripdata_2023-03.parquet')\n",
    "green04 = pd.read_parquet('D:/escritorio/NYC-TAXIS/NYC_TAXIS-CO2/Data/TLC_scraping/green_tripdata_2023-04.parquet')\n",
    "green05 = pd.read_parquet('D:/escritorio/NYC-TAXIS/NYC_TAXIS-CO2/Data/TLC_scraping/green_tripdata_2023-05.parquet')\n",
    "green06 = pd.read_parquet('D:/escritorio/NYC-TAXIS/NYC_TAXIS-CO2/Data/TLC_scraping/green_tripdata_2023-06.parquet')\n",
    "green07 = pd.read_parquet('D:/escritorio/NYC-TAXIS/NYC_TAXIS-CO2/Data/TLC_scraping/green_tripdata_2023-07.parquet')\n",
    "green08 = pd.read_parquet('D:/escritorio/NYC-TAXIS/NYC_TAXIS-CO2/Data/TLC_scraping/green_tripdata_2023-08.parquet')\n",
    "green09 = pd.read_parquet('D:/escritorio/NYC-TAXIS/NYC_TAXIS-CO2/Data/TLC_scraping/green_tripdata_2023-09.parquet')\n",
    "green10 = pd.read_parquet('D:/escritorio/NYC-TAXIS/NYC_TAXIS-CO2/Data/TLC_scraping/green_tripdata_2023-10.parquet')\n",
    "green11 = pd.read_parquet('D:/escritorio/NYC-TAXIS/NYC_TAXIS-CO2/Data/TLC_scraping/green_tripdata_2023-11.parquet')\n",
    "green12 = pd.read_parquet('D:/escritorio/NYC-TAXIS/NYC_TAXIS-CO2/Data/TLC_scraping/green_tripdata_2023-12.parquet')\n"
   ]
  },
  {
   "attachments": {},
   "cell_type": "markdown",
   "metadata": {},
   "source": [
    "Juntamos todos los archivos"
   ]
  },
  {
   "cell_type": "code",
   "execution_count": 39,
   "metadata": {},
   "outputs": [],
   "source": [
    "taxisgreen = [green01, green02, green03, green04, green05, green06, green07, green08, green09, green10, green11, green12]"
   ]
  },
  {
   "attachments": {},
   "cell_type": "markdown",
   "metadata": {},
   "source": [
    "Creamos un dataframe donde van a tener todos los valores "
   ]
  },
  {
   "cell_type": "code",
   "execution_count": 40,
   "metadata": {},
   "outputs": [],
   "source": [
    "greentotal = pd.concat(taxisgreen, ignore_index=True)"
   ]
  },
  {
   "attachments": {},
   "cell_type": "markdown",
   "metadata": {},
   "source": [
    "Observamos la tabla completa "
   ]
  },
  {
   "cell_type": "code",
   "execution_count": 41,
   "metadata": {},
   "outputs": [
    {
     "data": {
      "text/html": [
       "<div>\n",
       "<style scoped>\n",
       "    .dataframe tbody tr th:only-of-type {\n",
       "        vertical-align: middle;\n",
       "    }\n",
       "\n",
       "    .dataframe tbody tr th {\n",
       "        vertical-align: top;\n",
       "    }\n",
       "\n",
       "    .dataframe thead th {\n",
       "        text-align: right;\n",
       "    }\n",
       "</style>\n",
       "<table border=\"1\" class=\"dataframe\">\n",
       "  <thead>\n",
       "    <tr style=\"text-align: right;\">\n",
       "      <th></th>\n",
       "      <th>VendorID</th>\n",
       "      <th>lpep_pickup_datetime</th>\n",
       "      <th>lpep_dropoff_datetime</th>\n",
       "      <th>store_and_fwd_flag</th>\n",
       "      <th>RatecodeID</th>\n",
       "      <th>PULocationID</th>\n",
       "      <th>DOLocationID</th>\n",
       "      <th>passenger_count</th>\n",
       "      <th>trip_distance</th>\n",
       "      <th>fare_amount</th>\n",
       "      <th>extra</th>\n",
       "      <th>mta_tax</th>\n",
       "      <th>tip_amount</th>\n",
       "      <th>tolls_amount</th>\n",
       "      <th>ehail_fee</th>\n",
       "      <th>improvement_surcharge</th>\n",
       "      <th>total_amount</th>\n",
       "      <th>payment_type</th>\n",
       "      <th>trip_type</th>\n",
       "      <th>congestion_surcharge</th>\n",
       "    </tr>\n",
       "  </thead>\n",
       "  <tbody>\n",
       "    <tr>\n",
       "      <th>0</th>\n",
       "      <td>2</td>\n",
       "      <td>2023-01-01 00:26:10</td>\n",
       "      <td>2023-01-01 00:37:11</td>\n",
       "      <td>N</td>\n",
       "      <td>1.0</td>\n",
       "      <td>166</td>\n",
       "      <td>143</td>\n",
       "      <td>1.0</td>\n",
       "      <td>2.58</td>\n",
       "      <td>14.9</td>\n",
       "      <td>1.0</td>\n",
       "      <td>0.5</td>\n",
       "      <td>4.03</td>\n",
       "      <td>0.0</td>\n",
       "      <td>None</td>\n",
       "      <td>1.0</td>\n",
       "      <td>24.18</td>\n",
       "      <td>1.0</td>\n",
       "      <td>1.0</td>\n",
       "      <td>2.75</td>\n",
       "    </tr>\n",
       "    <tr>\n",
       "      <th>1</th>\n",
       "      <td>2</td>\n",
       "      <td>2023-01-01 00:51:03</td>\n",
       "      <td>2023-01-01 00:57:49</td>\n",
       "      <td>N</td>\n",
       "      <td>1.0</td>\n",
       "      <td>24</td>\n",
       "      <td>43</td>\n",
       "      <td>1.0</td>\n",
       "      <td>1.81</td>\n",
       "      <td>10.7</td>\n",
       "      <td>1.0</td>\n",
       "      <td>0.5</td>\n",
       "      <td>2.64</td>\n",
       "      <td>0.0</td>\n",
       "      <td>None</td>\n",
       "      <td>1.0</td>\n",
       "      <td>15.84</td>\n",
       "      <td>1.0</td>\n",
       "      <td>1.0</td>\n",
       "      <td>0.00</td>\n",
       "    </tr>\n",
       "    <tr>\n",
       "      <th>2</th>\n",
       "      <td>2</td>\n",
       "      <td>2023-01-01 00:35:12</td>\n",
       "      <td>2023-01-01 00:41:32</td>\n",
       "      <td>N</td>\n",
       "      <td>1.0</td>\n",
       "      <td>223</td>\n",
       "      <td>179</td>\n",
       "      <td>1.0</td>\n",
       "      <td>0.00</td>\n",
       "      <td>7.2</td>\n",
       "      <td>1.0</td>\n",
       "      <td>0.5</td>\n",
       "      <td>1.94</td>\n",
       "      <td>0.0</td>\n",
       "      <td>None</td>\n",
       "      <td>1.0</td>\n",
       "      <td>11.64</td>\n",
       "      <td>1.0</td>\n",
       "      <td>1.0</td>\n",
       "      <td>0.00</td>\n",
       "    </tr>\n",
       "    <tr>\n",
       "      <th>3</th>\n",
       "      <td>1</td>\n",
       "      <td>2023-01-01 00:13:14</td>\n",
       "      <td>2023-01-01 00:19:03</td>\n",
       "      <td>N</td>\n",
       "      <td>1.0</td>\n",
       "      <td>41</td>\n",
       "      <td>238</td>\n",
       "      <td>1.0</td>\n",
       "      <td>1.30</td>\n",
       "      <td>6.5</td>\n",
       "      <td>0.5</td>\n",
       "      <td>1.5</td>\n",
       "      <td>1.70</td>\n",
       "      <td>0.0</td>\n",
       "      <td>None</td>\n",
       "      <td>1.0</td>\n",
       "      <td>10.20</td>\n",
       "      <td>1.0</td>\n",
       "      <td>1.0</td>\n",
       "      <td>0.00</td>\n",
       "    </tr>\n",
       "  </tbody>\n",
       "</table>\n",
       "</div>"
      ],
      "text/plain": [
       "   VendorID lpep_pickup_datetime lpep_dropoff_datetime store_and_fwd_flag  \\\n",
       "0         2  2023-01-01 00:26:10   2023-01-01 00:37:11                  N   \n",
       "1         2  2023-01-01 00:51:03   2023-01-01 00:57:49                  N   \n",
       "2         2  2023-01-01 00:35:12   2023-01-01 00:41:32                  N   \n",
       "3         1  2023-01-01 00:13:14   2023-01-01 00:19:03                  N   \n",
       "\n",
       "   RatecodeID  PULocationID  DOLocationID  passenger_count  trip_distance  \\\n",
       "0         1.0           166           143              1.0           2.58   \n",
       "1         1.0            24            43              1.0           1.81   \n",
       "2         1.0           223           179              1.0           0.00   \n",
       "3         1.0            41           238              1.0           1.30   \n",
       "\n",
       "   fare_amount  extra  mta_tax  tip_amount  tolls_amount ehail_fee  \\\n",
       "0         14.9    1.0      0.5        4.03           0.0      None   \n",
       "1         10.7    1.0      0.5        2.64           0.0      None   \n",
       "2          7.2    1.0      0.5        1.94           0.0      None   \n",
       "3          6.5    0.5      1.5        1.70           0.0      None   \n",
       "\n",
       "   improvement_surcharge  total_amount  payment_type  trip_type  \\\n",
       "0                    1.0         24.18           1.0        1.0   \n",
       "1                    1.0         15.84           1.0        1.0   \n",
       "2                    1.0         11.64           1.0        1.0   \n",
       "3                    1.0         10.20           1.0        1.0   \n",
       "\n",
       "   congestion_surcharge  \n",
       "0                  2.75  \n",
       "1                  0.00  \n",
       "2                  0.00  \n",
       "3                  0.00  "
      ]
     },
     "execution_count": 41,
     "metadata": {},
     "output_type": "execute_result"
    }
   ],
   "source": [
    "greentotal.head(4)"
   ]
  },
  {
   "attachments": {},
   "cell_type": "markdown",
   "metadata": {},
   "source": [
    "Vamos a eliminar columnas que no vamos a utilizar"
   ]
  },
  {
   "cell_type": "code",
   "execution_count": 42,
   "metadata": {},
   "outputs": [
    {
     "name": "stdout",
     "output_type": "stream",
     "text": [
      "Columnas restantes en el DataFrame:\n",
      "Index(['lpep_pickup_datetime', 'lpep_dropoff_datetime', 'PULocationID',\n",
      "       'DOLocationID', 'passenger_count', 'trip_distance', 'total_amount'],\n",
      "      dtype='object')\n"
     ]
    }
   ],
   "source": [
    "columnsaeliminar= ['store_and_fwd_flag', 'fare_amount', 'extra', 'mta_tax', 'tip_amount',\n",
    "                   'tolls_amount', 'ehail_fee', 'improvement_surcharge', 'payment_type',\n",
    "                   'trip_type', 'congestion_surcharge', 'RatecodeID', 'VendorID']\n",
    "\n",
    "greenlimpio = greentotal.drop(columns=columnsaeliminar)\n",
    "print(\"Columnas restantes en el DataFrame:\")\n",
    "print(greenlimpio.columns)\n"
   ]
  },
  {
   "attachments": {},
   "cell_type": "markdown",
   "metadata": {},
   "source": [
    "Vamos a ver los tipos de datos de la tabla completo y tambien si tiene nullo y valores duplicados"
   ]
  },
  {
   "cell_type": "code",
   "execution_count": 43,
   "metadata": {},
   "outputs": [
    {
     "data": {
      "text/html": [
       "<div>\n",
       "<style scoped>\n",
       "    .dataframe tbody tr th:only-of-type {\n",
       "        vertical-align: middle;\n",
       "    }\n",
       "\n",
       "    .dataframe tbody tr th {\n",
       "        vertical-align: top;\n",
       "    }\n",
       "\n",
       "    .dataframe thead th {\n",
       "        text-align: right;\n",
       "    }\n",
       "</style>\n",
       "<table border=\"1\" class=\"dataframe\">\n",
       "  <thead>\n",
       "    <tr style=\"text-align: right;\">\n",
       "      <th></th>\n",
       "      <th>lpep_pickup_datetime</th>\n",
       "      <th>lpep_dropoff_datetime</th>\n",
       "      <th>PULocationID</th>\n",
       "      <th>DOLocationID</th>\n",
       "      <th>passenger_count</th>\n",
       "      <th>trip_distance</th>\n",
       "      <th>total_amount</th>\n",
       "    </tr>\n",
       "  </thead>\n",
       "  <tbody>\n",
       "    <tr>\n",
       "      <th>0</th>\n",
       "      <td>2023-01-01 00:26:10</td>\n",
       "      <td>2023-01-01 00:37:11</td>\n",
       "      <td>166</td>\n",
       "      <td>143</td>\n",
       "      <td>1.0</td>\n",
       "      <td>2.58</td>\n",
       "      <td>24.18</td>\n",
       "    </tr>\n",
       "    <tr>\n",
       "      <th>1</th>\n",
       "      <td>2023-01-01 00:51:03</td>\n",
       "      <td>2023-01-01 00:57:49</td>\n",
       "      <td>24</td>\n",
       "      <td>43</td>\n",
       "      <td>1.0</td>\n",
       "      <td>1.81</td>\n",
       "      <td>15.84</td>\n",
       "    </tr>\n",
       "    <tr>\n",
       "      <th>2</th>\n",
       "      <td>2023-01-01 00:35:12</td>\n",
       "      <td>2023-01-01 00:41:32</td>\n",
       "      <td>223</td>\n",
       "      <td>179</td>\n",
       "      <td>1.0</td>\n",
       "      <td>0.00</td>\n",
       "      <td>11.64</td>\n",
       "    </tr>\n",
       "    <tr>\n",
       "      <th>3</th>\n",
       "      <td>2023-01-01 00:13:14</td>\n",
       "      <td>2023-01-01 00:19:03</td>\n",
       "      <td>41</td>\n",
       "      <td>238</td>\n",
       "      <td>1.0</td>\n",
       "      <td>1.30</td>\n",
       "      <td>10.20</td>\n",
       "    </tr>\n",
       "  </tbody>\n",
       "</table>\n",
       "</div>"
      ],
      "text/plain": [
       "  lpep_pickup_datetime lpep_dropoff_datetime  PULocationID  DOLocationID  \\\n",
       "0  2023-01-01 00:26:10   2023-01-01 00:37:11           166           143   \n",
       "1  2023-01-01 00:51:03   2023-01-01 00:57:49            24            43   \n",
       "2  2023-01-01 00:35:12   2023-01-01 00:41:32           223           179   \n",
       "3  2023-01-01 00:13:14   2023-01-01 00:19:03            41           238   \n",
       "\n",
       "   passenger_count  trip_distance  total_amount  \n",
       "0              1.0           2.58         24.18  \n",
       "1              1.0           1.81         15.84  \n",
       "2              1.0           0.00         11.64  \n",
       "3              1.0           1.30         10.20  "
      ]
     },
     "execution_count": 43,
     "metadata": {},
     "output_type": "execute_result"
    }
   ],
   "source": [
    "greenlimpio.head(4)"
   ]
  },
  {
   "cell_type": "code",
   "execution_count": 44,
   "metadata": {},
   "outputs": [
    {
     "name": "stdout",
     "output_type": "stream",
     "text": [
      "<class 'pandas.core.frame.DataFrame'>\n",
      "RangeIndex: 787060 entries, 0 to 787059\n",
      "Data columns (total 7 columns):\n",
      " #   Column                 Non-Null Count   Dtype         \n",
      "---  ------                 --------------   -----         \n",
      " 0   lpep_pickup_datetime   787060 non-null  datetime64[us]\n",
      " 1   lpep_dropoff_datetime  787060 non-null  datetime64[us]\n",
      " 2   PULocationID           787060 non-null  int64         \n",
      " 3   DOLocationID           787060 non-null  int64         \n",
      " 4   passenger_count        731447 non-null  float64       \n",
      " 5   trip_distance          787060 non-null  float64       \n",
      " 6   total_amount           787060 non-null  float64       \n",
      "dtypes: datetime64[us](2), float64(3), int64(2)\n",
      "memory usage: 42.0 MB\n"
     ]
    }
   ],
   "source": [
    "greenlimpio.info()"
   ]
  },
  {
   "cell_type": "code",
   "execution_count": 45,
   "metadata": {},
   "outputs": [
    {
     "name": "stdout",
     "output_type": "stream",
     "text": [
      "Hay 0 filas duplicadas en el DataFrame.\n"
     ]
    }
   ],
   "source": [
    "# Consultar filas duplicadas\n",
    "duplicated_rows = greenlimpio[greenlimpio.duplicated()]\n",
    "\n",
    "# Verificar la cantidad de filas duplicadas\n",
    "num_duplicated_rows = duplicated_rows.shape[0]\n",
    "\n",
    "print(f\"Hay {num_duplicated_rows} filas duplicadas en el DataFrame.\")\n",
    "\n",
    "# Mostrar las filas duplicadas (opcional)\n",
    "if num_duplicated_rows > 0:\n",
    "    print(\"Filas duplicadas:\")\n",
    "    print(duplicated_rows)\n"
   ]
  },
  {
   "cell_type": "code",
   "execution_count": 46,
   "metadata": {},
   "outputs": [
    {
     "name": "stdout",
     "output_type": "stream",
     "text": [
      "Columnas con valores nulos:\n",
      "passenger_count    55613\n",
      "dtype: int64\n"
     ]
    }
   ],
   "source": [
    "# Verificar valores nulos\n",
    "null_values = greenlimpio.isnull().sum()\n",
    "\n",
    "# Mostrar columnas con valores nulos\n",
    "null_columns = null_values[null_values > 0]\n",
    "print(\"Columnas con valores nulos:\")\n",
    "print(null_columns)\n"
   ]
  },
  {
   "cell_type": "code",
   "execution_count": 47,
   "metadata": {},
   "outputs": [
    {
     "data": {
      "text/html": [
       "<div>\n",
       "<style scoped>\n",
       "    .dataframe tbody tr th:only-of-type {\n",
       "        vertical-align: middle;\n",
       "    }\n",
       "\n",
       "    .dataframe tbody tr th {\n",
       "        vertical-align: top;\n",
       "    }\n",
       "\n",
       "    .dataframe thead th {\n",
       "        text-align: right;\n",
       "    }\n",
       "</style>\n",
       "<table border=\"1\" class=\"dataframe\">\n",
       "  <thead>\n",
       "    <tr style=\"text-align: right;\">\n",
       "      <th></th>\n",
       "      <th>lpep_pickup_datetime</th>\n",
       "      <th>lpep_dropoff_datetime</th>\n",
       "      <th>PULocationID</th>\n",
       "      <th>DOLocationID</th>\n",
       "      <th>passenger_count</th>\n",
       "      <th>trip_distance</th>\n",
       "      <th>total_amount</th>\n",
       "    </tr>\n",
       "  </thead>\n",
       "  <tbody>\n",
       "    <tr>\n",
       "      <th>0</th>\n",
       "      <td>2023-01-01 00:26:10</td>\n",
       "      <td>2023-01-01 00:37:11</td>\n",
       "      <td>166</td>\n",
       "      <td>143</td>\n",
       "      <td>1.0</td>\n",
       "      <td>2.58</td>\n",
       "      <td>24.18</td>\n",
       "    </tr>\n",
       "    <tr>\n",
       "      <th>1</th>\n",
       "      <td>2023-01-01 00:51:03</td>\n",
       "      <td>2023-01-01 00:57:49</td>\n",
       "      <td>24</td>\n",
       "      <td>43</td>\n",
       "      <td>1.0</td>\n",
       "      <td>1.81</td>\n",
       "      <td>15.84</td>\n",
       "    </tr>\n",
       "  </tbody>\n",
       "</table>\n",
       "</div>"
      ],
      "text/plain": [
       "  lpep_pickup_datetime lpep_dropoff_datetime  PULocationID  DOLocationID  \\\n",
       "0  2023-01-01 00:26:10   2023-01-01 00:37:11           166           143   \n",
       "1  2023-01-01 00:51:03   2023-01-01 00:57:49            24            43   \n",
       "\n",
       "   passenger_count  trip_distance  total_amount  \n",
       "0              1.0           2.58         24.18  \n",
       "1              1.0           1.81         15.84  "
      ]
     },
     "execution_count": 47,
     "metadata": {},
     "output_type": "execute_result"
    }
   ],
   "source": [
    "greenlimpio.head(2)"
   ]
  },
  {
   "cell_type": "code",
   "execution_count": 48,
   "metadata": {},
   "outputs": [
    {
     "name": "stdout",
     "output_type": "stream",
     "text": [
      "Hay 0 valores nulos después de eliminar las filas con valores nulos.\n"
     ]
    }
   ],
   "source": [
    "# Eliminar las filas con valores nulos\n",
    "greensinnulos = greenlimpio.dropna()\n",
    "\n",
    "# Verificar si hay valores nulos restantes\n",
    "null_values_after_dropping = greensinnulos.isnull().sum().sum()\n",
    "print(f\"Hay {null_values_after_dropping} valores nulos después de eliminar las filas con valores nulos.\")\n"
   ]
  },
  {
   "cell_type": "code",
   "execution_count": 49,
   "metadata": {},
   "outputs": [],
   "source": [
    "greenfinal = greensinnulos[greensinnulos['passenger_count'] != 0]"
   ]
  },
  {
   "cell_type": "code",
   "execution_count": 50,
   "metadata": {},
   "outputs": [
    {
     "name": "stdout",
     "output_type": "stream",
     "text": [
      "<class 'pandas.core.frame.DataFrame'>\n",
      "Index: 725304 entries, 0 to 782147\n",
      "Data columns (total 7 columns):\n",
      " #   Column                 Non-Null Count   Dtype         \n",
      "---  ------                 --------------   -----         \n",
      " 0   lpep_pickup_datetime   725304 non-null  datetime64[us]\n",
      " 1   lpep_dropoff_datetime  725304 non-null  datetime64[us]\n",
      " 2   PULocationID           725304 non-null  int64         \n",
      " 3   DOLocationID           725304 non-null  int64         \n",
      " 4   passenger_count        725304 non-null  float64       \n",
      " 5   trip_distance          725304 non-null  float64       \n",
      " 6   total_amount           725304 non-null  float64       \n",
      "dtypes: datetime64[us](2), float64(3), int64(2)\n",
      "memory usage: 44.3 MB\n"
     ]
    }
   ],
   "source": [
    "greenfinal.info()"
   ]
  },
  {
   "cell_type": "code",
   "execution_count": 51,
   "metadata": {},
   "outputs": [
    {
     "name": "stderr",
     "output_type": "stream",
     "text": [
      "C:\\Users\\lautaro\\AppData\\Local\\Temp\\ipykernel_30088\\1683459121.py:1: SettingWithCopyWarning: \n",
      "A value is trying to be set on a copy of a slice from a DataFrame.\n",
      "Try using .loc[row_indexer,col_indexer] = value instead\n",
      "\n",
      "See the caveats in the documentation: https://pandas.pydata.org/pandas-docs/stable/user_guide/indexing.html#returning-a-view-versus-a-copy\n",
      "  greenfinal[\"Servicio\"] = 'Green'\n"
     ]
    }
   ],
   "source": [
    "greenfinal[\"Servicio\"] = 'Green'"
   ]
  },
  {
   "cell_type": "code",
   "execution_count": 52,
   "metadata": {},
   "outputs": [
    {
     "data": {
      "text/html": [
       "<div>\n",
       "<style scoped>\n",
       "    .dataframe tbody tr th:only-of-type {\n",
       "        vertical-align: middle;\n",
       "    }\n",
       "\n",
       "    .dataframe tbody tr th {\n",
       "        vertical-align: top;\n",
       "    }\n",
       "\n",
       "    .dataframe thead th {\n",
       "        text-align: right;\n",
       "    }\n",
       "</style>\n",
       "<table border=\"1\" class=\"dataframe\">\n",
       "  <thead>\n",
       "    <tr style=\"text-align: right;\">\n",
       "      <th></th>\n",
       "      <th>lpep_pickup_datetime</th>\n",
       "      <th>lpep_dropoff_datetime</th>\n",
       "      <th>PULocationID</th>\n",
       "      <th>DOLocationID</th>\n",
       "      <th>passenger_count</th>\n",
       "      <th>trip_distance</th>\n",
       "      <th>total_amount</th>\n",
       "      <th>Servicio</th>\n",
       "    </tr>\n",
       "  </thead>\n",
       "  <tbody>\n",
       "    <tr>\n",
       "      <th>0</th>\n",
       "      <td>2023-01-01 00:26:10</td>\n",
       "      <td>2023-01-01 00:37:11</td>\n",
       "      <td>166</td>\n",
       "      <td>143</td>\n",
       "      <td>1.0</td>\n",
       "      <td>2.58</td>\n",
       "      <td>24.18</td>\n",
       "      <td>Green</td>\n",
       "    </tr>\n",
       "    <tr>\n",
       "      <th>1</th>\n",
       "      <td>2023-01-01 00:51:03</td>\n",
       "      <td>2023-01-01 00:57:49</td>\n",
       "      <td>24</td>\n",
       "      <td>43</td>\n",
       "      <td>1.0</td>\n",
       "      <td>1.81</td>\n",
       "      <td>15.84</td>\n",
       "      <td>Green</td>\n",
       "    </tr>\n",
       "  </tbody>\n",
       "</table>\n",
       "</div>"
      ],
      "text/plain": [
       "  lpep_pickup_datetime lpep_dropoff_datetime  PULocationID  DOLocationID  \\\n",
       "0  2023-01-01 00:26:10   2023-01-01 00:37:11           166           143   \n",
       "1  2023-01-01 00:51:03   2023-01-01 00:57:49            24            43   \n",
       "\n",
       "   passenger_count  trip_distance  total_amount Servicio  \n",
       "0              1.0           2.58         24.18    Green  \n",
       "1              1.0           1.81         15.84    Green  "
      ]
     },
     "execution_count": 52,
     "metadata": {},
     "output_type": "execute_result"
    }
   ],
   "source": [
    "greenfinal.head(2)"
   ]
  },
  {
   "cell_type": "code",
   "execution_count": 53,
   "metadata": {},
   "outputs": [],
   "source": [
    "def obtener_distrito(locationId):\n",
    "    # Diccionario con ID de distritos\n",
    "    zonas = {\n",
    "        'Manhattan': [4,  12,  13,  24,  41,  42,  43,  45,  48,  50,  68,  74,  75,\n",
    "                      79,  87,  88,  90, 100, 103, 107, 113, 114, 116, 120, 125, 127,\n",
    "                      128, 137, 140, 141, 142, 143, 144, 148, 151, 152, 153, 158, 161,\n",
    "                      162, 163, 164, 166, 170, 186, 194, 202, 209, 211, 224, 229, 230,\n",
    "                      231, 232, 233, 234, 236, 237, 238, 239, 243, 244, 246, 249, 261,\n",
    "                      262, 263],\n",
    "\n",
    "        'Brooklyn': [11,  14,  17,  21,  22,  25,  26,  29,  33,  34,  35,  36,  37,\n",
    "                     39,  40,  49,  52,  54,  55,  61,  62,  63,  65,  66,  67,  71,\n",
    "                     72,  76,  77,  80,  85,  89,  91,  97, 106, 108, 111, 112, 123,\n",
    "                     133, 149, 150, 154, 155, 165, 177, 178, 181, 188, 189, 190, 195,\n",
    "                     210, 217, 222, 225, 227, 228, 255, 256, 257],\n",
    "\n",
    "        'Queens': [2,   7,   8,   9,  10,  15,  16,  19,  27,  28,  30,  38,  53,\n",
    "                   56,  64,  70,  73,  82,  83,  86,  92,  93,  95,  96,  98, 101,\n",
    "                   102, 117, 121, 122, 124, 129, 130, 131, 132, 134, 135, 138, 139,\n",
    "                   145, 146, 157, 160, 171, 173, 175, 179, 180, 191, 192, 193, 196,\n",
    "                   197, 198, 201, 203, 205, 207, 215, 216, 218, 219, 223, 226, 252,\n",
    "                   253, 258, 260],\n",
    "\n",
    "        'Staten Island': [5,   6,  23,  44,  84,  99, 109, 110, 115, 118, 156, 172, 176,\n",
    "                          187, 204, 206, 214, 221, 245, 251],\n",
    "\n",
    "        'EWR':[1]\n",
    "    }\n",
    "    #    Clave  valor\n",
    "    for distrito, ids in zonas.items():\n",
    "        if locationId in ids: #Si el ID pasado como argumento esta en la lista\n",
    "            return distrito   # retorna la clave del diccionario (distrito)\n",
    "\n",
    "    return 'SD'"
   ]
  },
  {
   "cell_type": "code",
   "execution_count": 54,
   "metadata": {},
   "outputs": [
    {
     "name": "stderr",
     "output_type": "stream",
     "text": [
      "C:\\Users\\lautaro\\AppData\\Local\\Temp\\ipykernel_30088\\3435044231.py:1: SettingWithCopyWarning: \n",
      "A value is trying to be set on a copy of a slice from a DataFrame.\n",
      "Try using .loc[row_indexer,col_indexer] = value instead\n",
      "\n",
      "See the caveats in the documentation: https://pandas.pydata.org/pandas-docs/stable/user_guide/indexing.html#returning-a-view-versus-a-copy\n",
      "  greenfinal['Pickup_borough'] = greenfinal ['PULocationID'].apply(obtener_distrito)\n"
     ]
    }
   ],
   "source": [
    "greenfinal['Pickup_borough'] = greenfinal ['PULocationID'].apply(obtener_distrito)"
   ]
  },
  {
   "cell_type": "code",
   "execution_count": 55,
   "metadata": {},
   "outputs": [
    {
     "data": {
      "text/html": [
       "<div>\n",
       "<style scoped>\n",
       "    .dataframe tbody tr th:only-of-type {\n",
       "        vertical-align: middle;\n",
       "    }\n",
       "\n",
       "    .dataframe tbody tr th {\n",
       "        vertical-align: top;\n",
       "    }\n",
       "\n",
       "    .dataframe thead th {\n",
       "        text-align: right;\n",
       "    }\n",
       "</style>\n",
       "<table border=\"1\" class=\"dataframe\">\n",
       "  <thead>\n",
       "    <tr style=\"text-align: right;\">\n",
       "      <th></th>\n",
       "      <th>lpep_pickup_datetime</th>\n",
       "      <th>lpep_dropoff_datetime</th>\n",
       "      <th>PULocationID</th>\n",
       "      <th>DOLocationID</th>\n",
       "      <th>passenger_count</th>\n",
       "      <th>trip_distance</th>\n",
       "      <th>total_amount</th>\n",
       "      <th>Servicio</th>\n",
       "      <th>Pickup_borough</th>\n",
       "    </tr>\n",
       "  </thead>\n",
       "  <tbody>\n",
       "    <tr>\n",
       "      <th>0</th>\n",
       "      <td>2023-01-01 00:26:10</td>\n",
       "      <td>2023-01-01 00:37:11</td>\n",
       "      <td>166</td>\n",
       "      <td>143</td>\n",
       "      <td>1.0</td>\n",
       "      <td>2.58</td>\n",
       "      <td>24.18</td>\n",
       "      <td>Green</td>\n",
       "      <td>Manhattan</td>\n",
       "    </tr>\n",
       "    <tr>\n",
       "      <th>1</th>\n",
       "      <td>2023-01-01 00:51:03</td>\n",
       "      <td>2023-01-01 00:57:49</td>\n",
       "      <td>24</td>\n",
       "      <td>43</td>\n",
       "      <td>1.0</td>\n",
       "      <td>1.81</td>\n",
       "      <td>15.84</td>\n",
       "      <td>Green</td>\n",
       "      <td>Manhattan</td>\n",
       "    </tr>\n",
       "  </tbody>\n",
       "</table>\n",
       "</div>"
      ],
      "text/plain": [
       "  lpep_pickup_datetime lpep_dropoff_datetime  PULocationID  DOLocationID  \\\n",
       "0  2023-01-01 00:26:10   2023-01-01 00:37:11           166           143   \n",
       "1  2023-01-01 00:51:03   2023-01-01 00:57:49            24            43   \n",
       "\n",
       "   passenger_count  trip_distance  total_amount Servicio Pickup_borough  \n",
       "0              1.0           2.58         24.18    Green      Manhattan  \n",
       "1              1.0           1.81         15.84    Green      Manhattan  "
      ]
     },
     "execution_count": 55,
     "metadata": {},
     "output_type": "execute_result"
    }
   ],
   "source": [
    "greenfinal.head(2)"
   ]
  },
  {
   "cell_type": "code",
   "execution_count": 56,
   "metadata": {},
   "outputs": [
    {
     "name": "stdout",
     "output_type": "stream",
     "text": [
      "Columnas restantes en el DataFrame:\n",
      "Index(['lpep_pickup_datetime', 'lpep_dropoff_datetime', 'passenger_count',\n",
      "       'trip_distance', 'total_amount', 'Servicio', 'Pickup_borough'],\n",
      "      dtype='object')\n"
     ]
    }
   ],
   "source": [
    "columnsaeliminar2= ['DOLocationID', 'PULocationID']\n",
    "\n",
    "greenfinal = greenfinal.drop(columns=columnsaeliminar2)\n",
    "print(\"Columnas restantes en el DataFrame:\")\n",
    "print(greenfinal.columns)\n"
   ]
  },
  {
   "cell_type": "code",
   "execution_count": 57,
   "metadata": {},
   "outputs": [
    {
     "data": {
      "text/html": [
       "<div>\n",
       "<style scoped>\n",
       "    .dataframe tbody tr th:only-of-type {\n",
       "        vertical-align: middle;\n",
       "    }\n",
       "\n",
       "    .dataframe tbody tr th {\n",
       "        vertical-align: top;\n",
       "    }\n",
       "\n",
       "    .dataframe thead th {\n",
       "        text-align: right;\n",
       "    }\n",
       "</style>\n",
       "<table border=\"1\" class=\"dataframe\">\n",
       "  <thead>\n",
       "    <tr style=\"text-align: right;\">\n",
       "      <th></th>\n",
       "      <th>lpep_pickup_datetime</th>\n",
       "      <th>lpep_dropoff_datetime</th>\n",
       "      <th>passenger_count</th>\n",
       "      <th>trip_distance</th>\n",
       "      <th>total_amount</th>\n",
       "      <th>Servicio</th>\n",
       "      <th>Pickup_borough</th>\n",
       "    </tr>\n",
       "  </thead>\n",
       "  <tbody>\n",
       "    <tr>\n",
       "      <th>0</th>\n",
       "      <td>2023-01-01 00:26:10</td>\n",
       "      <td>2023-01-01 00:37:11</td>\n",
       "      <td>1.0</td>\n",
       "      <td>2.58</td>\n",
       "      <td>24.18</td>\n",
       "      <td>Green</td>\n",
       "      <td>Manhattan</td>\n",
       "    </tr>\n",
       "    <tr>\n",
       "      <th>1</th>\n",
       "      <td>2023-01-01 00:51:03</td>\n",
       "      <td>2023-01-01 00:57:49</td>\n",
       "      <td>1.0</td>\n",
       "      <td>1.81</td>\n",
       "      <td>15.84</td>\n",
       "      <td>Green</td>\n",
       "      <td>Manhattan</td>\n",
       "    </tr>\n",
       "  </tbody>\n",
       "</table>\n",
       "</div>"
      ],
      "text/plain": [
       "  lpep_pickup_datetime lpep_dropoff_datetime  passenger_count  trip_distance  \\\n",
       "0  2023-01-01 00:26:10   2023-01-01 00:37:11              1.0           2.58   \n",
       "1  2023-01-01 00:51:03   2023-01-01 00:57:49              1.0           1.81   \n",
       "\n",
       "   total_amount Servicio Pickup_borough  \n",
       "0         24.18    Green      Manhattan  \n",
       "1         15.84    Green      Manhattan  "
      ]
     },
     "execution_count": 57,
     "metadata": {},
     "output_type": "execute_result"
    }
   ],
   "source": [
    "greenfinal.head(2)"
   ]
  },
  {
   "cell_type": "code",
   "execution_count": 58,
   "metadata": {},
   "outputs": [],
   "source": [
    "green = greenfinal[greenfinal['Pickup_borough'] != 'SD']"
   ]
  },
  {
   "cell_type": "code",
   "execution_count": 59,
   "metadata": {},
   "outputs": [
    {
     "data": {
      "text/html": [
       "<div>\n",
       "<style scoped>\n",
       "    .dataframe tbody tr th:only-of-type {\n",
       "        vertical-align: middle;\n",
       "    }\n",
       "\n",
       "    .dataframe tbody tr th {\n",
       "        vertical-align: top;\n",
       "    }\n",
       "\n",
       "    .dataframe thead th {\n",
       "        text-align: right;\n",
       "    }\n",
       "</style>\n",
       "<table border=\"1\" class=\"dataframe\">\n",
       "  <thead>\n",
       "    <tr style=\"text-align: right;\">\n",
       "      <th></th>\n",
       "      <th>tpep_pickup_datetime</th>\n",
       "      <th>tpep_dropoff_datetime</th>\n",
       "      <th>passenger_count</th>\n",
       "      <th>trip_distance</th>\n",
       "      <th>total_amount</th>\n",
       "      <th>Servicio</th>\n",
       "      <th>Pickup_borough</th>\n",
       "    </tr>\n",
       "  </thead>\n",
       "  <tbody>\n",
       "    <tr>\n",
       "      <th>0</th>\n",
       "      <td>2023-01-01 00:26:10</td>\n",
       "      <td>2023-01-01 00:37:11</td>\n",
       "      <td>1.0</td>\n",
       "      <td>2.58</td>\n",
       "      <td>24.18</td>\n",
       "      <td>Green</td>\n",
       "      <td>Manhattan</td>\n",
       "    </tr>\n",
       "    <tr>\n",
       "      <th>1</th>\n",
       "      <td>2023-01-01 00:51:03</td>\n",
       "      <td>2023-01-01 00:57:49</td>\n",
       "      <td>1.0</td>\n",
       "      <td>1.81</td>\n",
       "      <td>15.84</td>\n",
       "      <td>Green</td>\n",
       "      <td>Manhattan</td>\n",
       "    </tr>\n",
       "    <tr>\n",
       "      <th>2</th>\n",
       "      <td>2023-01-01 00:35:12</td>\n",
       "      <td>2023-01-01 00:41:32</td>\n",
       "      <td>1.0</td>\n",
       "      <td>0.00</td>\n",
       "      <td>11.64</td>\n",
       "      <td>Green</td>\n",
       "      <td>Queens</td>\n",
       "    </tr>\n",
       "    <tr>\n",
       "      <th>3</th>\n",
       "      <td>2023-01-01 00:13:14</td>\n",
       "      <td>2023-01-01 00:19:03</td>\n",
       "      <td>1.0</td>\n",
       "      <td>1.30</td>\n",
       "      <td>10.20</td>\n",
       "      <td>Green</td>\n",
       "      <td>Manhattan</td>\n",
       "    </tr>\n",
       "  </tbody>\n",
       "</table>\n",
       "</div>"
      ],
      "text/plain": [
       "  tpep_pickup_datetime tpep_dropoff_datetime  passenger_count  trip_distance  \\\n",
       "0  2023-01-01 00:26:10   2023-01-01 00:37:11              1.0           2.58   \n",
       "1  2023-01-01 00:51:03   2023-01-01 00:57:49              1.0           1.81   \n",
       "2  2023-01-01 00:35:12   2023-01-01 00:41:32              1.0           0.00   \n",
       "3  2023-01-01 00:13:14   2023-01-01 00:19:03              1.0           1.30   \n",
       "\n",
       "   total_amount Servicio Pickup_borough  \n",
       "0         24.18    Green      Manhattan  \n",
       "1         15.84    Green      Manhattan  \n",
       "2         11.64    Green         Queens  \n",
       "3         10.20    Green      Manhattan  "
      ]
     },
     "execution_count": 59,
     "metadata": {},
     "output_type": "execute_result"
    }
   ],
   "source": [
    "# Usar rename para cambiar los nombres de columnas específicas\n",
    "green = green.rename(columns={\n",
    "    'lpep_pickup_datetime': 'tpep_pickup_datetime',\n",
    "    'lpep_dropoff_datetime': 'tpep_dropoff_datetime'\n",
    "})\n",
    "\n",
    "# Verificar el resultado\n",
    "green.head(4)"
   ]
  },
  {
   "cell_type": "code",
   "execution_count": 60,
   "metadata": {},
   "outputs": [
    {
     "data": {
      "text/html": [
       "<div>\n",
       "<style scoped>\n",
       "    .dataframe tbody tr th:only-of-type {\n",
       "        vertical-align: middle;\n",
       "    }\n",
       "\n",
       "    .dataframe tbody tr th {\n",
       "        vertical-align: top;\n",
       "    }\n",
       "\n",
       "    .dataframe thead th {\n",
       "        text-align: right;\n",
       "    }\n",
       "</style>\n",
       "<table border=\"1\" class=\"dataframe\">\n",
       "  <thead>\n",
       "    <tr style=\"text-align: right;\">\n",
       "      <th></th>\n",
       "      <th>tpep_pickup_datetime</th>\n",
       "      <th>tpep_dropoff_datetime</th>\n",
       "      <th>passenger_count</th>\n",
       "      <th>trip_distance</th>\n",
       "      <th>total_amount</th>\n",
       "      <th>Servicio</th>\n",
       "      <th>Pickup_borough</th>\n",
       "    </tr>\n",
       "  </thead>\n",
       "  <tbody>\n",
       "    <tr>\n",
       "      <th>0</th>\n",
       "      <td>2023-01-01 00:26:10</td>\n",
       "      <td>2023-01-01 00:37:11</td>\n",
       "      <td>1.0</td>\n",
       "      <td>2.58</td>\n",
       "      <td>24.18</td>\n",
       "      <td>Green</td>\n",
       "      <td>Manhattan</td>\n",
       "    </tr>\n",
       "    <tr>\n",
       "      <th>1</th>\n",
       "      <td>2023-01-01 00:51:03</td>\n",
       "      <td>2023-01-01 00:57:49</td>\n",
       "      <td>1.0</td>\n",
       "      <td>1.81</td>\n",
       "      <td>15.84</td>\n",
       "      <td>Green</td>\n",
       "      <td>Manhattan</td>\n",
       "    </tr>\n",
       "    <tr>\n",
       "      <th>2</th>\n",
       "      <td>2023-01-01 00:35:12</td>\n",
       "      <td>2023-01-01 00:41:32</td>\n",
       "      <td>1.0</td>\n",
       "      <td>0.00</td>\n",
       "      <td>11.64</td>\n",
       "      <td>Green</td>\n",
       "      <td>Queens</td>\n",
       "    </tr>\n",
       "    <tr>\n",
       "      <th>3</th>\n",
       "      <td>2023-01-01 00:13:14</td>\n",
       "      <td>2023-01-01 00:19:03</td>\n",
       "      <td>1.0</td>\n",
       "      <td>1.30</td>\n",
       "      <td>10.20</td>\n",
       "      <td>Green</td>\n",
       "      <td>Manhattan</td>\n",
       "    </tr>\n",
       "    <tr>\n",
       "      <th>4</th>\n",
       "      <td>2023-01-01 00:33:04</td>\n",
       "      <td>2023-01-01 00:39:02</td>\n",
       "      <td>1.0</td>\n",
       "      <td>1.10</td>\n",
       "      <td>8.00</td>\n",
       "      <td>Green</td>\n",
       "      <td>Manhattan</td>\n",
       "    </tr>\n",
       "    <tr>\n",
       "      <th>...</th>\n",
       "      <td>...</td>\n",
       "      <td>...</td>\n",
       "      <td>...</td>\n",
       "      <td>...</td>\n",
       "      <td>...</td>\n",
       "      <td>...</td>\n",
       "      <td>...</td>\n",
       "    </tr>\n",
       "    <tr>\n",
       "      <th>782142</th>\n",
       "      <td>2023-12-31 22:59:52</td>\n",
       "      <td>2023-12-31 23:12:14</td>\n",
       "      <td>1.0</td>\n",
       "      <td>2.74</td>\n",
       "      <td>18.90</td>\n",
       "      <td>Green</td>\n",
       "      <td>Manhattan</td>\n",
       "    </tr>\n",
       "    <tr>\n",
       "      <th>782144</th>\n",
       "      <td>2023-12-31 23:05:16</td>\n",
       "      <td>2023-12-31 23:33:32</td>\n",
       "      <td>1.0</td>\n",
       "      <td>14.44</td>\n",
       "      <td>86.36</td>\n",
       "      <td>Green</td>\n",
       "      <td>Queens</td>\n",
       "    </tr>\n",
       "    <tr>\n",
       "      <th>782145</th>\n",
       "      <td>2023-12-31 23:33:08</td>\n",
       "      <td>2023-12-31 23:47:07</td>\n",
       "      <td>1.0</td>\n",
       "      <td>3.18</td>\n",
       "      <td>20.20</td>\n",
       "      <td>Green</td>\n",
       "      <td>Queens</td>\n",
       "    </tr>\n",
       "    <tr>\n",
       "      <th>782146</th>\n",
       "      <td>2023-12-31 23:51:30</td>\n",
       "      <td>2023-12-31 23:53:56</td>\n",
       "      <td>1.0</td>\n",
       "      <td>1.02</td>\n",
       "      <td>9.00</td>\n",
       "      <td>Green</td>\n",
       "      <td>Manhattan</td>\n",
       "    </tr>\n",
       "    <tr>\n",
       "      <th>782147</th>\n",
       "      <td>2023-12-31 23:54:37</td>\n",
       "      <td>2023-12-31 23:56:14</td>\n",
       "      <td>1.0</td>\n",
       "      <td>0.27</td>\n",
       "      <td>6.90</td>\n",
       "      <td>Green</td>\n",
       "      <td>Manhattan</td>\n",
       "    </tr>\n",
       "  </tbody>\n",
       "</table>\n",
       "<p>710456 rows × 7 columns</p>\n",
       "</div>"
      ],
      "text/plain": [
       "       tpep_pickup_datetime tpep_dropoff_datetime  passenger_count  \\\n",
       "0       2023-01-01 00:26:10   2023-01-01 00:37:11              1.0   \n",
       "1       2023-01-01 00:51:03   2023-01-01 00:57:49              1.0   \n",
       "2       2023-01-01 00:35:12   2023-01-01 00:41:32              1.0   \n",
       "3       2023-01-01 00:13:14   2023-01-01 00:19:03              1.0   \n",
       "4       2023-01-01 00:33:04   2023-01-01 00:39:02              1.0   \n",
       "...                     ...                   ...              ...   \n",
       "782142  2023-12-31 22:59:52   2023-12-31 23:12:14              1.0   \n",
       "782144  2023-12-31 23:05:16   2023-12-31 23:33:32              1.0   \n",
       "782145  2023-12-31 23:33:08   2023-12-31 23:47:07              1.0   \n",
       "782146  2023-12-31 23:51:30   2023-12-31 23:53:56              1.0   \n",
       "782147  2023-12-31 23:54:37   2023-12-31 23:56:14              1.0   \n",
       "\n",
       "        trip_distance  total_amount Servicio Pickup_borough  \n",
       "0                2.58         24.18    Green      Manhattan  \n",
       "1                1.81         15.84    Green      Manhattan  \n",
       "2                0.00         11.64    Green         Queens  \n",
       "3                1.30         10.20    Green      Manhattan  \n",
       "4                1.10          8.00    Green      Manhattan  \n",
       "...               ...           ...      ...            ...  \n",
       "782142           2.74         18.90    Green      Manhattan  \n",
       "782144          14.44         86.36    Green         Queens  \n",
       "782145           3.18         20.20    Green         Queens  \n",
       "782146           1.02          9.00    Green      Manhattan  \n",
       "782147           0.27          6.90    Green      Manhattan  \n",
       "\n",
       "[710456 rows x 7 columns]"
      ]
     },
     "execution_count": 60,
     "metadata": {},
     "output_type": "execute_result"
    }
   ],
   "source": [
    "green"
   ]
  },
  {
   "attachments": {},
   "cell_type": "markdown",
   "metadata": {},
   "source": [
    "GUARDAMOS EN FORMATO PARQUET"
   ]
  },
  {
   "cell_type": "code",
   "execution_count": 62,
   "metadata": {},
   "outputs": [],
   "source": [
    "green.to_parquet('D:/escritorio/NYC-TAXIS/NYC_TAXIS-CO2/Data/Normalized/taxis_green.parquet', index=False)"
   ]
  }
 ],
 "metadata": {
  "kernelspec": {
   "display_name": "Python 3",
   "language": "python",
   "name": "python3"
  },
  "language_info": {
   "codemirror_mode": {
    "name": "ipython",
    "version": 3
   },
   "file_extension": ".py",
   "mimetype": "text/x-python",
   "name": "python",
   "nbconvert_exporter": "python",
   "pygments_lexer": "ipython3",
   "version": "3.11.9"
  },
  "orig_nbformat": 4
 },
 "nbformat": 4,
 "nbformat_minor": 2
}
