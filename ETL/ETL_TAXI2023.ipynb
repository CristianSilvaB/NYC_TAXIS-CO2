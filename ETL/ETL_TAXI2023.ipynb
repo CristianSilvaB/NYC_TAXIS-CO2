{
 "cells": [
  {
   "cell_type": "code",
   "execution_count": 1,
   "metadata": {},
   "outputs": [],
   "source": [
    "import pandas as pd\n",
    "import matplotlib.pyplot as plt"
   ]
  },
  {
   "cell_type": "code",
   "execution_count": 13,
   "metadata": {},
   "outputs": [
    {
     "data": {
      "text/html": [
       "<div>\n",
       "<style scoped>\n",
       "    .dataframe tbody tr th:only-of-type {\n",
       "        vertical-align: middle;\n",
       "    }\n",
       "\n",
       "    .dataframe tbody tr th {\n",
       "        vertical-align: top;\n",
       "    }\n",
       "\n",
       "    .dataframe thead th {\n",
       "        text-align: right;\n",
       "    }\n",
       "</style>\n",
       "<table border=\"1\" class=\"dataframe\">\n",
       "  <thead>\n",
       "    <tr style=\"text-align: right;\">\n",
       "      <th></th>\n",
       "      <th>tpep_pickup_datetime</th>\n",
       "      <th>tpep_dropoff_datetime</th>\n",
       "      <th>passenger_count</th>\n",
       "      <th>trip_distance</th>\n",
       "      <th>total_amount</th>\n",
       "      <th>Servicio</th>\n",
       "      <th>Pickup_borough</th>\n",
       "    </tr>\n",
       "  </thead>\n",
       "  <tbody>\n",
       "    <tr>\n",
       "      <th>0</th>\n",
       "      <td>2023-01-01 00:26:10</td>\n",
       "      <td>2023-01-01 00:37:11</td>\n",
       "      <td>1.0</td>\n",
       "      <td>2.58</td>\n",
       "      <td>24.18</td>\n",
       "      <td>Green</td>\n",
       "      <td>Manhattan</td>\n",
       "    </tr>\n",
       "    <tr>\n",
       "      <th>1</th>\n",
       "      <td>2023-01-01 00:51:03</td>\n",
       "      <td>2023-01-01 00:57:49</td>\n",
       "      <td>1.0</td>\n",
       "      <td>1.81</td>\n",
       "      <td>15.84</td>\n",
       "      <td>Green</td>\n",
       "      <td>Manhattan</td>\n",
       "    </tr>\n",
       "    <tr>\n",
       "      <th>2</th>\n",
       "      <td>2023-01-01 00:35:12</td>\n",
       "      <td>2023-01-01 00:41:32</td>\n",
       "      <td>1.0</td>\n",
       "      <td>0.00</td>\n",
       "      <td>11.64</td>\n",
       "      <td>Green</td>\n",
       "      <td>Queens</td>\n",
       "    </tr>\n",
       "    <tr>\n",
       "      <th>3</th>\n",
       "      <td>2023-01-01 00:13:14</td>\n",
       "      <td>2023-01-01 00:19:03</td>\n",
       "      <td>1.0</td>\n",
       "      <td>1.30</td>\n",
       "      <td>10.20</td>\n",
       "      <td>Green</td>\n",
       "      <td>Manhattan</td>\n",
       "    </tr>\n",
       "    <tr>\n",
       "      <th>4</th>\n",
       "      <td>2023-01-01 00:33:04</td>\n",
       "      <td>2023-01-01 00:39:02</td>\n",
       "      <td>1.0</td>\n",
       "      <td>1.10</td>\n",
       "      <td>8.00</td>\n",
       "      <td>Green</td>\n",
       "      <td>Manhattan</td>\n",
       "    </tr>\n",
       "    <tr>\n",
       "      <th>...</th>\n",
       "      <td>...</td>\n",
       "      <td>...</td>\n",
       "      <td>...</td>\n",
       "      <td>...</td>\n",
       "      <td>...</td>\n",
       "      <td>...</td>\n",
       "      <td>...</td>\n",
       "    </tr>\n",
       "    <tr>\n",
       "      <th>1846358</th>\n",
       "      <td>2023-12-21 21:44:02</td>\n",
       "      <td>2023-12-21 21:57:59</td>\n",
       "      <td>3.0</td>\n",
       "      <td>2.36</td>\n",
       "      <td>24.72</td>\n",
       "      <td>Yellow</td>\n",
       "      <td>Manhattan</td>\n",
       "    </tr>\n",
       "    <tr>\n",
       "      <th>1846359</th>\n",
       "      <td>2023-12-13 21:40:15</td>\n",
       "      <td>2023-12-13 21:42:47</td>\n",
       "      <td>1.0</td>\n",
       "      <td>0.60</td>\n",
       "      <td>10.90</td>\n",
       "      <td>Yellow</td>\n",
       "      <td>Manhattan</td>\n",
       "    </tr>\n",
       "    <tr>\n",
       "      <th>1846360</th>\n",
       "      <td>2023-12-12 18:09:08</td>\n",
       "      <td>2023-12-12 18:33:53</td>\n",
       "      <td>1.0</td>\n",
       "      <td>3.50</td>\n",
       "      <td>36.60</td>\n",
       "      <td>Yellow</td>\n",
       "      <td>Manhattan</td>\n",
       "    </tr>\n",
       "    <tr>\n",
       "      <th>1846361</th>\n",
       "      <td>2023-12-14 17:33:01</td>\n",
       "      <td>2023-12-14 17:48:33</td>\n",
       "      <td>2.0</td>\n",
       "      <td>1.12</td>\n",
       "      <td>20.00</td>\n",
       "      <td>Yellow</td>\n",
       "      <td>Manhattan</td>\n",
       "    </tr>\n",
       "    <tr>\n",
       "      <th>1846362</th>\n",
       "      <td>2023-12-20 20:10:27</td>\n",
       "      <td>2023-12-20 20:16:18</td>\n",
       "      <td>2.0</td>\n",
       "      <td>0.88</td>\n",
       "      <td>12.90</td>\n",
       "      <td>Yellow</td>\n",
       "      <td>Manhattan</td>\n",
       "    </tr>\n",
       "  </tbody>\n",
       "</table>\n",
       "<p>1846363 rows × 7 columns</p>\n",
       "</div>"
      ],
      "text/plain": [
       "        tpep_pickup_datetime tpep_dropoff_datetime  passenger_count  \\\n",
       "0        2023-01-01 00:26:10   2023-01-01 00:37:11              1.0   \n",
       "1        2023-01-01 00:51:03   2023-01-01 00:57:49              1.0   \n",
       "2        2023-01-01 00:35:12   2023-01-01 00:41:32              1.0   \n",
       "3        2023-01-01 00:13:14   2023-01-01 00:19:03              1.0   \n",
       "4        2023-01-01 00:33:04   2023-01-01 00:39:02              1.0   \n",
       "...                      ...                   ...              ...   \n",
       "1846358  2023-12-21 21:44:02   2023-12-21 21:57:59              3.0   \n",
       "1846359  2023-12-13 21:40:15   2023-12-13 21:42:47              1.0   \n",
       "1846360  2023-12-12 18:09:08   2023-12-12 18:33:53              1.0   \n",
       "1846361  2023-12-14 17:33:01   2023-12-14 17:48:33              2.0   \n",
       "1846362  2023-12-20 20:10:27   2023-12-20 20:16:18              2.0   \n",
       "\n",
       "         trip_distance  total_amount Servicio Pickup_borough  \n",
       "0                 2.58         24.18    Green      Manhattan  \n",
       "1                 1.81         15.84    Green      Manhattan  \n",
       "2                 0.00         11.64    Green         Queens  \n",
       "3                 1.30         10.20    Green      Manhattan  \n",
       "4                 1.10          8.00    Green      Manhattan  \n",
       "...                ...           ...      ...            ...  \n",
       "1846358           2.36         24.72   Yellow      Manhattan  \n",
       "1846359           0.60         10.90   Yellow      Manhattan  \n",
       "1846360           3.50         36.60   Yellow      Manhattan  \n",
       "1846361           1.12         20.00   Yellow      Manhattan  \n",
       "1846362           0.88         12.90   Yellow      Manhattan  \n",
       "\n",
       "[1846363 rows x 7 columns]"
      ]
     },
     "execution_count": 13,
     "metadata": {},
     "output_type": "execute_result"
    }
   ],
   "source": [
    "taxi2023 = pd.read_parquet('NYC_TAXIS-CO2/Data/Normalized/taxis_2023.parquet')\n",
    "taxi2023"
   ]
  },
  {
   "cell_type": "code",
   "execution_count": 6,
   "metadata": {},
   "outputs": [
    {
     "name": "stdout",
     "output_type": "stream",
     "text": [
      "Sí, hay valores nulos en el DataFrame.\n"
     ]
    }
   ],
   "source": [
    "# Consultar si hay valores nulos en el DataFrame\n",
    "hay_nulos = taxi2023.isnull().any().any()\n",
    "\n",
    "if hay_nulos:\n",
    "    print(\"Sí, hay valores nulos en el DataFrame.\")\n",
    "else:\n",
    "    print(\"No hay valores nulos en el DataFrame.\")"
   ]
  },
  {
   "cell_type": "code",
   "execution_count": 10,
   "metadata": {},
   "outputs": [
    {
     "name": "stdout",
     "output_type": "stream",
     "text": [
      "Valores únicos en la columna 'Servicio': ['Green' 'Yellow']\n"
     ]
    }
   ],
   "source": [
    "valores_unicos = taxi2023['Servicio'].unique()\n",
    "\n",
    "print(\"Valores únicos en la columna 'Servicio':\", valores_unicos)"
   ]
  },
  {
   "cell_type": "code",
   "execution_count": 11,
   "metadata": {},
   "outputs": [
    {
     "name": "stdout",
     "output_type": "stream",
     "text": [
      "Valores únicos en la columna 'passenger_count': [ 1.  2.  4.  3.  6.  5.  7.  8.  9. nan  0.]\n"
     ]
    }
   ],
   "source": [
    "valores_unicos = taxi2023['passenger_count'].unique()\n",
    "\n",
    "print(\"Valores únicos en la columna 'passenger_count':\", valores_unicos)"
   ]
  },
  {
   "cell_type": "code",
   "execution_count": 14,
   "metadata": {},
   "outputs": [
    {
     "name": "stdout",
     "output_type": "stream",
     "text": [
      "DataFrame sin valores nulos:\n",
      "         tpep_pickup_datetime tpep_dropoff_datetime  passenger_count  \\\n",
      "0        2023-01-01 00:26:10   2023-01-01 00:37:11              1.0   \n",
      "1        2023-01-01 00:51:03   2023-01-01 00:57:49              1.0   \n",
      "2        2023-01-01 00:35:12   2023-01-01 00:41:32              1.0   \n",
      "3        2023-01-01 00:13:14   2023-01-01 00:19:03              1.0   \n",
      "4        2023-01-01 00:33:04   2023-01-01 00:39:02              1.0   \n",
      "...                      ...                   ...              ...   \n",
      "1846358  2023-12-21 21:44:02   2023-12-21 21:57:59              3.0   \n",
      "1846359  2023-12-13 21:40:15   2023-12-13 21:42:47              1.0   \n",
      "1846360  2023-12-12 18:09:08   2023-12-12 18:33:53              1.0   \n",
      "1846361  2023-12-14 17:33:01   2023-12-14 17:48:33              2.0   \n",
      "1846362  2023-12-20 20:10:27   2023-12-20 20:16:18              2.0   \n",
      "\n",
      "         trip_distance  total_amount Servicio Pickup_borough  \n",
      "0                 2.58         24.18    Green      Manhattan  \n",
      "1                 1.81         15.84    Green      Manhattan  \n",
      "2                 0.00         11.64    Green         Queens  \n",
      "3                 1.30         10.20    Green      Manhattan  \n",
      "4                 1.10          8.00    Green      Manhattan  \n",
      "...                ...           ...      ...            ...  \n",
      "1846358           2.36         24.72   Yellow      Manhattan  \n",
      "1846359           0.60         10.90   Yellow      Manhattan  \n",
      "1846360           3.50         36.60   Yellow      Manhattan  \n",
      "1846361           1.12         20.00   Yellow      Manhattan  \n",
      "1846362           0.88         12.90   Yellow      Manhattan  \n",
      "\n",
      "[1807458 rows x 7 columns]\n"
     ]
    }
   ],
   "source": [
    "df_sin_nulos = taxi2023.dropna()\n",
    "\n",
    "print(\"DataFrame sin valores nulos:\\n\", df_sin_nulos)"
   ]
  },
  {
   "cell_type": "code",
   "execution_count": 16,
   "metadata": {},
   "outputs": [
    {
     "name": "stdout",
     "output_type": "stream",
     "text": [
      "        tpep_pickup_datetime tpep_dropoff_datetime  passenger_count  \\\n",
      "0        2023-01-01 00:26:10   2023-01-01 00:37:11              1.0   \n",
      "1        2023-01-01 00:51:03   2023-01-01 00:57:49              1.0   \n",
      "2        2023-01-01 00:35:12   2023-01-01 00:41:32              1.0   \n",
      "3        2023-01-01 00:13:14   2023-01-01 00:19:03              1.0   \n",
      "4        2023-01-01 00:33:04   2023-01-01 00:39:02              1.0   \n",
      "...                      ...                   ...              ...   \n",
      "1846358  2023-12-21 21:44:02   2023-12-21 21:57:59              3.0   \n",
      "1846359  2023-12-13 21:40:15   2023-12-13 21:42:47              1.0   \n",
      "1846360  2023-12-12 18:09:08   2023-12-12 18:33:53              1.0   \n",
      "1846361  2023-12-14 17:33:01   2023-12-14 17:48:33              2.0   \n",
      "1846362  2023-12-20 20:10:27   2023-12-20 20:16:18              2.0   \n",
      "\n",
      "         trip_distance  total_amount Servicio Pickup_borough  \n",
      "0                 2.58         24.18    Green      Manhattan  \n",
      "1                 1.81         15.84    Green      Manhattan  \n",
      "2                 0.00         11.64    Green         Queens  \n",
      "3                 1.30         10.20    Green      Manhattan  \n",
      "4                 1.10          8.00    Green      Manhattan  \n",
      "...                ...           ...      ...            ...  \n",
      "1846358           2.36         24.72   Yellow      Manhattan  \n",
      "1846359           0.60         10.90   Yellow      Manhattan  \n",
      "1846360           3.50         36.60   Yellow      Manhattan  \n",
      "1846361           1.12         20.00   Yellow      Manhattan  \n",
      "1846362           0.88         12.90   Yellow      Manhattan  \n",
      "\n",
      "[1790351 rows x 7 columns]\n"
     ]
    }
   ],
   "source": [
    "df_filtrado = df_sin_nulos[df_sin_nulos['passenger_count'] != 0.0]\n",
    "\n",
    "print(df_filtrado)"
   ]
  },
  {
   "cell_type": "code",
   "execution_count": 17,
   "metadata": {},
   "outputs": [
    {
     "name": "stdout",
     "output_type": "stream",
     "text": [
      "<class 'pandas.core.frame.DataFrame'>\n",
      "Index: 1790351 entries, 0 to 1846362\n",
      "Data columns (total 7 columns):\n",
      " #   Column                 Dtype         \n",
      "---  ------                 -----         \n",
      " 0   tpep_pickup_datetime   datetime64[us]\n",
      " 1   tpep_dropoff_datetime  datetime64[us]\n",
      " 2   passenger_count        float64       \n",
      " 3   trip_distance          float64       \n",
      " 4   total_amount           float64       \n",
      " 5   Servicio               object        \n",
      " 6   Pickup_borough         object        \n",
      "dtypes: datetime64[us](2), float64(3), object(2)\n",
      "memory usage: 109.3+ MB\n"
     ]
    }
   ],
   "source": [
    "df_filtrado.info()"
   ]
  }
 ],
 "metadata": {
  "kernelspec": {
   "display_name": "Python 3",
   "language": "python",
   "name": "python3"
  },
  "language_info": {
   "codemirror_mode": {
    "name": "ipython",
    "version": 3
   },
   "file_extension": ".py",
   "mimetype": "text/x-python",
   "name": "python",
   "nbconvert_exporter": "python",
   "pygments_lexer": "ipython3",
   "version": "3.11.9"
  },
  "orig_nbformat": 4
 },
 "nbformat": 4,
 "nbformat_minor": 2
}
