{
 "cells": [
  {
   "cell_type": "code",
   "execution_count": 1,
   "metadata": {},
   "outputs": [],
   "source": [
    "import pandas as pd\n",
    "import matplotlib.pyplot as plt\n",
    "import seaborn as sns"
   ]
  },
  {
   "cell_type": "code",
   "execution_count": 31,
   "metadata": {},
   "outputs": [],
   "source": [
    "pd.set_option('display.float_format', '{:.2f}'.format)"
   ]
  },
  {
   "cell_type": "code",
   "execution_count": 2,
   "metadata": {},
   "outputs": [],
   "source": [
    "taxis2023 = pd.read_parquet('Data/Normalized/taxis_2023.parquet')"
   ]
  },
  {
   "cell_type": "markdown",
   "metadata": {},
   "source": [
    "**Preguntas a responder**\n",
    "\n",
    "¿Que cantidad de pasajeros frecuenta mas en los viajes?\n",
    "\n",
    "¿Cual es el servicio mas utilizado?\n",
    "\n",
    "¿Hay un servicio con mayor costo?\n",
    "\n",
    "¿Hay alguna relacion entre la distancia y el precio?\n",
    "\n",
    "¿Hay alguna relacion entre el tipo de servicio y el precio?\n",
    "\n",
    "¿Si hay mas pasajeros el precio es mas caro?\n",
    "\n",
    "¿Cual es la zona con mayor cantidad de viajes?\n"
   ]
  },
  {
   "cell_type": "markdown",
   "metadata": {},
   "source": [
    "A continuacion observamos el contenido del dataframe y los tipos de datos."
   ]
  },
  {
   "cell_type": "code",
   "execution_count": 3,
   "metadata": {},
   "outputs": [
    {
     "data": {
      "text/html": [
       "<div>\n",
       "<style scoped>\n",
       "    .dataframe tbody tr th:only-of-type {\n",
       "        vertical-align: middle;\n",
       "    }\n",
       "\n",
       "    .dataframe tbody tr th {\n",
       "        vertical-align: top;\n",
       "    }\n",
       "\n",
       "    .dataframe thead th {\n",
       "        text-align: right;\n",
       "    }\n",
       "</style>\n",
       "<table border=\"1\" class=\"dataframe\">\n",
       "  <thead>\n",
       "    <tr style=\"text-align: right;\">\n",
       "      <th></th>\n",
       "      <th>tpep_pickup_datetime</th>\n",
       "      <th>tpep_dropoff_datetime</th>\n",
       "      <th>passenger_count</th>\n",
       "      <th>trip_distance</th>\n",
       "      <th>total_amount</th>\n",
       "      <th>Servicio</th>\n",
       "      <th>Pickup_borough</th>\n",
       "    </tr>\n",
       "  </thead>\n",
       "  <tbody>\n",
       "    <tr>\n",
       "      <th>0</th>\n",
       "      <td>2023-01-01 00:26:10</td>\n",
       "      <td>2023-01-01 00:37:11</td>\n",
       "      <td>1.0</td>\n",
       "      <td>2.58</td>\n",
       "      <td>24.18</td>\n",
       "      <td>Green</td>\n",
       "      <td>Manhattan</td>\n",
       "    </tr>\n",
       "    <tr>\n",
       "      <th>1</th>\n",
       "      <td>2023-01-01 00:51:03</td>\n",
       "      <td>2023-01-01 00:57:49</td>\n",
       "      <td>1.0</td>\n",
       "      <td>1.81</td>\n",
       "      <td>15.84</td>\n",
       "      <td>Green</td>\n",
       "      <td>Manhattan</td>\n",
       "    </tr>\n",
       "    <tr>\n",
       "      <th>2</th>\n",
       "      <td>2023-01-01 00:35:12</td>\n",
       "      <td>2023-01-01 00:41:32</td>\n",
       "      <td>1.0</td>\n",
       "      <td>0.00</td>\n",
       "      <td>11.64</td>\n",
       "      <td>Green</td>\n",
       "      <td>Queens</td>\n",
       "    </tr>\n",
       "    <tr>\n",
       "      <th>3</th>\n",
       "      <td>2023-01-01 00:13:14</td>\n",
       "      <td>2023-01-01 00:19:03</td>\n",
       "      <td>1.0</td>\n",
       "      <td>1.30</td>\n",
       "      <td>10.20</td>\n",
       "      <td>Green</td>\n",
       "      <td>Manhattan</td>\n",
       "    </tr>\n",
       "    <tr>\n",
       "      <th>4</th>\n",
       "      <td>2023-01-01 00:33:04</td>\n",
       "      <td>2023-01-01 00:39:02</td>\n",
       "      <td>1.0</td>\n",
       "      <td>1.10</td>\n",
       "      <td>8.00</td>\n",
       "      <td>Green</td>\n",
       "      <td>Manhattan</td>\n",
       "    </tr>\n",
       "  </tbody>\n",
       "</table>\n",
       "</div>"
      ],
      "text/plain": [
       "  tpep_pickup_datetime tpep_dropoff_datetime  passenger_count  trip_distance  \\\n",
       "0  2023-01-01 00:26:10   2023-01-01 00:37:11              1.0           2.58   \n",
       "1  2023-01-01 00:51:03   2023-01-01 00:57:49              1.0           1.81   \n",
       "2  2023-01-01 00:35:12   2023-01-01 00:41:32              1.0           0.00   \n",
       "3  2023-01-01 00:13:14   2023-01-01 00:19:03              1.0           1.30   \n",
       "4  2023-01-01 00:33:04   2023-01-01 00:39:02              1.0           1.10   \n",
       "\n",
       "   total_amount Servicio Pickup_borough  \n",
       "0         24.18    Green      Manhattan  \n",
       "1         15.84    Green      Manhattan  \n",
       "2         11.64    Green         Queens  \n",
       "3         10.20    Green      Manhattan  \n",
       "4          8.00    Green      Manhattan  "
      ]
     },
     "execution_count": 3,
     "metadata": {},
     "output_type": "execute_result"
    }
   ],
   "source": [
    "taxis2023.head()"
   ]
  },
  {
   "cell_type": "code",
   "execution_count": 4,
   "metadata": {},
   "outputs": [
    {
     "data": {
      "text/html": [
       "<div>\n",
       "<style scoped>\n",
       "    .dataframe tbody tr th:only-of-type {\n",
       "        vertical-align: middle;\n",
       "    }\n",
       "\n",
       "    .dataframe tbody tr th {\n",
       "        vertical-align: top;\n",
       "    }\n",
       "\n",
       "    .dataframe thead th {\n",
       "        text-align: right;\n",
       "    }\n",
       "</style>\n",
       "<table border=\"1\" class=\"dataframe\">\n",
       "  <thead>\n",
       "    <tr style=\"text-align: right;\">\n",
       "      <th></th>\n",
       "      <th>Columna</th>\n",
       "      <th>Tipo</th>\n",
       "      <th>Nulos</th>\n",
       "      <th>Porcentaje</th>\n",
       "    </tr>\n",
       "  </thead>\n",
       "  <tbody>\n",
       "    <tr>\n",
       "      <th>0</th>\n",
       "      <td>tpep_pickup_datetime</td>\n",
       "      <td>datetime64[us]</td>\n",
       "      <td>0</td>\n",
       "      <td>0 %</td>\n",
       "    </tr>\n",
       "    <tr>\n",
       "      <th>1</th>\n",
       "      <td>tpep_dropoff_datetime</td>\n",
       "      <td>datetime64[us]</td>\n",
       "      <td>0</td>\n",
       "      <td>0 %</td>\n",
       "    </tr>\n",
       "    <tr>\n",
       "      <th>2</th>\n",
       "      <td>passenger_count</td>\n",
       "      <td>float64</td>\n",
       "      <td>38905</td>\n",
       "      <td>2 %</td>\n",
       "    </tr>\n",
       "    <tr>\n",
       "      <th>3</th>\n",
       "      <td>trip_distance</td>\n",
       "      <td>float64</td>\n",
       "      <td>0</td>\n",
       "      <td>0 %</td>\n",
       "    </tr>\n",
       "    <tr>\n",
       "      <th>4</th>\n",
       "      <td>total_amount</td>\n",
       "      <td>float64</td>\n",
       "      <td>0</td>\n",
       "      <td>0 %</td>\n",
       "    </tr>\n",
       "    <tr>\n",
       "      <th>5</th>\n",
       "      <td>Servicio</td>\n",
       "      <td>object</td>\n",
       "      <td>0</td>\n",
       "      <td>0 %</td>\n",
       "    </tr>\n",
       "    <tr>\n",
       "      <th>6</th>\n",
       "      <td>Pickup_borough</td>\n",
       "      <td>object</td>\n",
       "      <td>0</td>\n",
       "      <td>0 %</td>\n",
       "    </tr>\n",
       "  </tbody>\n",
       "</table>\n",
       "</div>"
      ],
      "text/plain": [
       "                 Columna            Tipo  Nulos Porcentaje\n",
       "0   tpep_pickup_datetime  datetime64[us]      0        0 %\n",
       "1  tpep_dropoff_datetime  datetime64[us]      0        0 %\n",
       "2        passenger_count         float64  38905        2 %\n",
       "3          trip_distance         float64      0        0 %\n",
       "4           total_amount         float64      0        0 %\n",
       "5               Servicio          object      0        0 %\n",
       "6         Pickup_borough          object      0        0 %"
      ]
     },
     "execution_count": 4,
     "metadata": {},
     "output_type": "execute_result"
    }
   ],
   "source": [
    "def data_characterics(dataframe):\n",
    "    list =[]\n",
    "    for columna in dataframe.columns:\n",
    "      type_data = dataframe[columna].dtypes\n",
    "      data_null = dataframe[columna].isnull().sum()\n",
    "      porcentaje = round((data_null / len(dataframe)) * 100)\n",
    "    \n",
    "      list.append({'Columna':columna,\n",
    "                   'Tipo':type_data,\n",
    "                   'Nulos':data_null,\n",
    "                    'Porcentaje':f'{porcentaje} %'} )\n",
    "      \n",
    "    return pd.DataFrame(list)\n",
    "  \n",
    "#Funcion para agregar etiqueta de magnitud a graficos de barras\n",
    "def ubication_label(grafico):\n",
    "  for p in grafico.patches:    \n",
    "    height = p.get_height() # Obtiene la altura (frecuencia) de la barra\n",
    "    pos_inicial_bar = p.get_x()\n",
    "    ancho_barra = p.get_width() / 1.8\n",
    "    \n",
    "    x_pos = pos_inicial_bar + ancho_barra #Posicion donde se coloca la etiqueta\n",
    "    y_pos = height # Ajuste de la posición vertical\n",
    "    \n",
    "    height = int(height)\n",
    "        # Agrega la etiqueta \n",
    "    grafico.annotate(f'{height}', (x_pos, y_pos), ha='center', va='bottom')\n",
    "\n",
    "data_characterics(taxis2023)"
   ]
  },
  {
   "cell_type": "code",
   "execution_count": 5,
   "metadata": {},
   "outputs": [
    {
     "data": {
      "text/plain": [
       "(1790351, 7)"
      ]
     },
     "execution_count": 5,
     "metadata": {},
     "output_type": "execute_result"
    }
   ],
   "source": [
    "#Elimina las filas donde passenger_count tiene data nula y 0\n",
    "taxis2023.dropna(subset=['passenger_count'],inplace=True)\n",
    "taxis2023.drop(taxis2023[taxis2023['passenger_count'] == 0].index, inplace=True)\n",
    "\n",
    "#Se cambia el tipo de dato a entero\n",
    "taxis2023['passenger_count'] = taxis2023['passenger_count'].astype(int)\n",
    "taxis2023.shape\n"
   ]
  },
  {
   "cell_type": "code",
   "execution_count": 6,
   "metadata": {},
   "outputs": [
    {
     "data": {
      "image/png": "[encoded data removed]",
      "text/plain": [
       "<Figure size 640x480 with 1 Axes>"
      ]
     },
     "metadata": {},
     "output_type": "display_data"
    }
   ],
   "source": [
    "\n",
    "categoricos = len(taxis2023.select_dtypes(exclude='float64').columns)\n",
    "numericos = len(taxis2023.select_dtypes(include='float64').columns)\n",
    "\n",
    "sns.barplot(x=['categoricas','Numericas'], y=[categoricos,numericos], \n",
    "            hue=['categoricas','Numericas'],width=0.5 )\n",
    "plt.title('Cantidad de variables')\n",
    "plt.show()"
   ]
  },
  {
   "cell_type": "markdown",
   "metadata": {},
   "source": [
    "El dataset cuenta con 7 columnas. Las columnas **tpep_pickup_datetime**, **tpep_dropoff_datetime** contienen datos sobre las fechas de inicio y fin del recorrido. Las columnas Numericas **passenger_count**, **trip_distance** y **total_amount**, contienen la cantidad de pasajeros, la distancia recorrida por viaje y el precio total del viaje.                                           Las columnas **Servicio** y **Pickup_borough** contienen datos sobre el tipo de taxi y el distrito donde comenzo el viaje."
   ]
  },
  {
   "cell_type": "code",
   "execution_count": 7,
   "metadata": {},
   "outputs": [
    {
     "data": {
      "image/png": "[encoded data removed]",
      "text/plain": [
       "<Figure size 640x480 with 1 Axes>"
      ]
     },
     "metadata": {},
     "output_type": "display_data"
    }
   ],
   "source": [
    "mes = taxis2023['tpep_dropoff_datetime'].dt.month\n",
    "sns.histplot(x=mes, discrete=True)\n",
    "plt.title('Distribucion de viajes por mes')\n",
    "plt.xlabel('Mes')\n",
    "plt.show()"
   ]
  },
  {
   "cell_type": "markdown",
   "metadata": {},
   "source": [
    "Se puede observar que los meses 3 y 5 contienen la mayor cantidad de viajes. Entre los meses 7 a 9 se observa una disminucion.\n",
    "\n",
    "#### **Analisis de passenger_count**"
   ]
  },
  {
   "cell_type": "code",
   "execution_count": 8,
   "metadata": {},
   "outputs": [
    {
     "data": {
      "text/plain": [
       "count    1.790351e+06\n",
       "mean     1.358126e+00\n",
       "std      9.037486e-01\n",
       "min      1.000000e+00\n",
       "25%      1.000000e+00\n",
       "50%      1.000000e+00\n",
       "75%      1.000000e+00\n",
       "max      9.000000e+00\n",
       "Name: passenger_count, dtype: float64"
      ]
     },
     "execution_count": 8,
     "metadata": {},
     "output_type": "execute_result"
    }
   ],
   "source": [
    "taxis2023['passenger_count'].describe()"
   ]
  },
  {
   "cell_type": "code",
   "execution_count": 9,
   "metadata": {},
   "outputs": [
    {
     "data": {
      "image/png": "[encoded data removed]",
      "text/plain": [
       "<Figure size 1000x600 with 2 Axes>"
      ]
     },
     "metadata": {},
     "output_type": "display_data"
    }
   ],
   "source": [
    "plt.figure(figsize=(10,6))\n",
    "plt.subplot(2,1,1)\n",
    "sns.histplot(data=taxis2023, x='passenger_count',discrete=True)\n",
    "plt.title('Distribucion de pasajeros')\n",
    "\n",
    "plt.subplot(2,1,2)\n",
    "sns.boxplot(data=taxis2023, x='passenger_count')\n",
    "plt.show()"
   ]
  },
  {
   "cell_type": "markdown",
   "metadata": {},
   "source": [
    "En el resumen estadistico vemos que el promedio de pasajeros es de 1.35, lo que indica que mayormente los viajes tienen 1 pasajero. El 75% de lo viajes tienen 1 pasajero.\n",
    "\n",
    "En el histograma se nota un sesgo a la derecha, lo que significa que la mayoria de los valores se concentran en la parte baja (en 1 pasajero).\n",
    "\n",
    "En el diagrama de cajas, la mediana se encuentra en 1 y la caja tambien, lo que indica que hay una muy baja variabilidad en los datos. Se puede observar que los valores mayores a 1 se visualizan como outliers esto es debido a la gran concentracion de valores en 1.\n",
    "\n",
    "#### **Analisis de trip_distance**"
   ]
  },
  {
   "cell_type": "code",
   "execution_count": 42,
   "metadata": {},
   "outputs": [
    {
     "name": "stdout",
     "output_type": "stream",
     "text": [
      "Estadísticas descriptivas de trip_distance :\n",
      "count   1756997.00\n",
      "mean          3.01\n",
      "std           3.57\n",
      "min           0.00\n",
      "25%           1.09\n",
      "50%           1.80\n",
      "75%           3.24\n",
      "max          59.90\n",
      "Name: trip_distance, dtype: float64\n"
     ]
    }
   ],
   "source": [
    "#sampled_data = taxis2023.sample(frac=0.1, random_state=42)\n",
    "# Comparar estadísticas descriptivas entre la muestra y el conjunto completo\n",
    "print(\"Estadísticas descriptivas de trip_distance :\")\n",
    "print(taxis2023['trip_distance'].describe())"
   ]
  },
  {
   "cell_type": "code",
   "execution_count": 12,
   "metadata": {},
   "outputs": [
    {
     "data": {
      "image/png": "[encoded data removed]",
      "text/plain": [
       "<Figure size 640x480 with 1 Axes>"
      ]
     },
     "metadata": {},
     "output_type": "display_data"
    }
   ],
   "source": [
    "sns.boxplot(data=taxis2023, x='trip_distance')\n",
    "plt.show()"
   ]
  },
  {
   "cell_type": "markdown",
   "metadata": {},
   "source": [
    "Al observar el boxplot de \"trip_distance\" se nota que hay algunos valores atipicos. A continuacion veremos esto con un poco mas de profundidad."
   ]
  },
  {
   "cell_type": "code",
   "execution_count": 13,
   "metadata": {},
   "outputs": [
    {
     "data": {
      "text/html": [
       "<div>\n",
       "<style scoped>\n",
       "    .dataframe tbody tr th:only-of-type {\n",
       "        vertical-align: middle;\n",
       "    }\n",
       "\n",
       "    .dataframe tbody tr th {\n",
       "        vertical-align: top;\n",
       "    }\n",
       "\n",
       "    .dataframe thead th {\n",
       "        text-align: right;\n",
       "    }\n",
       "</style>\n",
       "<table border=\"1\" class=\"dataframe\">\n",
       "  <thead>\n",
       "    <tr style=\"text-align: right;\">\n",
       "      <th></th>\n",
       "      <th>tpep_pickup_datetime</th>\n",
       "      <th>tpep_dropoff_datetime</th>\n",
       "      <th>passenger_count</th>\n",
       "      <th>trip_distance</th>\n",
       "      <th>total_amount</th>\n",
       "      <th>Servicio</th>\n",
       "      <th>Pickup_borough</th>\n",
       "    </tr>\n",
       "  </thead>\n",
       "  <tbody>\n",
       "    <tr>\n",
       "      <th>7135</th>\n",
       "      <td>2023-01-05 09:00:03</td>\n",
       "      <td>2023-01-05 15:18:38</td>\n",
       "      <td>1</td>\n",
       "      <td>66.18</td>\n",
       "      <td>18.75</td>\n",
       "      <td>Green</td>\n",
       "      <td>Queens</td>\n",
       "    </tr>\n",
       "    <tr>\n",
       "      <th>32577</th>\n",
       "      <td>2023-01-17 18:40:38</td>\n",
       "      <td>2023-01-17 19:04:45</td>\n",
       "      <td>1</td>\n",
       "      <td>1571.97</td>\n",
       "      <td>43.31</td>\n",
       "      <td>Green</td>\n",
       "      <td>Queens</td>\n",
       "    </tr>\n",
       "    <tr>\n",
       "      <th>81078</th>\n",
       "      <td>2023-02-09 18:53:47</td>\n",
       "      <td>2023-02-09 19:23:33</td>\n",
       "      <td>1</td>\n",
       "      <td>6470.33</td>\n",
       "      <td>39.60</td>\n",
       "      <td>Green</td>\n",
       "      <td>Queens</td>\n",
       "    </tr>\n",
       "    <tr>\n",
       "      <th>154756</th>\n",
       "      <td>2023-03-16 16:24:01</td>\n",
       "      <td>2023-03-16 21:57:56</td>\n",
       "      <td>1</td>\n",
       "      <td>73.30</td>\n",
       "      <td>433.25</td>\n",
       "      <td>Green</td>\n",
       "      <td>Manhattan</td>\n",
       "    </tr>\n",
       "    <tr>\n",
       "      <th>262923</th>\n",
       "      <td>2023-05-09 18:58:39</td>\n",
       "      <td>2023-05-09 19:23:17</td>\n",
       "      <td>1</td>\n",
       "      <td>16160.10</td>\n",
       "      <td>32.69</td>\n",
       "      <td>Green</td>\n",
       "      <td>Queens</td>\n",
       "    </tr>\n",
       "    <tr>\n",
       "      <th>...</th>\n",
       "      <td>...</td>\n",
       "      <td>...</td>\n",
       "      <td>...</td>\n",
       "      <td>...</td>\n",
       "      <td>...</td>\n",
       "      <td>...</td>\n",
       "      <td>...</td>\n",
       "    </tr>\n",
       "    <tr>\n",
       "      <th>1752398</th>\n",
       "      <td>2023-12-31 16:58:05</td>\n",
       "      <td>2023-12-31 18:25:40</td>\n",
       "      <td>1</td>\n",
       "      <td>72.20</td>\n",
       "      <td>307.75</td>\n",
       "      <td>Yellow</td>\n",
       "      <td>Queens</td>\n",
       "    </tr>\n",
       "    <tr>\n",
       "      <th>1793901</th>\n",
       "      <td>2023-12-21 15:22:52</td>\n",
       "      <td>2023-12-21 17:42:35</td>\n",
       "      <td>1</td>\n",
       "      <td>82.80</td>\n",
       "      <td>574.95</td>\n",
       "      <td>Yellow</td>\n",
       "      <td>Queens</td>\n",
       "    </tr>\n",
       "    <tr>\n",
       "      <th>1819489</th>\n",
       "      <td>2023-12-04 21:09:40</td>\n",
       "      <td>2023-12-04 22:06:12</td>\n",
       "      <td>1</td>\n",
       "      <td>74.51</td>\n",
       "      <td>-330.59</td>\n",
       "      <td>Yellow</td>\n",
       "      <td>Queens</td>\n",
       "    </tr>\n",
       "    <tr>\n",
       "      <th>1827592</th>\n",
       "      <td>2023-12-19 23:23:35</td>\n",
       "      <td>2023-12-20 00:56:08</td>\n",
       "      <td>1</td>\n",
       "      <td>70.57</td>\n",
       "      <td>426.78</td>\n",
       "      <td>Yellow</td>\n",
       "      <td>Queens</td>\n",
       "    </tr>\n",
       "    <tr>\n",
       "      <th>1841778</th>\n",
       "      <td>2023-12-15 14:08:54</td>\n",
       "      <td>2023-12-15 16:05:55</td>\n",
       "      <td>1</td>\n",
       "      <td>10754.47</td>\n",
       "      <td>87.69</td>\n",
       "      <td>Yellow</td>\n",
       "      <td>Queens</td>\n",
       "    </tr>\n",
       "  </tbody>\n",
       "</table>\n",
       "<p>93 rows × 7 columns</p>\n",
       "</div>"
      ],
      "text/plain": [
       "        tpep_pickup_datetime tpep_dropoff_datetime  passenger_count  \\\n",
       "7135     2023-01-05 09:00:03   2023-01-05 15:18:38                1   \n",
       "32577    2023-01-17 18:40:38   2023-01-17 19:04:45                1   \n",
       "81078    2023-02-09 18:53:47   2023-02-09 19:23:33                1   \n",
       "154756   2023-03-16 16:24:01   2023-03-16 21:57:56                1   \n",
       "262923   2023-05-09 18:58:39   2023-05-09 19:23:17                1   \n",
       "...                      ...                   ...              ...   \n",
       "1752398  2023-12-31 16:58:05   2023-12-31 18:25:40                1   \n",
       "1793901  2023-12-21 15:22:52   2023-12-21 17:42:35                1   \n",
       "1819489  2023-12-04 21:09:40   2023-12-04 22:06:12                1   \n",
       "1827592  2023-12-19 23:23:35   2023-12-20 00:56:08                1   \n",
       "1841778  2023-12-15 14:08:54   2023-12-15 16:05:55                1   \n",
       "\n",
       "         trip_distance  total_amount Servicio Pickup_borough  \n",
       "7135             66.18         18.75    Green         Queens  \n",
       "32577          1571.97         43.31    Green         Queens  \n",
       "81078          6470.33         39.60    Green         Queens  \n",
       "154756           73.30        433.25    Green      Manhattan  \n",
       "262923        16160.10         32.69    Green         Queens  \n",
       "...                ...           ...      ...            ...  \n",
       "1752398          72.20        307.75   Yellow         Queens  \n",
       "1793901          82.80        574.95   Yellow         Queens  \n",
       "1819489          74.51       -330.59   Yellow         Queens  \n",
       "1827592          70.57        426.78   Yellow         Queens  \n",
       "1841778       10754.47         87.69   Yellow         Queens  \n",
       "\n",
       "[93 rows x 7 columns]"
      ]
     },
     "execution_count": 13,
     "metadata": {},
     "output_type": "execute_result"
    }
   ],
   "source": [
    "outliers =taxis2023[taxis2023['trip_distance'] > 65]\n",
    "outliers"
   ]
  },
  {
   "cell_type": "code",
   "execution_count": 14,
   "metadata": {},
   "outputs": [
    {
     "name": "stdout",
     "output_type": "stream",
     "text": [
      "93\n"
     ]
    }
   ],
   "source": [
    "print(len(outliers))"
   ]
  },
  {
   "cell_type": "markdown",
   "metadata": {},
   "source": [
    "Luego de investigar sobre las distancias entre los diferentes distritos, llegamos a la conclusion de que los valores atipicos son aquellos mayores a 65 millas. Encontramos 93, los cuales seran eliminados a continuacion."
   ]
  },
  {
   "cell_type": "code",
   "execution_count": 15,
   "metadata": {},
   "outputs": [],
   "source": [
    "taxis2023.drop(taxis2023[taxis2023['trip_distance'] > 60].index, inplace=True)"
   ]
  },
  {
   "cell_type": "code",
   "execution_count": 43,
   "metadata": {},
   "outputs": [
    {
     "name": "stdout",
     "output_type": "stream",
     "text": [
      "count   1756997.00\n",
      "mean          3.01\n",
      "std           3.57\n",
      "min           0.00\n",
      "25%           1.09\n",
      "50%           1.80\n",
      "75%           3.24\n",
      "max          59.90\n",
      "Name: trip_distance, dtype: float64\n"
     ]
    },
    {
     "data": {
      "image/png": "[encoded data removed]",
      "text/plain": [
       "<Figure size 640x480 with 1 Axes>"
      ]
     },
     "metadata": {},
     "output_type": "display_data"
    }
   ],
   "source": [
    "print(taxis2023['trip_distance'].describe())\n",
    "sns.boxplot(data=taxis2023, x='trip_distance')\n",
    "plt.show()"
   ]
  },
  {
   "cell_type": "markdown",
   "metadata": {},
   "source": [
    "Al observar el diagrama con los datos considerados outliers eliminados. Podemos ver que los mayores a 8 tambien los considera outliers, esto es debido a que la mayor cantidad de valores se concentran entre 0 y 7.\n",
    "\n",
    "\n",
    "La mediana, es de 1.8 millas lo que indica que el 50% de los viajes tienen una distancia igual o menor a 1.8 millas. El 75% de los datos son menores a 3.25 millas\n",
    "\n",
    "\n",
    "#### **Analisis de total_amount**\n"
   ]
  },
  {
   "cell_type": "code",
   "execution_count": 40,
   "metadata": {},
   "outputs": [
    {
     "name": "stdout",
     "output_type": "stream",
     "text": [
      "Estadísticas descriptivas de total_amout:\n",
      "count   1756997.00\n",
      "mean         25.53\n",
      "std          17.62\n",
      "min           0.00\n",
      "25%          14.88\n",
      "50%          20.00\n",
      "75%          28.88\n",
      "max         100.00\n",
      "Name: total_amount, dtype: float64\n"
     ]
    }
   ],
   "source": [
    "print(\"Estadísticas descriptivas de total_amout:\")\n",
    "print(taxis2023['total_amount'].describe())"
   ]
  },
  {
   "cell_type": "markdown",
   "metadata": {},
   "source": [
    "Al observar las estadisticas notamos que hay precios menores a cero, estos seran eliminados y se dejara como valor minimo el cero."
   ]
  },
  {
   "cell_type": "code",
   "execution_count": 27,
   "metadata": {},
   "outputs": [],
   "source": [
    "taxis2023.drop(taxis2023[taxis2023['total_amount']<0].index,inplace=True)"
   ]
  },
  {
   "cell_type": "code",
   "execution_count": 32,
   "metadata": {},
   "outputs": [
    {
     "data": {
      "image/png": "[encoded data removed]",
      "text/plain": [
       "<Figure size 640x480 with 1 Axes>"
      ]
     },
     "metadata": {},
     "output_type": "display_data"
    }
   ],
   "source": [
    "sns.boxplot(data=taxis2023, x='total_amount')\n",
    "plt.show()"
   ]
  },
  {
   "cell_type": "markdown",
   "metadata": {},
   "source": [
    "Al visualizar el diagrama de cajas, podemos notar la presencia de varios valores atipicos, a continuacion los veremos con mas detalle."
   ]
  },
  {
   "cell_type": "code",
   "execution_count": 37,
   "metadata": {},
   "outputs": [
    {
     "data": {
      "text/html": [
       "<div>\n",
       "<style scoped>\n",
       "    .dataframe tbody tr th:only-of-type {\n",
       "        vertical-align: middle;\n",
       "    }\n",
       "\n",
       "    .dataframe tbody tr th {\n",
       "        vertical-align: top;\n",
       "    }\n",
       "\n",
       "    .dataframe thead th {\n",
       "        text-align: right;\n",
       "    }\n",
       "</style>\n",
       "<table border=\"1\" class=\"dataframe\">\n",
       "  <thead>\n",
       "    <tr style=\"text-align: right;\">\n",
       "      <th></th>\n",
       "      <th>tpep_pickup_datetime</th>\n",
       "      <th>tpep_dropoff_datetime</th>\n",
       "      <th>passenger_count</th>\n",
       "      <th>trip_distance</th>\n",
       "      <th>total_amount</th>\n",
       "      <th>Servicio</th>\n",
       "      <th>Pickup_borough</th>\n",
       "    </tr>\n",
       "  </thead>\n",
       "  <tbody>\n",
       "    <tr>\n",
       "      <th>102</th>\n",
       "      <td>2023-01-01 01:11:01</td>\n",
       "      <td>2023-01-01 01:11:06</td>\n",
       "      <td>2</td>\n",
       "      <td>0.01</td>\n",
       "      <td>191.00</td>\n",
       "      <td>Green</td>\n",
       "      <td>Queens</td>\n",
       "    </tr>\n",
       "    <tr>\n",
       "      <th>159</th>\n",
       "      <td>2023-01-01 01:59:48</td>\n",
       "      <td>2023-01-01 01:59:51</td>\n",
       "      <td>2</td>\n",
       "      <td>0.09</td>\n",
       "      <td>120.36</td>\n",
       "      <td>Green</td>\n",
       "      <td>Brooklyn</td>\n",
       "    </tr>\n",
       "    <tr>\n",
       "      <th>179</th>\n",
       "      <td>2023-01-01 02:09:48</td>\n",
       "      <td>2023-01-01 02:11:34</td>\n",
       "      <td>1</td>\n",
       "      <td>0.00</td>\n",
       "      <td>111.00</td>\n",
       "      <td>Green</td>\n",
       "      <td>Queens</td>\n",
       "    </tr>\n",
       "    <tr>\n",
       "      <th>443</th>\n",
       "      <td>2023-01-01 11:41:18</td>\n",
       "      <td>2023-01-01 12:22:07</td>\n",
       "      <td>1</td>\n",
       "      <td>12.37</td>\n",
       "      <td>107.46</td>\n",
       "      <td>Green</td>\n",
       "      <td>Brooklyn</td>\n",
       "    </tr>\n",
       "    <tr>\n",
       "      <th>538</th>\n",
       "      <td>2023-01-01 13:07:46</td>\n",
       "      <td>2023-01-01 19:45:18</td>\n",
       "      <td>1</td>\n",
       "      <td>16.00</td>\n",
       "      <td>294.30</td>\n",
       "      <td>Green</td>\n",
       "      <td>Queens</td>\n",
       "    </tr>\n",
       "    <tr>\n",
       "      <th>...</th>\n",
       "      <td>...</td>\n",
       "      <td>...</td>\n",
       "      <td>...</td>\n",
       "      <td>...</td>\n",
       "      <td>...</td>\n",
       "      <td>...</td>\n",
       "      <td>...</td>\n",
       "    </tr>\n",
       "    <tr>\n",
       "      <th>1845851</th>\n",
       "      <td>2023-12-14 11:32:45</td>\n",
       "      <td>2023-12-14 12:31:01</td>\n",
       "      <td>1</td>\n",
       "      <td>12.98</td>\n",
       "      <td>102.60</td>\n",
       "      <td>Yellow</td>\n",
       "      <td>Queens</td>\n",
       "    </tr>\n",
       "    <tr>\n",
       "      <th>1846048</th>\n",
       "      <td>2023-12-07 15:10:32</td>\n",
       "      <td>2023-12-07 17:11:20</td>\n",
       "      <td>4</td>\n",
       "      <td>19.03</td>\n",
       "      <td>144.03</td>\n",
       "      <td>Yellow</td>\n",
       "      <td>Queens</td>\n",
       "    </tr>\n",
       "    <tr>\n",
       "      <th>1846291</th>\n",
       "      <td>2023-12-04 13:39:51</td>\n",
       "      <td>2023-12-04 14:34:19</td>\n",
       "      <td>1</td>\n",
       "      <td>21.35</td>\n",
       "      <td>105.46</td>\n",
       "      <td>Yellow</td>\n",
       "      <td>Manhattan</td>\n",
       "    </tr>\n",
       "    <tr>\n",
       "      <th>1846299</th>\n",
       "      <td>2023-12-17 15:58:50</td>\n",
       "      <td>2023-12-17 16:26:35</td>\n",
       "      <td>4</td>\n",
       "      <td>10.05</td>\n",
       "      <td>120.00</td>\n",
       "      <td>Yellow</td>\n",
       "      <td>Queens</td>\n",
       "    </tr>\n",
       "    <tr>\n",
       "      <th>1846331</th>\n",
       "      <td>2023-12-11 19:11:58</td>\n",
       "      <td>2023-12-11 19:53:22</td>\n",
       "      <td>1</td>\n",
       "      <td>17.70</td>\n",
       "      <td>105.19</td>\n",
       "      <td>Yellow</td>\n",
       "      <td>Queens</td>\n",
       "    </tr>\n",
       "  </tbody>\n",
       "</table>\n",
       "<p>19925 rows × 7 columns</p>\n",
       "</div>"
      ],
      "text/plain": [
       "        tpep_pickup_datetime tpep_dropoff_datetime  passenger_count  \\\n",
       "102      2023-01-01 01:11:01   2023-01-01 01:11:06                2   \n",
       "159      2023-01-01 01:59:48   2023-01-01 01:59:51                2   \n",
       "179      2023-01-01 02:09:48   2023-01-01 02:11:34                1   \n",
       "443      2023-01-01 11:41:18   2023-01-01 12:22:07                1   \n",
       "538      2023-01-01 13:07:46   2023-01-01 19:45:18                1   \n",
       "...                      ...                   ...              ...   \n",
       "1845851  2023-12-14 11:32:45   2023-12-14 12:31:01                1   \n",
       "1846048  2023-12-07 15:10:32   2023-12-07 17:11:20                4   \n",
       "1846291  2023-12-04 13:39:51   2023-12-04 14:34:19                1   \n",
       "1846299  2023-12-17 15:58:50   2023-12-17 16:26:35                4   \n",
       "1846331  2023-12-11 19:11:58   2023-12-11 19:53:22                1   \n",
       "\n",
       "         trip_distance  total_amount Servicio Pickup_borough  \n",
       "102               0.01        191.00    Green         Queens  \n",
       "159               0.09        120.36    Green       Brooklyn  \n",
       "179               0.00        111.00    Green         Queens  \n",
       "443              12.37        107.46    Green       Brooklyn  \n",
       "538              16.00        294.30    Green         Queens  \n",
       "...                ...           ...      ...            ...  \n",
       "1845851          12.98        102.60   Yellow         Queens  \n",
       "1846048          19.03        144.03   Yellow         Queens  \n",
       "1846291          21.35        105.46   Yellow      Manhattan  \n",
       "1846299          10.05        120.00   Yellow         Queens  \n",
       "1846331          17.70        105.19   Yellow         Queens  \n",
       "\n",
       "[19925 rows x 7 columns]"
      ]
     },
     "execution_count": 37,
     "metadata": {},
     "output_type": "execute_result"
    }
   ],
   "source": [
    "taxis2023[taxis2023['total_amount']>100]"
   ]
  },
  {
   "cell_type": "markdown",
   "metadata": {},
   "source": [
    "tomaremos como valores atipicos, aquellos precios mayores a 100 dolares, podemos ver que hay un total de 19925. Estas filas seran eliminadas."
   ]
  },
  {
   "cell_type": "code",
   "execution_count": 41,
   "metadata": {},
   "outputs": [
    {
     "name": "stdout",
     "output_type": "stream",
     "text": [
      "count   1756997.00\n",
      "mean         25.53\n",
      "std          17.62\n",
      "min           0.00\n",
      "25%          14.88\n",
      "50%          20.00\n",
      "75%          28.88\n",
      "max         100.00\n",
      "Name: total_amount, dtype: float64\n"
     ]
    },
    {
     "data": {
      "image/png": "[encoded data removed]",
      "text/plain": [
       "<Figure size 640x480 with 1 Axes>"
      ]
     },
     "metadata": {},
     "output_type": "display_data"
    }
   ],
   "source": [
    "taxis2023.drop(taxis2023[taxis2023['total_amount'] > 100].index, inplace=True)\n",
    "print(taxis2023['total_amount'].describe())\n",
    "sns.boxplot(data=taxis2023, x='total_amount')\n",
    "plt.show()"
   ]
  },
  {
   "cell_type": "markdown",
   "metadata": {},
   "source": [
    "El promedio del precio de los viajes es de 25.5 dolares. La mediana es 20, lo que indica que el 50% de los viajes cuestan 20 dolares o menos. \n"
   ]
  },
  {
   "cell_type": "code",
   "execution_count": 19,
   "metadata": {},
   "outputs": [
    {
     "data": {
      "image/png": "[encoded data removed]",
      "text/plain": [
       "<Figure size 640x480 with 1 Axes>"
      ]
     },
     "metadata": {},
     "output_type": "display_data"
    }
   ],
   "source": [
    "filtrado = taxis2023[taxis2023['passenger_count'] != 0.0]\n",
    "pasajeros =filtrado['passenger_count'].value_counts()\n",
    "\n",
    "graphic = sns.barplot(x=pasajeros.index, y=pasajeros.values,\n",
    "                      hue=pasajeros.index, palette='viridis')\n",
    "ubication_label(graphic)\n",
    "plt.title('Frecuencia de pasajeros por viaje')\n",
    "plt.xlabel('Cantidad de pasajeros')\n",
    "plt.show()"
   ]
  },
  {
   "cell_type": "markdown",
   "metadata": {},
   "source": [
    "Se observa que los viajes tienen entre 1 y 9 pasajeros. La gran mayoría tiene solo 1 pasajero, con una frecuencia ampliamente superior al resto, totalizando 1,431,977 viajes. Le siguen los viajes con 2 pasajeros, con un total de 227,189, una frecuencia mucho menor. En el último puesto se encuentran los viajes con 9 pasajeros, con tan solo 15."
   ]
  },
  {
   "cell_type": "code",
   "execution_count": 20,
   "metadata": {},
   "outputs": [],
   "source": [
    "#sns.pairplot(data= taxis2023)"
   ]
  }
 ],
 "metadata": {
  "kernelspec": {
   "display_name": "Python 3",
   "language": "python",
   "name": "python3"
  },
  "language_info": {
   "codemirror_mode": {
    "name": "ipython",
    "version": 3
   },
   "file_extension": ".py",
   "mimetype": "text/x-python",
   "name": "python",
   "nbconvert_exporter": "python",
   "pygments_lexer": "ipython3",
   "version": "3.10.11"
  }
 },
 "nbformat": 4,
 "nbformat_minor": 2
}
